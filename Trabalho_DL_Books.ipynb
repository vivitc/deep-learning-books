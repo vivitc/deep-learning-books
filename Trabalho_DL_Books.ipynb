{
  "nbformat": 4,
  "nbformat_minor": 0,
  "metadata": {
    "accelerator": "GPU",
    "colab": {
      "name": "Trabalho_DL_Books.ipynb",
      "provenance": [],
      "collapsed_sections": [],
      "include_colab_link": true
    },
    "kernelspec": {
      "display_name": "Python 3",
      "language": "python",
      "name": "python3"
    },
    "language_info": {
      "codemirror_mode": {
        "name": "ipython",
        "version": 3
      },
      "file_extension": ".py",
      "mimetype": "text/x-python",
      "name": "python",
      "nbconvert_exporter": "python",
      "pygments_lexer": "ipython3",
      "version": "3.7.4"
    }
  },
  "cells": [
    {
      "cell_type": "markdown",
      "metadata": {
        "id": "view-in-github",
        "colab_type": "text"
      },
      "source": [
        "<a href=\"https://colab.research.google.com/github/vivitc/deep-learning-books/blob/master/Trabalho_DL_Books.ipynb\" target=\"_parent\"><img src=\"https://colab.research.google.com/assets/colab-badge.svg\" alt=\"Open In Colab\"/></a>"
      ]
    },
    {
      "cell_type": "markdown",
      "metadata": {
        "colab_type": "text",
        "id": "KlcibMKA_a-j"
      },
      "source": [
        "# **Trabalho Deep Learning - Filtragem colaborativa com avaliações de livros**\n",
        "## Grupo 7\n",
        "### - Amanda Ely Patzer\n",
        "### - James La Rosa\n",
        "### - Roger William Calderini\n",
        "### - Vinícius D`Ambros\n",
        "### - Viviana Terceros Cordova"
      ]
    },
    {
      "cell_type": "markdown",
      "metadata": {
        "colab_type": "text",
        "id": "TqWhkCoq_jyp"
      },
      "source": [
        "Neste notebook, desenvolveremos o trabalho com foco em um sistema de recomendação de livros por meio de Deep Learning (\"DL\") com a utilização das seguintes metodologias: \n",
        "\n",
        "- Filtragem Colaborativa com **XX** técnica (a qual possui foco na interação entre usuários e conteúdos, efetuando recomendações com base na atribuição de ratings/pontuações aos conteúdos consumidos); e\n",
        "- Filtragem Colaborativa com **YY** técnica (a qual possui foco na interação entre usuários e conteúdos, efetuando recomendações com base na atribuição de ratings/pontuações aos conteúdos consumidos); e\n",
        "\n",
        "Com isso, busca-se desenvolver um modelo de recomendação para usuários dos Estados Unidos (USA) que leve em consideração a filtragem colaborativa (avaliações de cada usuário) e **YYY**, entendendo qual técnica tem mais assertividade.\n",
        "\n",
        "A base de dados selecionada foi a seguinte: http://www2.informatik.uni-freiburg.de/~cziegler/BX/. Todavia, ao analisarmos os dados por completo e executar uma técnica de machine learning, o código crashed devido ao excesso de dados. Por isso, para compararmos qual método é mais eficaz, aplicou-se o corte de país USA e considerando apenas as avaliações explícitas (1-10), removendo registros com 0.\n"
      ]
    },
    {
      "cell_type": "markdown",
      "metadata": {
        "colab_type": "text",
        "id": "e_dF-ncpwPb9"
      },
      "source": [
        "## 0. Importação das bibliotecas\n",
        "\n",
        "Upload das bibliotecas que serão utilizadas"
      ]
    },
    {
      "cell_type": "code",
      "metadata": {
        "colab_type": "code",
        "id": "T27iBThwIlkK",
        "colab": {
          "base_uri": "https://localhost:8080/",
          "height": 255
        },
        "outputId": "7833e4cc-3799-416f-a88b-d785cae8b1ce"
      },
      "source": [
        "from keras.layers import Input, Dense, Conv2D, MaxPooling2D, UpSampling2D\n",
        "from keras.models import Sequential\n",
        "from keras.datasets import mnist\n",
        "\n",
        "#Visualização\n",
        "import seaborn as sns\n",
        "sns.set(style='white', context='notebook', palette='pastel')\n",
        "#Visualização dos dados\n",
        "import matplotlib.pyplot as plt\n",
        "\n",
        "#Used for distribution fitting, and representation\n",
        "from scipy import stats\n",
        "\n",
        "#Time measuring for model training\n",
        "from time import time\n",
        "\n",
        "#dependência do matplotlib\n",
        "!pip install msgpack \n",
        "#instalação do pacote matplotlib\n",
        "!pip install matplotlib  \n",
        "import matplotlib.pyplot as plt \n",
        "import pandas as pd  \n",
        "import statsmodels.api as sm  \n",
        "import pylab as pl  \n",
        "import numpy as np  \n",
        "from patsy import dmatrix  \n",
        "\n",
        "!pip install wordcloud\n",
        "from os import path\n",
        "from PIL import Image\n",
        "\n",
        "import sklearn as sk\n",
        "from sklearn.preprocessing import LabelEncoder\n",
        "from sklearn.model_selection import train_test_split\n",
        "from sklearn.linear_model import LogisticRegression\n",
        "from sklearn.metrics import confusion_matrix\n",
        "from sklearn.metrics import accuracy_score\n",
        "from sklearn.metrics import roc_curve, auc"
      ],
      "execution_count": 1,
      "outputs": [
        {
          "output_type": "stream",
          "text": [
            "Using TensorFlow backend.\n",
            "/usr/local/lib/python3.6/dist-packages/statsmodels/tools/_testing.py:19: FutureWarning: pandas.util.testing is deprecated. Use the functions in the public API at pandas.testing instead.\n",
            "  import pandas.util.testing as tm\n"
          ],
          "name": "stderr"
        },
        {
          "output_type": "stream",
          "text": [
            "Requirement already satisfied: msgpack in /usr/local/lib/python3.6/dist-packages (1.0.0)\n",
            "Requirement already satisfied: matplotlib in /usr/local/lib/python3.6/dist-packages (3.2.2)\n",
            "Requirement already satisfied: python-dateutil>=2.1 in /usr/local/lib/python3.6/dist-packages (from matplotlib) (2.8.1)\n",
            "Requirement already satisfied: numpy>=1.11 in /usr/local/lib/python3.6/dist-packages (from matplotlib) (1.18.5)\n",
            "Requirement already satisfied: cycler>=0.10 in /usr/local/lib/python3.6/dist-packages (from matplotlib) (0.10.0)\n",
            "Requirement already satisfied: pyparsing!=2.0.4,!=2.1.2,!=2.1.6,>=2.0.1 in /usr/local/lib/python3.6/dist-packages (from matplotlib) (2.4.7)\n",
            "Requirement already satisfied: kiwisolver>=1.0.1 in /usr/local/lib/python3.6/dist-packages (from matplotlib) (1.2.0)\n",
            "Requirement already satisfied: six>=1.5 in /usr/local/lib/python3.6/dist-packages (from python-dateutil>=2.1->matplotlib) (1.12.0)\n",
            "Requirement already satisfied: wordcloud in /usr/local/lib/python3.6/dist-packages (1.5.0)\n",
            "Requirement already satisfied: numpy>=1.6.1 in /usr/local/lib/python3.6/dist-packages (from wordcloud) (1.18.5)\n",
            "Requirement already satisfied: pillow in /usr/local/lib/python3.6/dist-packages (from wordcloud) (7.0.0)\n"
          ],
          "name": "stdout"
        }
      ]
    },
    {
      "cell_type": "markdown",
      "metadata": {
        "colab_type": "text",
        "id": "CAQC343gt22o"
      },
      "source": [
        "## 1. Upload da base\n",
        "\n",
        "Aqui, vamos subir a base "
      ]
    },
    {
      "cell_type": "code",
      "metadata": {
        "colab_type": "code",
        "id": "DzcD6O9OuYiH",
        "colab": {}
      },
      "source": [
        "import pandas as pd  \n",
        "url_book_rating = 'https://raw.githubusercontent.com/vivitc/deep-learning-books/master/data/BX-Book-Ratings01.csv'\n",
        "df_book_rating = pd.read_csv(url_book_rating, delimiter=\";\", encoding=\"latin1\")"
      ],
      "execution_count": 2,
      "outputs": []
    },
    {
      "cell_type": "code",
      "metadata": {
        "id": "2DY3JxyCZSaz",
        "colab_type": "code",
        "colab": {
          "base_uri": "https://localhost:8080/",
          "height": 419
        },
        "outputId": "75d1871c-3d49-4cc7-8fd8-f1c029bf1526"
      },
      "source": [
        "display(df_book_rating)"
      ],
      "execution_count": 3,
      "outputs": [
        {
          "output_type": "display_data",
          "data": {
            "text/html": [
              "<div>\n",
              "<style scoped>\n",
              "    .dataframe tbody tr th:only-of-type {\n",
              "        vertical-align: middle;\n",
              "    }\n",
              "\n",
              "    .dataframe tbody tr th {\n",
              "        vertical-align: top;\n",
              "    }\n",
              "\n",
              "    .dataframe thead th {\n",
              "        text-align: right;\n",
              "    }\n",
              "</style>\n",
              "<table border=\"1\" class=\"dataframe\">\n",
              "  <thead>\n",
              "    <tr style=\"text-align: right;\">\n",
              "      <th></th>\n",
              "      <th>User-ID</th>\n",
              "      <th>ISBN</th>\n",
              "      <th>Book-Rating</th>\n",
              "    </tr>\n",
              "  </thead>\n",
              "  <tbody>\n",
              "    <tr>\n",
              "      <th>0</th>\n",
              "      <td>276725</td>\n",
              "      <td>034545104X</td>\n",
              "      <td>0</td>\n",
              "    </tr>\n",
              "    <tr>\n",
              "      <th>1</th>\n",
              "      <td>276726</td>\n",
              "      <td>0155061224</td>\n",
              "      <td>5</td>\n",
              "    </tr>\n",
              "    <tr>\n",
              "      <th>2</th>\n",
              "      <td>276727</td>\n",
              "      <td>0446520802</td>\n",
              "      <td>0</td>\n",
              "    </tr>\n",
              "    <tr>\n",
              "      <th>3</th>\n",
              "      <td>276729</td>\n",
              "      <td>052165615X</td>\n",
              "      <td>3</td>\n",
              "    </tr>\n",
              "    <tr>\n",
              "      <th>4</th>\n",
              "      <td>276729</td>\n",
              "      <td>0521795028</td>\n",
              "      <td>6</td>\n",
              "    </tr>\n",
              "    <tr>\n",
              "      <th>...</th>\n",
              "      <td>...</td>\n",
              "      <td>...</td>\n",
              "      <td>...</td>\n",
              "    </tr>\n",
              "    <tr>\n",
              "      <th>1149775</th>\n",
              "      <td>276704</td>\n",
              "      <td>1563526298</td>\n",
              "      <td>9</td>\n",
              "    </tr>\n",
              "    <tr>\n",
              "      <th>1149776</th>\n",
              "      <td>276706</td>\n",
              "      <td>0679447156</td>\n",
              "      <td>0</td>\n",
              "    </tr>\n",
              "    <tr>\n",
              "      <th>1149777</th>\n",
              "      <td>276709</td>\n",
              "      <td>0515107662</td>\n",
              "      <td>10</td>\n",
              "    </tr>\n",
              "    <tr>\n",
              "      <th>1149778</th>\n",
              "      <td>276721</td>\n",
              "      <td>0590442449</td>\n",
              "      <td>10</td>\n",
              "    </tr>\n",
              "    <tr>\n",
              "      <th>1149779</th>\n",
              "      <td>276723</td>\n",
              "      <td>05162443314</td>\n",
              "      <td>8</td>\n",
              "    </tr>\n",
              "  </tbody>\n",
              "</table>\n",
              "<p>1149780 rows × 3 columns</p>\n",
              "</div>"
            ],
            "text/plain": [
              "         User-ID         ISBN  Book-Rating\n",
              "0         276725   034545104X            0\n",
              "1         276726   0155061224            5\n",
              "2         276727   0446520802            0\n",
              "3         276729   052165615X            3\n",
              "4         276729   0521795028            6\n",
              "...          ...          ...          ...\n",
              "1149775   276704   1563526298            9\n",
              "1149776   276706   0679447156            0\n",
              "1149777   276709   0515107662           10\n",
              "1149778   276721   0590442449           10\n",
              "1149779   276723  05162443314            8\n",
              "\n",
              "[1149780 rows x 3 columns]"
            ]
          },
          "metadata": {
            "tags": []
          }
        }
      ]
    },
    {
      "cell_type": "code",
      "metadata": {
        "id": "TGacM2f_fk7_",
        "colab_type": "code",
        "colab": {}
      },
      "source": [
        "import pandas as pd  \n",
        "url_book = 'https://raw.githubusercontent.com/vivitc/deep-learning-books/master/data/BX-Books01.csv'\n",
        "df_book = pd.read_csv(url_book, delimiter=\";\", encoding=\"latin1\")"
      ],
      "execution_count": 4,
      "outputs": []
    },
    {
      "cell_type": "code",
      "metadata": {
        "id": "IDtwDFaWZgau",
        "colab_type": "code",
        "colab": {
          "base_uri": "https://localhost:8080/",
          "height": 881
        },
        "outputId": "5292491a-ad84-4798-8c1f-81f1c540596d"
      },
      "source": [
        "display(df_book)"
      ],
      "execution_count": 25,
      "outputs": [
        {
          "output_type": "display_data",
          "data": {
            "text/html": [
              "<div>\n",
              "<style scoped>\n",
              "    .dataframe tbody tr th:only-of-type {\n",
              "        vertical-align: middle;\n",
              "    }\n",
              "\n",
              "    .dataframe tbody tr th {\n",
              "        vertical-align: top;\n",
              "    }\n",
              "\n",
              "    .dataframe thead th {\n",
              "        text-align: right;\n",
              "    }\n",
              "</style>\n",
              "<table border=\"1\" class=\"dataframe\">\n",
              "  <thead>\n",
              "    <tr style=\"text-align: right;\">\n",
              "      <th></th>\n",
              "      <th>ISBN</th>\n",
              "      <th>Book-Title</th>\n",
              "      <th>Book-Author</th>\n",
              "      <th>Year-Of-Publication</th>\n",
              "      <th>Publisher</th>\n",
              "      <th>Image-URL-S</th>\n",
              "      <th>Image-URL-M</th>\n",
              "      <th>Image-URL-L</th>\n",
              "    </tr>\n",
              "  </thead>\n",
              "  <tbody>\n",
              "    <tr>\n",
              "      <th>0</th>\n",
              "      <td>195153448</td>\n",
              "      <td>Classical Mythology</td>\n",
              "      <td>Mark P. O. Morford</td>\n",
              "      <td>2002</td>\n",
              "      <td>Oxford University Press</td>\n",
              "      <td>http://images.amazon.com/images/P/0195153448.0...</td>\n",
              "      <td>http://images.amazon.com/images/P/0195153448.0...</td>\n",
              "      <td>http://images.amazon.com/images/P/0195153448.0...</td>\n",
              "    </tr>\n",
              "    <tr>\n",
              "      <th>1</th>\n",
              "      <td>2005018</td>\n",
              "      <td>Clara Callan</td>\n",
              "      <td>Richard Bruce Wright</td>\n",
              "      <td>2001</td>\n",
              "      <td>HarperFlamingo Canada</td>\n",
              "      <td>http://images.amazon.com/images/P/0002005018.0...</td>\n",
              "      <td>http://images.amazon.com/images/P/0002005018.0...</td>\n",
              "      <td>http://images.amazon.com/images/P/0002005018.0...</td>\n",
              "    </tr>\n",
              "    <tr>\n",
              "      <th>2</th>\n",
              "      <td>60973129</td>\n",
              "      <td>Decision in Normandy</td>\n",
              "      <td>Carlo D'Este</td>\n",
              "      <td>1991</td>\n",
              "      <td>HarperPerennial</td>\n",
              "      <td>http://images.amazon.com/images/P/0060973129.0...</td>\n",
              "      <td>http://images.amazon.com/images/P/0060973129.0...</td>\n",
              "      <td>http://images.amazon.com/images/P/0060973129.0...</td>\n",
              "    </tr>\n",
              "    <tr>\n",
              "      <th>3</th>\n",
              "      <td>374157065</td>\n",
              "      <td>Flu: The Story of the Great Influenza Pandemic...</td>\n",
              "      <td>Gina Bari Kolata</td>\n",
              "      <td>1999</td>\n",
              "      <td>Farrar Straus Giroux</td>\n",
              "      <td>http://images.amazon.com/images/P/0374157065.0...</td>\n",
              "      <td>http://images.amazon.com/images/P/0374157065.0...</td>\n",
              "      <td>http://images.amazon.com/images/P/0374157065.0...</td>\n",
              "    </tr>\n",
              "    <tr>\n",
              "      <th>4</th>\n",
              "      <td>393045218</td>\n",
              "      <td>The Mummies of Urumchi</td>\n",
              "      <td>E. J. W. Barber</td>\n",
              "      <td>1999</td>\n",
              "      <td>W. W. Norton &amp;amp; Company</td>\n",
              "      <td>http://images.amazon.com/images/P/0393045218.0...</td>\n",
              "      <td>http://images.amazon.com/images/P/0393045218.0...</td>\n",
              "      <td>http://images.amazon.com/images/P/0393045218.0...</td>\n",
              "    </tr>\n",
              "    <tr>\n",
              "      <th>...</th>\n",
              "      <td>...</td>\n",
              "      <td>...</td>\n",
              "      <td>...</td>\n",
              "      <td>...</td>\n",
              "      <td>...</td>\n",
              "      <td>...</td>\n",
              "      <td>...</td>\n",
              "      <td>...</td>\n",
              "    </tr>\n",
              "    <tr>\n",
              "      <th>271374</th>\n",
              "      <td>440400988</td>\n",
              "      <td>There's a Bat in Bunk Five</td>\n",
              "      <td>Paula Danziger</td>\n",
              "      <td>1988</td>\n",
              "      <td>Random House Childrens Pub (Mm)</td>\n",
              "      <td>http://images.amazon.com/images/P/0440400988.0...</td>\n",
              "      <td>http://images.amazon.com/images/P/0440400988.0...</td>\n",
              "      <td>http://images.amazon.com/images/P/0440400988.0...</td>\n",
              "    </tr>\n",
              "    <tr>\n",
              "      <th>271375</th>\n",
              "      <td>525447644</td>\n",
              "      <td>From One to One Hundred</td>\n",
              "      <td>Teri Sloat</td>\n",
              "      <td>1991</td>\n",
              "      <td>Dutton Books</td>\n",
              "      <td>http://images.amazon.com/images/P/0525447644.0...</td>\n",
              "      <td>http://images.amazon.com/images/P/0525447644.0...</td>\n",
              "      <td>http://images.amazon.com/images/P/0525447644.0...</td>\n",
              "    </tr>\n",
              "    <tr>\n",
              "      <th>271376</th>\n",
              "      <td>006008667X</td>\n",
              "      <td>Lily Dale : The True Story of the Town that Ta...</td>\n",
              "      <td>Christine Wicker</td>\n",
              "      <td>2004</td>\n",
              "      <td>HarperSanFrancisco</td>\n",
              "      <td>http://images.amazon.com/images/P/006008667X.0...</td>\n",
              "      <td>http://images.amazon.com/images/P/006008667X.0...</td>\n",
              "      <td>http://images.amazon.com/images/P/006008667X.0...</td>\n",
              "    </tr>\n",
              "    <tr>\n",
              "      <th>271377</th>\n",
              "      <td>192126040</td>\n",
              "      <td>Republic (World's Classics)</td>\n",
              "      <td>Plato</td>\n",
              "      <td>1996</td>\n",
              "      <td>Oxford University Press</td>\n",
              "      <td>http://images.amazon.com/images/P/0192126040.0...</td>\n",
              "      <td>http://images.amazon.com/images/P/0192126040.0...</td>\n",
              "      <td>http://images.amazon.com/images/P/0192126040.0...</td>\n",
              "    </tr>\n",
              "    <tr>\n",
              "      <th>271378</th>\n",
              "      <td>767409752</td>\n",
              "      <td>A Guided Tour of Rene Descartes' Meditations o...</td>\n",
              "      <td>Christopher  Biffle</td>\n",
              "      <td>2000</td>\n",
              "      <td>McGraw-Hill Humanities/Social Sciences/Languages</td>\n",
              "      <td>http://images.amazon.com/images/P/0767409752.0...</td>\n",
              "      <td>http://images.amazon.com/images/P/0767409752.0...</td>\n",
              "      <td>http://images.amazon.com/images/P/0767409752.0...</td>\n",
              "    </tr>\n",
              "  </tbody>\n",
              "</table>\n",
              "<p>271379 rows × 8 columns</p>\n",
              "</div>"
            ],
            "text/plain": [
              "              ISBN  ...                                        Image-URL-L\n",
              "0        195153448  ...  http://images.amazon.com/images/P/0195153448.0...\n",
              "1          2005018  ...  http://images.amazon.com/images/P/0002005018.0...\n",
              "2         60973129  ...  http://images.amazon.com/images/P/0060973129.0...\n",
              "3        374157065  ...  http://images.amazon.com/images/P/0374157065.0...\n",
              "4        393045218  ...  http://images.amazon.com/images/P/0393045218.0...\n",
              "...            ...  ...                                                ...\n",
              "271374   440400988  ...  http://images.amazon.com/images/P/0440400988.0...\n",
              "271375   525447644  ...  http://images.amazon.com/images/P/0525447644.0...\n",
              "271376  006008667X  ...  http://images.amazon.com/images/P/006008667X.0...\n",
              "271377   192126040  ...  http://images.amazon.com/images/P/0192126040.0...\n",
              "271378   767409752  ...  http://images.amazon.com/images/P/0767409752.0...\n",
              "\n",
              "[271379 rows x 8 columns]"
            ]
          },
          "metadata": {
            "tags": []
          }
        }
      ]
    },
    {
      "cell_type": "code",
      "metadata": {
        "id": "H173NUroZADT",
        "colab_type": "code",
        "colab": {
          "base_uri": "https://localhost:8080/",
          "height": 51
        },
        "outputId": "c89e2036-462f-4aa0-9426-b47def6d3b13"
      },
      "source": [
        "import pandas as pd  \n",
        "url_users = 'https://raw.githubusercontent.com/vivitc/deep-learning-books/master/data/BX-Users01.csv'\n",
        "df_users = pd.read_csv(url_users, delimiter=\";\", encoding=\"latin1\", header=0)"
      ],
      "execution_count": 6,
      "outputs": [
        {
          "output_type": "stream",
          "text": [
            "/usr/local/lib/python3.6/dist-packages/IPython/core/interactiveshell.py:2718: DtypeWarning: Columns (0) have mixed types.Specify dtype option on import or set low_memory=False.\n",
            "  interactivity=interactivity, compiler=compiler, result=result)\n"
          ],
          "name": "stderr"
        }
      ]
    },
    {
      "cell_type": "code",
      "metadata": {
        "colab_type": "code",
        "id": "FJZkE06yS6fG",
        "colab": {
          "base_uri": "https://localhost:8080/",
          "height": 419
        },
        "outputId": "1b1deb4f-7487-4482-fea4-49325190b0a8"
      },
      "source": [
        "display(df_users)"
      ],
      "execution_count": 7,
      "outputs": [
        {
          "output_type": "display_data",
          "data": {
            "text/html": [
              "<div>\n",
              "<style scoped>\n",
              "    .dataframe tbody tr th:only-of-type {\n",
              "        vertical-align: middle;\n",
              "    }\n",
              "\n",
              "    .dataframe tbody tr th {\n",
              "        vertical-align: top;\n",
              "    }\n",
              "\n",
              "    .dataframe thead th {\n",
              "        text-align: right;\n",
              "    }\n",
              "</style>\n",
              "<table border=\"1\" class=\"dataframe\">\n",
              "  <thead>\n",
              "    <tr style=\"text-align: right;\">\n",
              "      <th></th>\n",
              "      <th>User-ID</th>\n",
              "      <th>Location_CT</th>\n",
              "      <th>Location_UF</th>\n",
              "      <th>Location_CY</th>\n",
              "      <th>Age</th>\n",
              "    </tr>\n",
              "  </thead>\n",
              "  <tbody>\n",
              "    <tr>\n",
              "      <th>0</th>\n",
              "      <td>120567</td>\n",
              "      <td>545</td>\n",
              "      <td>rheinland-pfalz</td>\n",
              "      <td>germany</td>\n",
              "      <td>NaN</td>\n",
              "    </tr>\n",
              "    <tr>\n",
              "      <th>1</th>\n",
              "      <td>84244</td>\n",
              "      <td>01109</td>\n",
              "      <td>sachsen</td>\n",
              "      <td>germany</td>\n",
              "      <td>40.0</td>\n",
              "    </tr>\n",
              "    <tr>\n",
              "      <th>2</th>\n",
              "      <td>151969</td>\n",
              "      <td>1700</td>\n",
              "      <td>fribourg</td>\n",
              "      <td>switzerland</td>\n",
              "      <td>24.0</td>\n",
              "    </tr>\n",
              "    <tr>\n",
              "      <th>3</th>\n",
              "      <td>147786</td>\n",
              "      <td>01721</td>\n",
              "      <td>NaN</td>\n",
              "      <td>NaN</td>\n",
              "      <td>37.0</td>\n",
              "    </tr>\n",
              "    <tr>\n",
              "      <th>4</th>\n",
              "      <td>160922</td>\n",
              "      <td>3003</td>\n",
              "      <td>tenerife</td>\n",
              "      <td>espaã±a</td>\n",
              "      <td>30.0</td>\n",
              "    </tr>\n",
              "    <tr>\n",
              "      <th>...</th>\n",
              "      <td>...</td>\n",
              "      <td>...</td>\n",
              "      <td>...</td>\n",
              "      <td>...</td>\n",
              "      <td>...</td>\n",
              "    </tr>\n",
              "    <tr>\n",
              "      <th>277659</th>\n",
              "      <td>257484</td>\n",
              "      <td>zwolle</td>\n",
              "      <td>overijssel</td>\n",
              "      <td>netherlands</td>\n",
              "      <td>25.0</td>\n",
              "    </tr>\n",
              "    <tr>\n",
              "      <th>277660</th>\n",
              "      <td>258249</td>\n",
              "      <td>zwolle</td>\n",
              "      <td>NaN</td>\n",
              "      <td>netherlands</td>\n",
              "      <td>26.0</td>\n",
              "    </tr>\n",
              "    <tr>\n",
              "      <th>277661</th>\n",
              "      <td>239223</td>\n",
              "      <td>zxcvzxcvzxcvz</td>\n",
              "      <td>abruzzo</td>\n",
              "      <td>italy</td>\n",
              "      <td>32.0</td>\n",
              "    </tr>\n",
              "    <tr>\n",
              "      <th>277662</th>\n",
              "      <td>146905</td>\n",
              "      <td>zywiec</td>\n",
              "      <td>slaskie</td>\n",
              "      <td>poland</td>\n",
              "      <td>22.0</td>\n",
              "    </tr>\n",
              "    <tr>\n",
              "      <th>277663</th>\n",
              "      <td>51181</td>\n",
              "      <td>zzzzz</td>\n",
              "      <td>australian capital territory</td>\n",
              "      <td>usa</td>\n",
              "      <td>NaN</td>\n",
              "    </tr>\n",
              "  </tbody>\n",
              "</table>\n",
              "<p>277664 rows × 5 columns</p>\n",
              "</div>"
            ],
            "text/plain": [
              "       User-ID    Location_CT                   Location_UF  Location_CY   Age\n",
              "0       120567            545               rheinland-pfalz      germany   NaN\n",
              "1        84244          01109                       sachsen      germany  40.0\n",
              "2       151969           1700                      fribourg  switzerland  24.0\n",
              "3       147786          01721                           NaN          NaN  37.0\n",
              "4       160922           3003                      tenerife      espaã±a  30.0\n",
              "...        ...            ...                           ...          ...   ...\n",
              "277659  257484         zwolle                    overijssel  netherlands  25.0\n",
              "277660  258249         zwolle                           NaN  netherlands  26.0\n",
              "277661  239223  zxcvzxcvzxcvz                       abruzzo        italy  32.0\n",
              "277662  146905         zywiec                       slaskie       poland  22.0\n",
              "277663   51181          zzzzz  australian capital territory          usa   NaN\n",
              "\n",
              "[277664 rows x 5 columns]"
            ]
          },
          "metadata": {
            "tags": []
          }
        }
      ]
    },
    {
      "cell_type": "markdown",
      "metadata": {
        "colab_type": "text",
        "id": "2lSCsmQosjLt"
      },
      "source": [
        "## 2. Análise descritiva dos dados\n",
        "Em seguida, vamos fazer alguns pré-processamentos básicos para conhecer os dados, lembrando os códigos:\n",
        "- BX-Users: Contém os usuários(`User-ID`) anônimos. Dados demográficos organizados, quando disponíveis (`Location`, `Age`). `Age` com valor NaN, significa que o valor de `Age` nao foi disponibilizado.\n",
        "\n",
        "- BX-Books: Os livros são identificados pelo ISBN (os inválidos já foram removidos). Informações sobre conteúdo são disponíveis como (`Book-Title`, `Book-Author`, `Year-Of-Publication`, `Publisher`), pelo Amazon Web Services. Se houver mais de 1 autor, só o primeiro é mencionado. Imagens da capa estão disponíveis em pequeno, médio e grande (`Image-URL-S`, `Image-URL-M`, `Image-URL-L`), pelo Amazon Web Services também.\n",
        "\n",
        "- BX-Book-Ratings: As avaliações dos livros (`Book-Rating`)  são ou explícitas de 1-10 (valores mais altos indicam mais apreciação), ou implicito, expresso por 0.\n",
        "\n",
        "### *Apesar da base ter diversos países e avaliações, testamos a análise descritiva dos dados e a Filtragem Colaborativa com os dados completos e recebemos uma mensagem de erro devido ao tamanho da Matriz de Interação:*\n",
        "\n",
        "*Erro: ValueError: Unstacked DataFrame is too big, causing int32 overflow*\n",
        "\n",
        "*Assim, foram feitos alguns recortes na base para que seja possível trabalhá-la, sendo:*\n",
        "- *Utilização dos dados referente ao Country USA;*\n",
        "- *Utilização de livros com avaliações explícitas, ou seja, Ratings de 1-10.*"
      ]
    },
    {
      "cell_type": "markdown",
      "metadata": {
        "id": "MGXZ7zYRyvas",
        "colab_type": "text"
      },
      "source": [
        "###2.1 Users (sem normalização)"
      ]
    },
    {
      "cell_type": "code",
      "metadata": {
        "colab_type": "code",
        "id": "seZiPotey-BK",
        "colab": {
          "base_uri": "https://localhost:8080/",
          "height": 255
        },
        "outputId": "5e3cae5d-f1ad-440d-a7e2-567709ce71e1"
      },
      "source": [
        "#Verificando as estatísticas básicas\n",
        "df_users.describe"
      ],
      "execution_count": null,
      "outputs": [
        {
          "output_type": "execute_result",
          "data": {
            "text/plain": [
              "<bound method NDFrame.describe of                                                  User-ID  ...   Age\n",
              "0                                                 120567  ...   NaN\n",
              "1                                                  84244  ...  40.0\n",
              "2                                                 151969  ...  24.0\n",
              "3                                                 147786  ...  37.0\n",
              "4                                                 160922  ...  30.0\n",
              "...                                                  ...  ...   ...\n",
              "537945                                            278855  ...  50.0\n",
              "537946                                            278856  ...   NaN\n",
              "537947                                            278857  ...   NaN\n",
              "537948                                            278858  ...   NaN\n",
              "537949  >>>>>>> 08ef6012be10d0cfa7c55409e30d87a2f4248b33  ...   NaN\n",
              "\n",
              "[537950 rows x 5 columns]>"
            ]
          },
          "metadata": {
            "tags": []
          },
          "execution_count": 8
        }
      ]
    },
    {
      "cell_type": "code",
      "metadata": {
        "colab_type": "code",
        "id": "QOSpc4L5y-BP",
        "colab": {
          "base_uri": "https://localhost:8080/",
          "height": 221
        },
        "outputId": "02a3afcf-75b1-4bfa-d025-2ac8881f723b"
      },
      "source": [
        "#Entendendo se temos muitos valores faltantes\n",
        "df_users.info()"
      ],
      "execution_count": null,
      "outputs": [
        {
          "output_type": "stream",
          "text": [
            "<class 'pandas.core.frame.DataFrame'>\n",
            "RangeIndex: 537950 entries, 0 to 537949\n",
            "Data columns (total 5 columns):\n",
            " #   Column       Non-Null Count   Dtype  \n",
            "---  ------       --------------   -----  \n",
            " 0   User-ID      537950 non-null  object \n",
            " 1   Location_CT  536828 non-null  object \n",
            " 2   Location_UF  522918 non-null  object \n",
            " 3   Location_CY  529777 non-null  object \n",
            " 4   Age          322928 non-null  float64\n",
            "dtypes: float64(1), object(4)\n",
            "memory usage: 20.5+ MB\n"
          ],
          "name": "stdout"
        }
      ]
    },
    {
      "cell_type": "code",
      "metadata": {
        "colab_type": "code",
        "id": "JOtofcHLy-BS",
        "colab": {
          "base_uri": "https://localhost:8080/",
          "height": 204
        },
        "outputId": "d2c87802-acda-41dd-c489-5e0d7d400826"
      },
      "source": [
        "total = df_users.isnull().sum().sort_values(ascending = False)\n",
        "percent = (df_users.isnull().sum()/df_users.isnull().count()*100).sort_values(ascending = False)\n",
        "missing_df_users  = pd.concat([total, percent], axis=1, keys=['Total', 'Percent'])\n",
        "missing_df_users"
      ],
      "execution_count": null,
      "outputs": [
        {
          "output_type": "execute_result",
          "data": {
            "text/html": [
              "<div>\n",
              "<style scoped>\n",
              "    .dataframe tbody tr th:only-of-type {\n",
              "        vertical-align: middle;\n",
              "    }\n",
              "\n",
              "    .dataframe tbody tr th {\n",
              "        vertical-align: top;\n",
              "    }\n",
              "\n",
              "    .dataframe thead th {\n",
              "        text-align: right;\n",
              "    }\n",
              "</style>\n",
              "<table border=\"1\" class=\"dataframe\">\n",
              "  <thead>\n",
              "    <tr style=\"text-align: right;\">\n",
              "      <th></th>\n",
              "      <th>Total</th>\n",
              "      <th>Percent</th>\n",
              "    </tr>\n",
              "  </thead>\n",
              "  <tbody>\n",
              "    <tr>\n",
              "      <th>Age</th>\n",
              "      <td>215022</td>\n",
              "      <td>39.970629</td>\n",
              "    </tr>\n",
              "    <tr>\n",
              "      <th>Location_UF</th>\n",
              "      <td>15032</td>\n",
              "      <td>2.794312</td>\n",
              "    </tr>\n",
              "    <tr>\n",
              "      <th>Location_CY</th>\n",
              "      <td>8173</td>\n",
              "      <td>1.519286</td>\n",
              "    </tr>\n",
              "    <tr>\n",
              "      <th>Location_CT</th>\n",
              "      <td>1122</td>\n",
              "      <td>0.208570</td>\n",
              "    </tr>\n",
              "    <tr>\n",
              "      <th>User-ID</th>\n",
              "      <td>0</td>\n",
              "      <td>0.000000</td>\n",
              "    </tr>\n",
              "  </tbody>\n",
              "</table>\n",
              "</div>"
            ],
            "text/plain": [
              "              Total    Percent\n",
              "Age          215022  39.970629\n",
              "Location_UF   15032   2.794312\n",
              "Location_CY    8173   1.519286\n",
              "Location_CT    1122   0.208570\n",
              "User-ID           0   0.000000"
            ]
          },
          "metadata": {
            "tags": []
          },
          "execution_count": 10
        }
      ]
    },
    {
      "cell_type": "code",
      "metadata": {
        "colab_type": "code",
        "id": "JpJRxxQGy-BU",
        "colab": {
          "base_uri": "https://localhost:8080/",
          "height": 639
        },
        "outputId": "c633d409-519c-4691-e168-883e59a8e679"
      },
      "source": [
        "# Ratings de 0 a 10\n",
        "Users_Age=df_users[\"Age\"].value_counts(ascending=False)\n",
        "Users_Age.head(20).plot.bar()\n",
        "Users_Age.head(20)\n",
        "\n"
      ],
      "execution_count": null,
      "outputs": [
        {
          "output_type": "execute_result",
          "data": {
            "text/plain": [
              "24.0    10897\n",
              "25.0    10773\n",
              "26.0    10614\n",
              "23.0    10435\n",
              "27.0    10322\n",
              "28.0    10268\n",
              "29.0    10129\n",
              "32.0     9193\n",
              "30.0     9179\n",
              "33.0     9026\n",
              "22.0     8964\n",
              "34.0     8959\n",
              "31.0     8944\n",
              "21.0     8471\n",
              "35.0     8066\n",
              "20.0     7745\n",
              "19.0     7537\n",
              "36.0     7509\n",
              "18.0     7082\n",
              "37.0     6895\n",
              "Name: Age, dtype: int64"
            ]
          },
          "metadata": {
            "tags": []
          },
          "execution_count": 11
        },
        {
          "output_type": "display_data",
          "data": {
            "image/png": "[encoded data removed]",
            "text/plain": [
              "<Figure size 432x288 with 1 Axes>"
            ]
          },
          "metadata": {
            "tags": [],
            "needs_background": "light"
          }
        }
      ]
    },
    {
      "cell_type": "code",
      "metadata": {
        "colab_type": "code",
        "id": "VNgSvhy2y-Bd",
        "colab": {
          "base_uri": "https://localhost:8080/",
          "height": 372
        },
        "outputId": "ba2de09b-0c8a-41a5-83bf-b9ca3f1677c5"
      },
      "source": [
        "#Histograma com distribuição de idade\n",
        "plt.figure(figsize=(20,5))\n",
        "plt.title(\"Distribution of Age\")\n",
        "ax = sns.distplot(df_users[\"Age\"])\n",
        "ax.set(xlim=(1, 100), ylim=(0, 0.035))\n"
      ],
      "execution_count": null,
      "outputs": [
        {
          "output_type": "execute_result",
          "data": {
            "text/plain": [
              "[(0.0, 0.035), (1.0, 100.0)]"
            ]
          },
          "metadata": {
            "tags": []
          },
          "execution_count": 14
        },
        {
          "output_type": "display_data",
          "data": {
            "image/png": "[encoded data removed]",
            "text/plain": [
              "<Figure size 1440x360 with 1 Axes>"
            ]
          },
          "metadata": {
            "tags": [],
            "needs_background": "light"
          }
        }
      ]
    },
    {
      "cell_type": "markdown",
      "metadata": {
        "id": "qS78a7zYyyTr",
        "colab_type": "text"
      },
      "source": [
        "###2.2 Books"
      ]
    },
    {
      "cell_type": "code",
      "metadata": {
        "colab_type": "code",
        "id": "RMHQHC-2y_oA",
        "colab": {
          "base_uri": "https://localhost:8080/",
          "height": 297
        },
        "outputId": "d999d659-2af3-40f7-9808-84c5e2ed1e94"
      },
      "source": [
        "#Verificando as estatísticas básicas\n",
        "df_book.describe(exclude=[np.object])"
      ],
      "execution_count": null,
      "outputs": [
        {
          "output_type": "execute_result",
          "data": {
            "text/html": [
              "<div>\n",
              "<style scoped>\n",
              "    .dataframe tbody tr th:only-of-type {\n",
              "        vertical-align: middle;\n",
              "    }\n",
              "\n",
              "    .dataframe tbody tr th {\n",
              "        vertical-align: top;\n",
              "    }\n",
              "\n",
              "    .dataframe thead th {\n",
              "        text-align: right;\n",
              "    }\n",
              "</style>\n",
              "<table border=\"1\" class=\"dataframe\">\n",
              "  <thead>\n",
              "    <tr style=\"text-align: right;\">\n",
              "      <th></th>\n",
              "      <th>Year-Of-Publication</th>\n",
              "    </tr>\n",
              "  </thead>\n",
              "  <tbody>\n",
              "    <tr>\n",
              "      <th>count</th>\n",
              "      <td>271379.000000</td>\n",
              "    </tr>\n",
              "    <tr>\n",
              "      <th>mean</th>\n",
              "      <td>1959.763394</td>\n",
              "    </tr>\n",
              "    <tr>\n",
              "      <th>std</th>\n",
              "      <td>257.983943</td>\n",
              "    </tr>\n",
              "    <tr>\n",
              "      <th>min</th>\n",
              "      <td>0.000000</td>\n",
              "    </tr>\n",
              "    <tr>\n",
              "      <th>25%</th>\n",
              "      <td>1989.000000</td>\n",
              "    </tr>\n",
              "    <tr>\n",
              "      <th>50%</th>\n",
              "      <td>1995.000000</td>\n",
              "    </tr>\n",
              "    <tr>\n",
              "      <th>75%</th>\n",
              "      <td>2000.000000</td>\n",
              "    </tr>\n",
              "    <tr>\n",
              "      <th>max</th>\n",
              "      <td>2050.000000</td>\n",
              "    </tr>\n",
              "  </tbody>\n",
              "</table>\n",
              "</div>"
            ],
            "text/plain": [
              "       Year-Of-Publication\n",
              "count        271379.000000\n",
              "mean           1959.763394\n",
              "std             257.983943\n",
              "min               0.000000\n",
              "25%            1989.000000\n",
              "50%            1995.000000\n",
              "75%            2000.000000\n",
              "max            2050.000000"
            ]
          },
          "metadata": {
            "tags": []
          },
          "execution_count": 15
        }
      ]
    },
    {
      "cell_type": "code",
      "metadata": {
        "colab_type": "code",
        "id": "Jct0J99Jy_oC",
        "colab": {
          "base_uri": "https://localhost:8080/",
          "height": 272
        },
        "outputId": "f55bba91-1411-469d-a128-be0bf1920828"
      },
      "source": [
        "#Entendendo se temos muitos valores faltantes\n",
        "df_book.info()"
      ],
      "execution_count": null,
      "outputs": [
        {
          "output_type": "stream",
          "text": [
            "<class 'pandas.core.frame.DataFrame'>\n",
            "RangeIndex: 271379 entries, 0 to 271378\n",
            "Data columns (total 8 columns):\n",
            " #   Column               Non-Null Count   Dtype \n",
            "---  ------               --------------   ----- \n",
            " 0   ISBN                 271379 non-null  object\n",
            " 1   Book-Title           271379 non-null  object\n",
            " 2   Book-Author          271378 non-null  object\n",
            " 3   Year-Of-Publication  271379 non-null  int64 \n",
            " 4   Publisher            271377 non-null  object\n",
            " 5   Image-URL-S          271379 non-null  object\n",
            " 6   Image-URL-M          271379 non-null  object\n",
            " 7   Image-URL-L          271379 non-null  object\n",
            "dtypes: int64(1), object(7)\n",
            "memory usage: 16.6+ MB\n"
          ],
          "name": "stdout"
        }
      ]
    },
    {
      "cell_type": "code",
      "metadata": {
        "colab_type": "code",
        "id": "zdzd46AHy_oG",
        "colab": {
          "base_uri": "https://localhost:8080/",
          "height": 643
        },
        "outputId": "77b07253-4d95-461b-de0b-b33e39dbe206"
      },
      "source": [
        "# Anos de publicação Top 20\n",
        "Ratings=df_book[\"Year-Of-Publication\"].value_counts(ascending=False)\n",
        "Ratings.head(20).plot.bar()\n",
        "Ratings.head(20)\n",
        "\n"
      ],
      "execution_count": null,
      "outputs": [
        {
          "output_type": "execute_result",
          "data": {
            "text/plain": [
              "2002    17628\n",
              "1999    17432\n",
              "2001    17360\n",
              "2000    17235\n",
              "1998    15767\n",
              "1997    14892\n",
              "2003    14359\n",
              "1996    14031\n",
              "1995    13548\n",
              "1994    11796\n",
              "1993    10603\n",
              "1992     9906\n",
              "1991     9389\n",
              "1990     8661\n",
              "1989     7937\n",
              "1988     7493\n",
              "1987     6529\n",
              "1986     5841\n",
              "2004     5839\n",
              "1985     5343\n",
              "Name: Year-Of-Publication, dtype: int64"
            ]
          },
          "metadata": {
            "tags": []
          },
          "execution_count": 17
        },
        {
          "output_type": "display_data",
          "data": {
            "image/png": "[encoded data removed]",
            "text/plain": [
              "<Figure size 432x288 with 1 Axes>"
            ]
          },
          "metadata": {
            "tags": [],
            "needs_background": "light"
          }
        }
      ]
    },
    {
      "cell_type": "code",
      "metadata": {
        "colab_type": "code",
        "id": "G9M6GLEMy_oL",
        "colab": {
          "base_uri": "https://localhost:8080/",
          "height": 316
        },
        "outputId": "c8469889-a1e0-4bda-8763-e1d64b30cfde"
      },
      "source": [
        "#Histograma de pontos com toda base\n",
        "\n",
        "#Subplot grid\n",
        "f, (ax_box, ax_hist) = plt.subplots(2, sharex=True, gridspec_kw={\"height_ratios\": (0.25, 0.75)})\n",
        " \n",
        "#Plot + subplot grid\n",
        "sns.boxplot(df_book[\"Year-Of-Publication\"], ax=ax_box).set_title(\"Basic representation of the Years of Publication\\n\")\n",
        "sns.distplot(df_book[\"Year-Of-Publication\"], ax=ax_hist, kde=False, fit=stats.gamma, bins=20)\n",
        "sns.set_color_codes(\"bright\")\n",
        "\n",
        "#Legendas\n",
        "ax_box.set(xlabel='') #Remove x axis name for the boxplot\n",
        "ax_hist.set(ylabel='Density')\n",
        "\n",
        "plt.show()"
      ],
      "execution_count": null,
      "outputs": [
        {
          "output_type": "display_data",
          "data": {
            "image/png": "[encoded data removed]",
            "text/plain": [
              "<Figure size 432x288 with 2 Axes>"
            ]
          },
          "metadata": {
            "tags": [],
            "needs_background": "light"
          }
        }
      ]
    },
    {
      "cell_type": "code",
      "metadata": {
        "colab_type": "code",
        "id": "kLNPU3H7y_oN",
        "colab": {
          "base_uri": "https://localhost:8080/",
          "height": 68
        },
        "outputId": "d7bca32f-f39b-438a-c5ee-c3bb2719116f"
      },
      "source": [
        "Q3 = np.quantile(df_book[\"Year-Of-Publication\"], 0.75) #Third quartile\n",
        "Q1 = np.quantile(df_book[\"Year-Of-Publication\"], 0.25) #First quartile\n",
        "IQR = Q3 - Q1 #Inter Quartile Range\n",
        "sns.set_color_codes(\"bright\")\n",
        "\n",
        "outlier_score_threshold =  Q3 + 1.5 * IQR\n",
        "outlier_number=len(df_book[df_book[\"Year-Of-Publication\"] > outlier_score_threshold ])\n",
        "\n",
        "print(\"Number of outliers:\", outlier_number,\n",
        "      \"\\nOutlier proportion:\", round(outlier_number/len(df_book_rating[\"Book-Rating\"])*100, 3),\"%\",\n",
        "      \"\\nOutlier threshold score:\", outlier_score_threshold,\"/ 100\")"
      ],
      "execution_count": null,
      "outputs": [
        {
          "output_type": "stream",
          "text": [
            "Number of outliers: 17 \n",
            "Outlier proportion: 0.001 % \n",
            "Outlier threshold score: 2016.5 / 100\n"
          ],
          "name": "stdout"
        }
      ]
    },
    {
      "cell_type": "code",
      "metadata": {
        "colab_type": "code",
        "id": "HrymPSZdy_oP",
        "colab": {
          "base_uri": "https://localhost:8080/",
          "height": 372
        },
        "outputId": "791c02b1-f3dc-4a81-e010-5c91bada0081"
      },
      "source": [
        "#Histograma com distribuição dos anos de publicação\n",
        "plt.figure(figsize=(20,5))\n",
        "plt.title(\"Distribution of Years of Publication\")\n",
        "ax = sns.distplot(df_book[\"Year-Of-Publication\"])\n",
        "ax.set(xlim=(1940, 2050), ylim=(0, 0.05))\n"
      ],
      "execution_count": null,
      "outputs": [
        {
          "output_type": "execute_result",
          "data": {
            "text/plain": [
              "[(0.0, 0.05), (1940.0, 2050.0)]"
            ]
          },
          "metadata": {
            "tags": []
          },
          "execution_count": 52
        },
        {
          "output_type": "display_data",
          "data": {
            "image/png": "[encoded data removed]",
            "text/plain": [
              "<Figure size 1440x360 with 1 Axes>"
            ]
          },
          "metadata": {
            "tags": [],
            "needs_background": "light"
          }
        }
      ]
    },
    {
      "cell_type": "markdown",
      "metadata": {
        "id": "IFKS6QbyhVsz",
        "colab_type": "text"
      },
      "source": [
        "###2.3 Books Ratings"
      ]
    },
    {
      "cell_type": "code",
      "metadata": {
        "colab_type": "code",
        "id": "sY1mDuf-P6sJ",
        "colab": {
          "base_uri": "https://localhost:8080/",
          "height": 297
        },
        "outputId": "0c5b167a-5318-4bfc-cc60-72321ef7997c"
      },
      "source": [
        "#Verificando as estatísticas básicas\n",
        "df_book_rating.describe(exclude=[np.object])"
      ],
      "execution_count": null,
      "outputs": [
        {
          "output_type": "execute_result",
          "data": {
            "text/html": [
              "<div>\n",
              "<style scoped>\n",
              "    .dataframe tbody tr th:only-of-type {\n",
              "        vertical-align: middle;\n",
              "    }\n",
              "\n",
              "    .dataframe tbody tr th {\n",
              "        vertical-align: top;\n",
              "    }\n",
              "\n",
              "    .dataframe thead th {\n",
              "        text-align: right;\n",
              "    }\n",
              "</style>\n",
              "<table border=\"1\" class=\"dataframe\">\n",
              "  <thead>\n",
              "    <tr style=\"text-align: right;\">\n",
              "      <th></th>\n",
              "      <th>User-ID</th>\n",
              "      <th>Book-Rating</th>\n",
              "    </tr>\n",
              "  </thead>\n",
              "  <tbody>\n",
              "    <tr>\n",
              "      <th>count</th>\n",
              "      <td>1.149780e+06</td>\n",
              "      <td>1.149780e+06</td>\n",
              "    </tr>\n",
              "    <tr>\n",
              "      <th>mean</th>\n",
              "      <td>1.403864e+05</td>\n",
              "      <td>2.866950e+00</td>\n",
              "    </tr>\n",
              "    <tr>\n",
              "      <th>std</th>\n",
              "      <td>8.056228e+04</td>\n",
              "      <td>3.854184e+00</td>\n",
              "    </tr>\n",
              "    <tr>\n",
              "      <th>min</th>\n",
              "      <td>2.000000e+00</td>\n",
              "      <td>0.000000e+00</td>\n",
              "    </tr>\n",
              "    <tr>\n",
              "      <th>25%</th>\n",
              "      <td>7.034500e+04</td>\n",
              "      <td>0.000000e+00</td>\n",
              "    </tr>\n",
              "    <tr>\n",
              "      <th>50%</th>\n",
              "      <td>1.410100e+05</td>\n",
              "      <td>0.000000e+00</td>\n",
              "    </tr>\n",
              "    <tr>\n",
              "      <th>75%</th>\n",
              "      <td>2.110280e+05</td>\n",
              "      <td>7.000000e+00</td>\n",
              "    </tr>\n",
              "    <tr>\n",
              "      <th>max</th>\n",
              "      <td>2.788540e+05</td>\n",
              "      <td>1.000000e+01</td>\n",
              "    </tr>\n",
              "  </tbody>\n",
              "</table>\n",
              "</div>"
            ],
            "text/plain": [
              "            User-ID   Book-Rating\n",
              "count  1.149780e+06  1.149780e+06\n",
              "mean   1.403864e+05  2.866950e+00\n",
              "std    8.056228e+04  3.854184e+00\n",
              "min    2.000000e+00  0.000000e+00\n",
              "25%    7.034500e+04  0.000000e+00\n",
              "50%    1.410100e+05  0.000000e+00\n",
              "75%    2.110280e+05  7.000000e+00\n",
              "max    2.788540e+05  1.000000e+01"
            ]
          },
          "metadata": {
            "tags": []
          },
          "execution_count": 21
        }
      ]
    },
    {
      "cell_type": "code",
      "metadata": {
        "id": "JQ_JWrEJhaAU",
        "colab_type": "code",
        "colab": {
          "base_uri": "https://localhost:8080/",
          "height": 187
        },
        "outputId": "722382e4-563b-467c-aec3-dd9164812b28"
      },
      "source": [
        "#Entendendo se temos muitos valores faltantes\n",
        "df_book_rating.info()"
      ],
      "execution_count": null,
      "outputs": [
        {
          "output_type": "stream",
          "text": [
            "<class 'pandas.core.frame.DataFrame'>\n",
            "RangeIndex: 1149780 entries, 0 to 1149779\n",
            "Data columns (total 3 columns):\n",
            " #   Column       Non-Null Count    Dtype \n",
            "---  ------       --------------    ----- \n",
            " 0   User-ID      1149780 non-null  int64 \n",
            " 1   ISBN         1149780 non-null  object\n",
            " 2   Book-Rating  1149780 non-null  int64 \n",
            "dtypes: int64(2), object(1)\n",
            "memory usage: 26.3+ MB\n"
          ],
          "name": "stdout"
        }
      ]
    },
    {
      "cell_type": "code",
      "metadata": {
        "id": "zni-38OQhnT9",
        "colab_type": "code",
        "colab": {
          "base_uri": "https://localhost:8080/",
          "height": 142
        },
        "outputId": "d9930856-91d1-4f69-cc77-f20fb2e9ecb2"
      },
      "source": [
        "total = df_book_rating.isnull().sum().sort_values(ascending = False)\n",
        "percent = (df_book_rating.isnull().sum()/df_book_rating.isnull().count()*100).sort_values(ascending = False)\n",
        "missing_df_book_rating  = pd.concat([total, percent], axis=1, keys=['Total', 'Percent'])\n",
        "missing_df_book_rating"
      ],
      "execution_count": null,
      "outputs": [
        {
          "output_type": "execute_result",
          "data": {
            "text/html": [
              "<div>\n",
              "<style scoped>\n",
              "    .dataframe tbody tr th:only-of-type {\n",
              "        vertical-align: middle;\n",
              "    }\n",
              "\n",
              "    .dataframe tbody tr th {\n",
              "        vertical-align: top;\n",
              "    }\n",
              "\n",
              "    .dataframe thead th {\n",
              "        text-align: right;\n",
              "    }\n",
              "</style>\n",
              "<table border=\"1\" class=\"dataframe\">\n",
              "  <thead>\n",
              "    <tr style=\"text-align: right;\">\n",
              "      <th></th>\n",
              "      <th>Total</th>\n",
              "      <th>Percent</th>\n",
              "    </tr>\n",
              "  </thead>\n",
              "  <tbody>\n",
              "    <tr>\n",
              "      <th>Book-Rating</th>\n",
              "      <td>0</td>\n",
              "      <td>0.0</td>\n",
              "    </tr>\n",
              "    <tr>\n",
              "      <th>ISBN</th>\n",
              "      <td>0</td>\n",
              "      <td>0.0</td>\n",
              "    </tr>\n",
              "    <tr>\n",
              "      <th>User-ID</th>\n",
              "      <td>0</td>\n",
              "      <td>0.0</td>\n",
              "    </tr>\n",
              "  </tbody>\n",
              "</table>\n",
              "</div>"
            ],
            "text/plain": [
              "             Total  Percent\n",
              "Book-Rating      0      0.0\n",
              "ISBN             0      0.0\n",
              "User-ID          0      0.0"
            ]
          },
          "metadata": {
            "tags": []
          },
          "execution_count": 23
        }
      ]
    },
    {
      "cell_type": "code",
      "metadata": {
        "id": "vC2-RAnXlLGu",
        "colab_type": "code",
        "colab": {
          "base_uri": "https://localhost:8080/",
          "height": 459
        },
        "outputId": "cfc51719-048d-49d5-8afe-895b53af5556"
      },
      "source": [
        "# Ratings de 0 a 10\n",
        "Ratings=df_book_rating[\"Book-Rating\"].value_counts(ascending=False)\n",
        "Ratings.head(10).plot.bar()\n",
        "Ratings.head(10)\n",
        "\n"
      ],
      "execution_count": null,
      "outputs": [
        {
          "output_type": "execute_result",
          "data": {
            "text/plain": [
              "0     716109\n",
              "8     103736\n",
              "10     78610\n",
              "7      76457\n",
              "9      67541\n",
              "5      50974\n",
              "6      36924\n",
              "4       8904\n",
              "3       5996\n",
              "2       2759\n",
              "Name: Book-Rating, dtype: int64"
            ]
          },
          "metadata": {
            "tags": []
          },
          "execution_count": 24
        },
        {
          "output_type": "display_data",
          "data": {
            "image/png": "[encoded data removed]",
            "text/plain": [
              "<Figure size 432x288 with 1 Axes>"
            ]
          },
          "metadata": {
            "tags": [],
            "needs_background": "light"
          }
        }
      ]
    },
    {
      "cell_type": "code",
      "metadata": {
        "id": "5VC09YbssreY",
        "colab_type": "code",
        "colab": {
          "base_uri": "https://localhost:8080/",
          "height": 483
        },
        "outputId": "dc56b29d-4084-4674-ae9f-b0168c56581a"
      },
      "source": [
        "total = df_book_rating[\"Book-Rating\"].value_counts(ascending=False)\n",
        "percent = (df_book_rating.count()/df_book_rating.count()*100).sort_values(ascending = False)\n",
        "Ratings_percent  = pd.concat([total, percent], axis=1, keys=['Total', 'Percent'])\n",
        "Ratings_percent"
      ],
      "execution_count": null,
      "outputs": [
        {
          "output_type": "execute_result",
          "data": {
            "text/html": [
              "<div>\n",
              "<style scoped>\n",
              "    .dataframe tbody tr th:only-of-type {\n",
              "        vertical-align: middle;\n",
              "    }\n",
              "\n",
              "    .dataframe tbody tr th {\n",
              "        vertical-align: top;\n",
              "    }\n",
              "\n",
              "    .dataframe thead th {\n",
              "        text-align: right;\n",
              "    }\n",
              "</style>\n",
              "<table border=\"1\" class=\"dataframe\">\n",
              "  <thead>\n",
              "    <tr style=\"text-align: right;\">\n",
              "      <th></th>\n",
              "      <th>Total</th>\n",
              "      <th>Percent</th>\n",
              "    </tr>\n",
              "  </thead>\n",
              "  <tbody>\n",
              "    <tr>\n",
              "      <th>0</th>\n",
              "      <td>716109.0</td>\n",
              "      <td>NaN</td>\n",
              "    </tr>\n",
              "    <tr>\n",
              "      <th>1</th>\n",
              "      <td>1770.0</td>\n",
              "      <td>NaN</td>\n",
              "    </tr>\n",
              "    <tr>\n",
              "      <th>2</th>\n",
              "      <td>2759.0</td>\n",
              "      <td>NaN</td>\n",
              "    </tr>\n",
              "    <tr>\n",
              "      <th>3</th>\n",
              "      <td>5996.0</td>\n",
              "      <td>NaN</td>\n",
              "    </tr>\n",
              "    <tr>\n",
              "      <th>4</th>\n",
              "      <td>8904.0</td>\n",
              "      <td>NaN</td>\n",
              "    </tr>\n",
              "    <tr>\n",
              "      <th>5</th>\n",
              "      <td>50974.0</td>\n",
              "      <td>NaN</td>\n",
              "    </tr>\n",
              "    <tr>\n",
              "      <th>6</th>\n",
              "      <td>36924.0</td>\n",
              "      <td>NaN</td>\n",
              "    </tr>\n",
              "    <tr>\n",
              "      <th>7</th>\n",
              "      <td>76457.0</td>\n",
              "      <td>NaN</td>\n",
              "    </tr>\n",
              "    <tr>\n",
              "      <th>8</th>\n",
              "      <td>103736.0</td>\n",
              "      <td>NaN</td>\n",
              "    </tr>\n",
              "    <tr>\n",
              "      <th>9</th>\n",
              "      <td>67541.0</td>\n",
              "      <td>NaN</td>\n",
              "    </tr>\n",
              "    <tr>\n",
              "      <th>10</th>\n",
              "      <td>78610.0</td>\n",
              "      <td>NaN</td>\n",
              "    </tr>\n",
              "    <tr>\n",
              "      <th>Book-Rating</th>\n",
              "      <td>NaN</td>\n",
              "      <td>100.0</td>\n",
              "    </tr>\n",
              "    <tr>\n",
              "      <th>ISBN</th>\n",
              "      <td>NaN</td>\n",
              "      <td>100.0</td>\n",
              "    </tr>\n",
              "    <tr>\n",
              "      <th>User-ID</th>\n",
              "      <td>NaN</td>\n",
              "      <td>100.0</td>\n",
              "    </tr>\n",
              "  </tbody>\n",
              "</table>\n",
              "</div>"
            ],
            "text/plain": [
              "                Total  Percent\n",
              "0            716109.0      NaN\n",
              "1              1770.0      NaN\n",
              "2              2759.0      NaN\n",
              "3              5996.0      NaN\n",
              "4              8904.0      NaN\n",
              "5             50974.0      NaN\n",
              "6             36924.0      NaN\n",
              "7             76457.0      NaN\n",
              "8            103736.0      NaN\n",
              "9             67541.0      NaN\n",
              "10            78610.0      NaN\n",
              "Book-Rating       NaN    100.0\n",
              "ISBN              NaN    100.0\n",
              "User-ID           NaN    100.0"
            ]
          },
          "metadata": {
            "tags": []
          },
          "execution_count": 25
        }
      ]
    },
    {
      "cell_type": "code",
      "metadata": {
        "id": "h4YCmqdGjG04",
        "colab_type": "code",
        "colab": {
          "base_uri": "https://localhost:8080/",
          "height": 316
        },
        "outputId": "fe209750-deee-4de2-8b00-488ca84a85f4"
      },
      "source": [
        "#Histograma de pontos com toda base\n",
        "\n",
        "#Subplot grid\n",
        "f, (ax_box, ax_hist) = plt.subplots(2, sharex=True, gridspec_kw={\"height_ratios\": (0.25, 0.75)})\n",
        " \n",
        "#Plot + subplot grid\n",
        "sns.boxplot(df_book_rating[\"Book-Rating\"], ax=ax_box).set_title(\"Basic representation of the Score feature\\n\")\n",
        "sns.distplot(df_book_rating[\"Book-Rating\"], ax=ax_hist, kde=False, fit=stats.gamma, bins=20)\n",
        "sns.set_color_codes(\"bright\")\n",
        "\n",
        "#Legendas\n",
        "ax_box.set(xlabel='') #Remove x axis name for the boxplot\n",
        "ax_hist.set(ylabel='Density')\n",
        "\n",
        "plt.show()"
      ],
      "execution_count": null,
      "outputs": [
        {
          "output_type": "display_data",
          "data": {
            "image/png": "[encoded data removed]",
            "text/plain": [
              "<Figure size 432x288 with 2 Axes>"
            ]
          },
          "metadata": {
            "tags": [],
            "needs_background": "light"
          }
        }
      ]
    },
    {
      "cell_type": "code",
      "metadata": {
        "id": "CPbIEhfYkpC_",
        "colab_type": "code",
        "colab": {
          "base_uri": "https://localhost:8080/",
          "height": 68
        },
        "outputId": "27904268-8ad4-486a-fb16-ca1d8024f9a0"
      },
      "source": [
        "Q3 = np.quantile(df_book_rating[\"Book-Rating\"], 0.75) #Third quartile\n",
        "Q1 = np.quantile(df_book_rating[\"Book-Rating\"], 0.25) #First quartile\n",
        "IQR = Q3 - Q1 #Inter Quartile Range\n",
        "sns.set_color_codes(\"bright\")\n",
        "\n",
        "outlier_score_threshold =  Q3 + 1.5 * IQR\n",
        "outlier_number=len(df_book_rating[ df_book_rating[\"Book-Rating\"] > outlier_score_threshold ])\n",
        "\n",
        "print(\"Number of outliers:\", outlier_number,\n",
        "      \"\\nOutlier proportion:\", round(outlier_number/len(df_book_rating[\"Book-Rating\"])*100, 3),\"%\",\n",
        "      \"\\nOutlier threshold score:\", outlier_score_threshold,\"/ 100\")"
      ],
      "execution_count": null,
      "outputs": [
        {
          "output_type": "stream",
          "text": [
            "Number of outliers: 0 \n",
            "Outlier proportion: 0.0 % \n",
            "Outlier threshold score: 17.5 / 100\n"
          ],
          "name": "stdout"
        }
      ]
    },
    {
      "cell_type": "code",
      "metadata": {
        "id": "tbo2vyPRk4Kw",
        "colab_type": "code",
        "colab": {
          "base_uri": "https://localhost:8080/",
          "height": 372
        },
        "outputId": "58478db0-d0ef-4c8c-8fc3-57c6f10596a5"
      },
      "source": [
        "#Histograma com distribuição dos Ratings\n",
        "plt.figure(figsize=(20,5))\n",
        "plt.title(\"Distribution of Ratings\")\n",
        "ax = sns.distplot(df_book_rating[\"Book-Rating\"])\n",
        "ax.set(xlim=(-1, 11), ylim=(0, 3.5))"
      ],
      "execution_count": null,
      "outputs": [
        {
          "output_type": "execute_result",
          "data": {
            "text/plain": [
              "[(0.0, 3.5), (-1.0, 11.0)]"
            ]
          },
          "metadata": {
            "tags": []
          },
          "execution_count": 57
        },
        {
          "output_type": "display_data",
          "data": {
            "image/png": "[encoded data removed]",
            "text/plain": [
              "<Figure size 1440x360 with 1 Axes>"
            ]
          },
          "metadata": {
            "tags": [],
            "needs_background": "light"
          }
        }
      ]
    },
    {
      "cell_type": "markdown",
      "metadata": {
        "id": "bln_--l2y5v3",
        "colab_type": "text"
      },
      "source": [
        ""
      ]
    },
    {
      "cell_type": "markdown",
      "metadata": {
        "id": "okNS13ESAvGe",
        "colab_type": "text"
      },
      "source": [
        "# #################NORMALIZACAO DE DADOS"
      ]
    },
    {
      "cell_type": "code",
      "metadata": {
        "id": "AA1kG1KvA-_4",
        "colab_type": "code",
        "colab": {
          "base_uri": "https://localhost:8080/",
          "height": 419
        },
        "outputId": "7247f69e-6e8d-45fb-816a-bc2fe4515164"
      },
      "source": [
        "#Normalizacao de Location para poder fazer comparacao. Removendo espacos em blanco\n",
        "\n",
        "df_users['Location_CY'] = df_users['Location_CY'].str.strip()\n",
        "df_users"
      ],
      "execution_count": 8,
      "outputs": [
        {
          "output_type": "execute_result",
          "data": {
            "text/html": [
              "<div>\n",
              "<style scoped>\n",
              "    .dataframe tbody tr th:only-of-type {\n",
              "        vertical-align: middle;\n",
              "    }\n",
              "\n",
              "    .dataframe tbody tr th {\n",
              "        vertical-align: top;\n",
              "    }\n",
              "\n",
              "    .dataframe thead th {\n",
              "        text-align: right;\n",
              "    }\n",
              "</style>\n",
              "<table border=\"1\" class=\"dataframe\">\n",
              "  <thead>\n",
              "    <tr style=\"text-align: right;\">\n",
              "      <th></th>\n",
              "      <th>User-ID</th>\n",
              "      <th>Location_CT</th>\n",
              "      <th>Location_UF</th>\n",
              "      <th>Location_CY</th>\n",
              "      <th>Age</th>\n",
              "    </tr>\n",
              "  </thead>\n",
              "  <tbody>\n",
              "    <tr>\n",
              "      <th>0</th>\n",
              "      <td>120567</td>\n",
              "      <td>545</td>\n",
              "      <td>rheinland-pfalz</td>\n",
              "      <td>germany</td>\n",
              "      <td>NaN</td>\n",
              "    </tr>\n",
              "    <tr>\n",
              "      <th>1</th>\n",
              "      <td>84244</td>\n",
              "      <td>01109</td>\n",
              "      <td>sachsen</td>\n",
              "      <td>germany</td>\n",
              "      <td>40.0</td>\n",
              "    </tr>\n",
              "    <tr>\n",
              "      <th>2</th>\n",
              "      <td>151969</td>\n",
              "      <td>1700</td>\n",
              "      <td>fribourg</td>\n",
              "      <td>switzerland</td>\n",
              "      <td>24.0</td>\n",
              "    </tr>\n",
              "    <tr>\n",
              "      <th>3</th>\n",
              "      <td>147786</td>\n",
              "      <td>01721</td>\n",
              "      <td>NaN</td>\n",
              "      <td>NaN</td>\n",
              "      <td>37.0</td>\n",
              "    </tr>\n",
              "    <tr>\n",
              "      <th>4</th>\n",
              "      <td>160922</td>\n",
              "      <td>3003</td>\n",
              "      <td>tenerife</td>\n",
              "      <td>espaã±a</td>\n",
              "      <td>30.0</td>\n",
              "    </tr>\n",
              "    <tr>\n",
              "      <th>...</th>\n",
              "      <td>...</td>\n",
              "      <td>...</td>\n",
              "      <td>...</td>\n",
              "      <td>...</td>\n",
              "      <td>...</td>\n",
              "    </tr>\n",
              "    <tr>\n",
              "      <th>277659</th>\n",
              "      <td>257484</td>\n",
              "      <td>zwolle</td>\n",
              "      <td>overijssel</td>\n",
              "      <td>netherlands</td>\n",
              "      <td>25.0</td>\n",
              "    </tr>\n",
              "    <tr>\n",
              "      <th>277660</th>\n",
              "      <td>258249</td>\n",
              "      <td>zwolle</td>\n",
              "      <td>NaN</td>\n",
              "      <td>netherlands</td>\n",
              "      <td>26.0</td>\n",
              "    </tr>\n",
              "    <tr>\n",
              "      <th>277661</th>\n",
              "      <td>239223</td>\n",
              "      <td>zxcvzxcvzxcvz</td>\n",
              "      <td>abruzzo</td>\n",
              "      <td>italy</td>\n",
              "      <td>32.0</td>\n",
              "    </tr>\n",
              "    <tr>\n",
              "      <th>277662</th>\n",
              "      <td>146905</td>\n",
              "      <td>zywiec</td>\n",
              "      <td>slaskie</td>\n",
              "      <td>poland</td>\n",
              "      <td>22.0</td>\n",
              "    </tr>\n",
              "    <tr>\n",
              "      <th>277663</th>\n",
              "      <td>51181</td>\n",
              "      <td>zzzzz</td>\n",
              "      <td>australian capital territory</td>\n",
              "      <td>usa</td>\n",
              "      <td>NaN</td>\n",
              "    </tr>\n",
              "  </tbody>\n",
              "</table>\n",
              "<p>277664 rows × 5 columns</p>\n",
              "</div>"
            ],
            "text/plain": [
              "       User-ID    Location_CT                   Location_UF  Location_CY   Age\n",
              "0       120567            545               rheinland-pfalz      germany   NaN\n",
              "1        84244          01109                       sachsen      germany  40.0\n",
              "2       151969           1700                      fribourg  switzerland  24.0\n",
              "3       147786          01721                           NaN          NaN  37.0\n",
              "4       160922           3003                      tenerife      espaã±a  30.0\n",
              "...        ...            ...                           ...          ...   ...\n",
              "277659  257484         zwolle                    overijssel  netherlands  25.0\n",
              "277660  258249         zwolle                           NaN  netherlands  26.0\n",
              "277661  239223  zxcvzxcvzxcvz                       abruzzo        italy  32.0\n",
              "277662  146905         zywiec                       slaskie       poland  22.0\n",
              "277663   51181          zzzzz  australian capital territory          usa   NaN\n",
              "\n",
              "[277664 rows x 5 columns]"
            ]
          },
          "metadata": {
            "tags": []
          },
          "execution_count": 8
        }
      ]
    },
    {
      "cell_type": "code",
      "metadata": {
        "id": "aZDeWTPtBDga",
        "colab_type": "code",
        "colab": {
          "base_uri": "https://localhost:8080/",
          "height": 419
        },
        "outputId": "4dda58d6-11a4-46e7-d073-ee427c89588a"
      },
      "source": [
        "# Procurando os usuario que sao do pais usa\n",
        "import numpy as np\n",
        "df_users_usa = df_users[(df_users['Location_CY'] == \"usa\")]\n",
        "df_users_usa"
      ],
      "execution_count": 9,
      "outputs": [
        {
          "output_type": "execute_result",
          "data": {
            "text/html": [
              "<div>\n",
              "<style scoped>\n",
              "    .dataframe tbody tr th:only-of-type {\n",
              "        vertical-align: middle;\n",
              "    }\n",
              "\n",
              "    .dataframe tbody tr th {\n",
              "        vertical-align: top;\n",
              "    }\n",
              "\n",
              "    .dataframe thead th {\n",
              "        text-align: right;\n",
              "    }\n",
              "</style>\n",
              "<table border=\"1\" class=\"dataframe\">\n",
              "  <thead>\n",
              "    <tr style=\"text-align: right;\">\n",
              "      <th></th>\n",
              "      <th>User-ID</th>\n",
              "      <th>Location_CT</th>\n",
              "      <th>Location_UF</th>\n",
              "      <th>Location_CY</th>\n",
              "      <th>Age</th>\n",
              "    </tr>\n",
              "  </thead>\n",
              "  <tbody>\n",
              "    <tr>\n",
              "      <th>8</th>\n",
              "      <td>266829</td>\n",
              "      <td>05680</td>\n",
              "      <td>vermont</td>\n",
              "      <td>usa</td>\n",
              "      <td>NaN</td>\n",
              "    </tr>\n",
              "    <tr>\n",
              "      <th>13</th>\n",
              "      <td>155407</td>\n",
              "      <td>10012</td>\n",
              "      <td>new york</td>\n",
              "      <td>usa</td>\n",
              "      <td>NaN</td>\n",
              "    </tr>\n",
              "    <tr>\n",
              "      <th>14</th>\n",
              "      <td>198308</td>\n",
              "      <td>10458</td>\n",
              "      <td>new york</td>\n",
              "      <td>usa</td>\n",
              "      <td>46.0</td>\n",
              "    </tr>\n",
              "    <tr>\n",
              "      <th>18</th>\n",
              "      <td>223378</td>\n",
              "      <td>miami</td>\n",
              "      <td>florida</td>\n",
              "      <td>usa</td>\n",
              "      <td>17.0</td>\n",
              "    </tr>\n",
              "    <tr>\n",
              "      <th>20</th>\n",
              "      <td>130531</td>\n",
              "      <td>39180</td>\n",
              "      <td>mississippi</td>\n",
              "      <td>usa</td>\n",
              "      <td>25.0</td>\n",
              "    </tr>\n",
              "    <tr>\n",
              "      <th>...</th>\n",
              "      <td>...</td>\n",
              "      <td>...</td>\n",
              "      <td>...</td>\n",
              "      <td>...</td>\n",
              "      <td>...</td>\n",
              "    </tr>\n",
              "    <tr>\n",
              "      <th>277320</th>\n",
              "      <td>258411</td>\n",
              "      <td>zumbrota</td>\n",
              "      <td>minnesota</td>\n",
              "      <td>usa</td>\n",
              "      <td>NaN</td>\n",
              "    </tr>\n",
              "    <tr>\n",
              "      <th>277321</th>\n",
              "      <td>276509</td>\n",
              "      <td>zumbrots</td>\n",
              "      <td>minnesota</td>\n",
              "      <td>usa</td>\n",
              "      <td>NaN</td>\n",
              "    </tr>\n",
              "    <tr>\n",
              "      <th>277324</th>\n",
              "      <td>142979</td>\n",
              "      <td>zuni</td>\n",
              "      <td>virginia</td>\n",
              "      <td>usa</td>\n",
              "      <td>56.0</td>\n",
              "    </tr>\n",
              "    <tr>\n",
              "      <th>277325</th>\n",
              "      <td>143351</td>\n",
              "      <td>zuni</td>\n",
              "      <td>new mexico</td>\n",
              "      <td>usa</td>\n",
              "      <td>NaN</td>\n",
              "    </tr>\n",
              "    <tr>\n",
              "      <th>277663</th>\n",
              "      <td>51181</td>\n",
              "      <td>zzzzz</td>\n",
              "      <td>australian capital territory</td>\n",
              "      <td>usa</td>\n",
              "      <td>NaN</td>\n",
              "    </tr>\n",
              "  </tbody>\n",
              "</table>\n",
              "<p>139631 rows × 5 columns</p>\n",
              "</div>"
            ],
            "text/plain": [
              "       User-ID Location_CT                   Location_UF Location_CY   Age\n",
              "8       266829       05680                       vermont         usa   NaN\n",
              "13      155407       10012                      new york         usa   NaN\n",
              "14      198308       10458                      new york         usa  46.0\n",
              "18      223378       miami                       florida         usa  17.0\n",
              "20      130531       39180                   mississippi         usa  25.0\n",
              "...        ...         ...                           ...         ...   ...\n",
              "277320  258411    zumbrota                     minnesota         usa   NaN\n",
              "277321  276509    zumbrots                     minnesota         usa   NaN\n",
              "277324  142979        zuni                      virginia         usa  56.0\n",
              "277325  143351        zuni                    new mexico         usa   NaN\n",
              "277663   51181       zzzzz  australian capital territory         usa   NaN\n",
              "\n",
              "[139631 rows x 5 columns]"
            ]
          },
          "metadata": {
            "tags": []
          },
          "execution_count": 9
        }
      ]
    },
    {
      "cell_type": "code",
      "metadata": {
        "id": "enyyrYpDBISt",
        "colab_type": "code",
        "colab": {
          "base_uri": "https://localhost:8080/",
          "height": 419
        },
        "outputId": "cd369f41-23f0-45b3-806a-f481332d01dc"
      },
      "source": [
        "# Considerando so book rating com avaliacao explicita, o seja rating superior a 0\n",
        "df_book_rating_no_zero = df_book_rating[(df_book_rating['Book-Rating'] > 0)]\n",
        "df_book_rating_no_zero"
      ],
      "execution_count": 10,
      "outputs": [
        {
          "output_type": "execute_result",
          "data": {
            "text/html": [
              "<div>\n",
              "<style scoped>\n",
              "    .dataframe tbody tr th:only-of-type {\n",
              "        vertical-align: middle;\n",
              "    }\n",
              "\n",
              "    .dataframe tbody tr th {\n",
              "        vertical-align: top;\n",
              "    }\n",
              "\n",
              "    .dataframe thead th {\n",
              "        text-align: right;\n",
              "    }\n",
              "</style>\n",
              "<table border=\"1\" class=\"dataframe\">\n",
              "  <thead>\n",
              "    <tr style=\"text-align: right;\">\n",
              "      <th></th>\n",
              "      <th>User-ID</th>\n",
              "      <th>ISBN</th>\n",
              "      <th>Book-Rating</th>\n",
              "    </tr>\n",
              "  </thead>\n",
              "  <tbody>\n",
              "    <tr>\n",
              "      <th>1</th>\n",
              "      <td>276726</td>\n",
              "      <td>0155061224</td>\n",
              "      <td>5</td>\n",
              "    </tr>\n",
              "    <tr>\n",
              "      <th>3</th>\n",
              "      <td>276729</td>\n",
              "      <td>052165615X</td>\n",
              "      <td>3</td>\n",
              "    </tr>\n",
              "    <tr>\n",
              "      <th>4</th>\n",
              "      <td>276729</td>\n",
              "      <td>0521795028</td>\n",
              "      <td>6</td>\n",
              "    </tr>\n",
              "    <tr>\n",
              "      <th>6</th>\n",
              "      <td>276736</td>\n",
              "      <td>3257224281</td>\n",
              "      <td>8</td>\n",
              "    </tr>\n",
              "    <tr>\n",
              "      <th>7</th>\n",
              "      <td>276737</td>\n",
              "      <td>0600570967</td>\n",
              "      <td>6</td>\n",
              "    </tr>\n",
              "    <tr>\n",
              "      <th>...</th>\n",
              "      <td>...</td>\n",
              "      <td>...</td>\n",
              "      <td>...</td>\n",
              "    </tr>\n",
              "    <tr>\n",
              "      <th>1149773</th>\n",
              "      <td>276704</td>\n",
              "      <td>0806917695</td>\n",
              "      <td>5</td>\n",
              "    </tr>\n",
              "    <tr>\n",
              "      <th>1149775</th>\n",
              "      <td>276704</td>\n",
              "      <td>1563526298</td>\n",
              "      <td>9</td>\n",
              "    </tr>\n",
              "    <tr>\n",
              "      <th>1149777</th>\n",
              "      <td>276709</td>\n",
              "      <td>0515107662</td>\n",
              "      <td>10</td>\n",
              "    </tr>\n",
              "    <tr>\n",
              "      <th>1149778</th>\n",
              "      <td>276721</td>\n",
              "      <td>0590442449</td>\n",
              "      <td>10</td>\n",
              "    </tr>\n",
              "    <tr>\n",
              "      <th>1149779</th>\n",
              "      <td>276723</td>\n",
              "      <td>05162443314</td>\n",
              "      <td>8</td>\n",
              "    </tr>\n",
              "  </tbody>\n",
              "</table>\n",
              "<p>433671 rows × 3 columns</p>\n",
              "</div>"
            ],
            "text/plain": [
              "         User-ID         ISBN  Book-Rating\n",
              "1         276726   0155061224            5\n",
              "3         276729   052165615X            3\n",
              "4         276729   0521795028            6\n",
              "6         276736   3257224281            8\n",
              "7         276737   0600570967            6\n",
              "...          ...          ...          ...\n",
              "1149773   276704   0806917695            5\n",
              "1149775   276704   1563526298            9\n",
              "1149777   276709   0515107662           10\n",
              "1149778   276721   0590442449           10\n",
              "1149779   276723  05162443314            8\n",
              "\n",
              "[433671 rows x 3 columns]"
            ]
          },
          "metadata": {
            "tags": []
          },
          "execution_count": 10
        }
      ]
    },
    {
      "cell_type": "code",
      "metadata": {
        "id": "7JwrUVQHCNc0",
        "colab_type": "code",
        "colab": {
          "base_uri": "https://localhost:8080/",
          "height": 419
        },
        "outputId": "ec280e5c-51b1-4792-8c0f-2ebbb82fe909"
      },
      "source": [
        "# Relacionando os usuarios de usa e as avaliacaoes que fizeram\n",
        "\n",
        "merged_user_book_rating_df = pd.merge(left=df_users_usa, right=df_book_rating_no_zero, left_on='User-ID', right_on='User-ID')\n",
        "merged_user_book_rating_df"
      ],
      "execution_count": 11,
      "outputs": [
        {
          "output_type": "execute_result",
          "data": {
            "text/html": [
              "<div>\n",
              "<style scoped>\n",
              "    .dataframe tbody tr th:only-of-type {\n",
              "        vertical-align: middle;\n",
              "    }\n",
              "\n",
              "    .dataframe tbody tr th {\n",
              "        vertical-align: top;\n",
              "    }\n",
              "\n",
              "    .dataframe thead th {\n",
              "        text-align: right;\n",
              "    }\n",
              "</style>\n",
              "<table border=\"1\" class=\"dataframe\">\n",
              "  <thead>\n",
              "    <tr style=\"text-align: right;\">\n",
              "      <th></th>\n",
              "      <th>User-ID</th>\n",
              "      <th>Location_CT</th>\n",
              "      <th>Location_UF</th>\n",
              "      <th>Location_CY</th>\n",
              "      <th>Age</th>\n",
              "      <th>ISBN</th>\n",
              "      <th>Book-Rating</th>\n",
              "    </tr>\n",
              "  </thead>\n",
              "  <tbody>\n",
              "    <tr>\n",
              "      <th>0</th>\n",
              "      <td>99955</td>\n",
              "      <td>lockport</td>\n",
              "      <td>new york</td>\n",
              "      <td>usa</td>\n",
              "      <td>14.0</td>\n",
              "      <td>0060256672</td>\n",
              "      <td>10</td>\n",
              "    </tr>\n",
              "    <tr>\n",
              "      <th>1</th>\n",
              "      <td>99955</td>\n",
              "      <td>lockport</td>\n",
              "      <td>new york</td>\n",
              "      <td>usa</td>\n",
              "      <td>14.0</td>\n",
              "      <td>0061032034</td>\n",
              "      <td>10</td>\n",
              "    </tr>\n",
              "    <tr>\n",
              "      <th>2</th>\n",
              "      <td>99955</td>\n",
              "      <td>lockport</td>\n",
              "      <td>new york</td>\n",
              "      <td>usa</td>\n",
              "      <td>14.0</td>\n",
              "      <td>0064401480</td>\n",
              "      <td>8</td>\n",
              "    </tr>\n",
              "    <tr>\n",
              "      <th>3</th>\n",
              "      <td>99955</td>\n",
              "      <td>lockport</td>\n",
              "      <td>new york</td>\n",
              "      <td>usa</td>\n",
              "      <td>14.0</td>\n",
              "      <td>0140031928</td>\n",
              "      <td>6</td>\n",
              "    </tr>\n",
              "    <tr>\n",
              "      <th>4</th>\n",
              "      <td>99955</td>\n",
              "      <td>lockport</td>\n",
              "      <td>new york</td>\n",
              "      <td>usa</td>\n",
              "      <td>14.0</td>\n",
              "      <td>0140328696</td>\n",
              "      <td>8</td>\n",
              "    </tr>\n",
              "    <tr>\n",
              "      <th>...</th>\n",
              "      <td>...</td>\n",
              "      <td>...</td>\n",
              "      <td>...</td>\n",
              "      <td>...</td>\n",
              "      <td>...</td>\n",
              "      <td>...</td>\n",
              "      <td>...</td>\n",
              "    </tr>\n",
              "    <tr>\n",
              "      <th>141287</th>\n",
              "      <td>199717</td>\n",
              "      <td>zion grove</td>\n",
              "      <td>pennsylvania</td>\n",
              "      <td>usa</td>\n",
              "      <td>24.0</td>\n",
              "      <td>0441569595</td>\n",
              "      <td>5</td>\n",
              "    </tr>\n",
              "    <tr>\n",
              "      <th>141288</th>\n",
              "      <td>220014</td>\n",
              "      <td>zionsville</td>\n",
              "      <td>indiana</td>\n",
              "      <td>usa</td>\n",
              "      <td>NaN</td>\n",
              "      <td>0312924585</td>\n",
              "      <td>8</td>\n",
              "    </tr>\n",
              "    <tr>\n",
              "      <th>141289</th>\n",
              "      <td>220014</td>\n",
              "      <td>zionsville</td>\n",
              "      <td>indiana</td>\n",
              "      <td>usa</td>\n",
              "      <td>NaN</td>\n",
              "      <td>0679742298</td>\n",
              "      <td>8</td>\n",
              "    </tr>\n",
              "    <tr>\n",
              "      <th>141290</th>\n",
              "      <td>11374</td>\n",
              "      <td>zionville</td>\n",
              "      <td>north carolina</td>\n",
              "      <td>usa</td>\n",
              "      <td>48.0</td>\n",
              "      <td>0671702513</td>\n",
              "      <td>4</td>\n",
              "    </tr>\n",
              "    <tr>\n",
              "      <th>141291</th>\n",
              "      <td>242766</td>\n",
              "      <td>zumbrota</td>\n",
              "      <td>minnesota</td>\n",
              "      <td>usa</td>\n",
              "      <td>NaN</td>\n",
              "      <td>1572232684</td>\n",
              "      <td>10</td>\n",
              "    </tr>\n",
              "  </tbody>\n",
              "</table>\n",
              "<p>141292 rows × 7 columns</p>\n",
              "</div>"
            ],
            "text/plain": [
              "       User-ID Location_CT     Location_UF  ...   Age        ISBN Book-Rating\n",
              "0        99955    lockport        new york  ...  14.0  0060256672          10\n",
              "1        99955    lockport        new york  ...  14.0  0061032034          10\n",
              "2        99955    lockport        new york  ...  14.0  0064401480           8\n",
              "3        99955    lockport        new york  ...  14.0  0140031928           6\n",
              "4        99955    lockport        new york  ...  14.0  0140328696           8\n",
              "...        ...         ...             ...  ...   ...         ...         ...\n",
              "141287  199717  zion grove    pennsylvania  ...  24.0  0441569595           5\n",
              "141288  220014  zionsville         indiana  ...   NaN  0312924585           8\n",
              "141289  220014  zionsville         indiana  ...   NaN  0679742298           8\n",
              "141290   11374   zionville  north carolina  ...  48.0  0671702513           4\n",
              "141291  242766    zumbrota       minnesota  ...   NaN  1572232684          10\n",
              "\n",
              "[141292 rows x 7 columns]"
            ]
          },
          "metadata": {
            "tags": []
          },
          "execution_count": 11
        }
      ]
    },
    {
      "cell_type": "code",
      "metadata": {
        "id": "KP79YCeZCjwp",
        "colab_type": "code",
        "colab": {
          "base_uri": "https://localhost:8080/",
          "height": 34
        },
        "outputId": "5dd184ec-a6c6-4fc8-ca57-ec063a823194"
      },
      "source": [
        "# quantidade de usuarios unicos que avaliaram algum livro de forma explicita\n",
        "users_who_evaluated = merged_user_book_rating_df['User-ID'].nunique()\n",
        "users_who_evaluated"
      ],
      "execution_count": 12,
      "outputs": [
        {
          "output_type": "execute_result",
          "data": {
            "text/plain": [
              "23814"
            ]
          },
          "metadata": {
            "tags": []
          },
          "execution_count": 12
        }
      ]
    },
    {
      "cell_type": "code",
      "metadata": {
        "id": "N9sJBfC1C7Sk",
        "colab_type": "code",
        "colab": {
          "base_uri": "https://localhost:8080/",
          "height": 34
        },
        "outputId": "d28aee85-dab2-4552-8120-cca523725d20"
      },
      "source": [
        "# quantidade de livros avaliados de forma explicita\n",
        "books_evaluated = merged_user_book_rating_df['ISBN'].nunique()\n",
        "books_evaluated"
      ],
      "execution_count": 13,
      "outputs": [
        {
          "output_type": "execute_result",
          "data": {
            "text/plain": [
              "70340"
            ]
          },
          "metadata": {
            "tags": []
          },
          "execution_count": 13
        }
      ]
    },
    {
      "cell_type": "markdown",
      "metadata": {
        "colab_type": "text",
        "id": "ilH420sn5NGW"
      },
      "source": [
        "###2.1 Users (com normalização)"
      ]
    },
    {
      "cell_type": "code",
      "metadata": {
        "colab_type": "code",
        "id": "-xtyK0385NGX",
        "colab": {
          "base_uri": "https://localhost:8080/",
          "height": 255
        },
        "outputId": "b25012f0-9dc1-438b-91c0-3818ca858118"
      },
      "source": [
        "#Verificando as estatísticas básicas\n",
        "df_users_usa.describe"
      ],
      "execution_count": 14,
      "outputs": [
        {
          "output_type": "execute_result",
          "data": {
            "text/plain": [
              "<bound method NDFrame.describe of        User-ID Location_CT                   Location_UF Location_CY   Age\n",
              "8       266829       05680                       vermont         usa   NaN\n",
              "13      155407       10012                      new york         usa   NaN\n",
              "14      198308       10458                      new york         usa  46.0\n",
              "18      223378       miami                       florida         usa  17.0\n",
              "20      130531       39180                   mississippi         usa  25.0\n",
              "...        ...         ...                           ...         ...   ...\n",
              "277320  258411    zumbrota                     minnesota         usa   NaN\n",
              "277321  276509    zumbrots                     minnesota         usa   NaN\n",
              "277324  142979        zuni                      virginia         usa  56.0\n",
              "277325  143351        zuni                    new mexico         usa   NaN\n",
              "277663   51181       zzzzz  australian capital territory         usa   NaN\n",
              "\n",
              "[139631 rows x 5 columns]>"
            ]
          },
          "metadata": {
            "tags": []
          },
          "execution_count": 14
        }
      ]
    },
    {
      "cell_type": "code",
      "metadata": {
        "colab_type": "code",
        "id": "ZWUeVm-25NGZ",
        "colab": {
          "base_uri": "https://localhost:8080/",
          "height": 221
        },
        "outputId": "326378e2-0b61-4ffb-aefa-913f38699c48"
      },
      "source": [
        "#Entendendo se temos muitos valores faltantes\n",
        "df_users_usa.info()"
      ],
      "execution_count": 15,
      "outputs": [
        {
          "output_type": "stream",
          "text": [
            "<class 'pandas.core.frame.DataFrame'>\n",
            "Int64Index: 139631 entries, 8 to 277663\n",
            "Data columns (total 5 columns):\n",
            " #   Column       Non-Null Count   Dtype  \n",
            "---  ------       --------------   -----  \n",
            " 0   User-ID      139631 non-null  object \n",
            " 1   Location_CT  139523 non-null  object \n",
            " 2   Location_UF  139547 non-null  object \n",
            " 3   Location_CY  139631 non-null  object \n",
            " 4   Age          76483 non-null   float64\n",
            "dtypes: float64(1), object(4)\n",
            "memory usage: 6.4+ MB\n"
          ],
          "name": "stdout"
        }
      ]
    },
    {
      "cell_type": "code",
      "metadata": {
        "colab_type": "code",
        "id": "XFJeiv-F5NGb",
        "colab": {
          "base_uri": "https://localhost:8080/",
          "height": 204
        },
        "outputId": "f3de9fd5-95ca-4d55-d0d4-cb1fb991b032"
      },
      "source": [
        "total = df_users_usa.isnull().sum().sort_values(ascending = False)\n",
        "percent = (df_users_usa.isnull().sum()/df_users_usa.isnull().count()*100).sort_values(ascending = False)\n",
        "missing_df_users_usa  = pd.concat([total, percent], axis=1, keys=['Total', 'Percent'])\n",
        "missing_df_users_usa"
      ],
      "execution_count": 16,
      "outputs": [
        {
          "output_type": "execute_result",
          "data": {
            "text/html": [
              "<div>\n",
              "<style scoped>\n",
              "    .dataframe tbody tr th:only-of-type {\n",
              "        vertical-align: middle;\n",
              "    }\n",
              "\n",
              "    .dataframe tbody tr th {\n",
              "        vertical-align: top;\n",
              "    }\n",
              "\n",
              "    .dataframe thead th {\n",
              "        text-align: right;\n",
              "    }\n",
              "</style>\n",
              "<table border=\"1\" class=\"dataframe\">\n",
              "  <thead>\n",
              "    <tr style=\"text-align: right;\">\n",
              "      <th></th>\n",
              "      <th>Total</th>\n",
              "      <th>Percent</th>\n",
              "    </tr>\n",
              "  </thead>\n",
              "  <tbody>\n",
              "    <tr>\n",
              "      <th>Age</th>\n",
              "      <td>63148</td>\n",
              "      <td>45.224914</td>\n",
              "    </tr>\n",
              "    <tr>\n",
              "      <th>Location_CT</th>\n",
              "      <td>108</td>\n",
              "      <td>0.077347</td>\n",
              "    </tr>\n",
              "    <tr>\n",
              "      <th>Location_UF</th>\n",
              "      <td>84</td>\n",
              "      <td>0.060159</td>\n",
              "    </tr>\n",
              "    <tr>\n",
              "      <th>Location_CY</th>\n",
              "      <td>0</td>\n",
              "      <td>0.000000</td>\n",
              "    </tr>\n",
              "    <tr>\n",
              "      <th>User-ID</th>\n",
              "      <td>0</td>\n",
              "      <td>0.000000</td>\n",
              "    </tr>\n",
              "  </tbody>\n",
              "</table>\n",
              "</div>"
            ],
            "text/plain": [
              "             Total    Percent\n",
              "Age          63148  45.224914\n",
              "Location_CT    108   0.077347\n",
              "Location_UF     84   0.060159\n",
              "Location_CY      0   0.000000\n",
              "User-ID          0   0.000000"
            ]
          },
          "metadata": {
            "tags": []
          },
          "execution_count": 16
        }
      ]
    },
    {
      "cell_type": "code",
      "metadata": {
        "id": "wurfSCVK59Gl",
        "colab_type": "code",
        "colab": {
          "base_uri": "https://localhost:8080/",
          "height": 698
        },
        "outputId": "04bb6d91-8406-477e-d05b-750383b0bba0"
      },
      "source": [
        "# UF dos usuários\n",
        "Users_USA_UF=df_users_usa[\"Location_UF\"].value_counts(ascending=False)\n",
        "Users_USA_UF.head(20).plot.bar()\n",
        "Users_USA_UF.head(20)"
      ],
      "execution_count": 17,
      "outputs": [
        {
          "output_type": "execute_result",
          "data": {
            "text/plain": [
              "california        19633\n",
              "texas              8206\n",
              "new york           7733\n",
              "florida            6923\n",
              "pennsylvania       5891\n",
              "illinois           5792\n",
              "washington         5679\n",
              "ohio               4563\n",
              "michigan           4486\n",
              "oregon             4229\n",
              "virginia           4215\n",
              "massachusetts      3878\n",
              "missouri           3843\n",
              "north carolina     3623\n",
              "new jersey         3536\n",
              "georgia            3302\n",
              "minnesota          3009\n",
              "colorado           2558\n",
              "wisconsin          2522\n",
              "maryland           2511\n",
              "Name: Location_UF, dtype: int64"
            ]
          },
          "metadata": {
            "tags": []
          },
          "execution_count": 17
        },
        {
          "output_type": "display_data",
          "data": {
            "image/png": "[encoded data removed]",
            "text/plain": [
              "<Figure size 432x288 with 1 Axes>"
            ]
          },
          "metadata": {
            "tags": [],
            "needs_background": "light"
          }
        }
      ]
    },
    {
      "cell_type": "code",
      "metadata": {
        "colab_type": "code",
        "id": "8yxl8rU75NGd",
        "colab": {
          "base_uri": "https://localhost:8080/",
          "height": 639
        },
        "outputId": "58a63d43-2ac0-49b7-e495-e23f8f4de4f3"
      },
      "source": [
        "# Idade dos usuários - aumentou bastante a idade média vs base full\n",
        "Users_USA_Age=df_users_usa[\"Age\"].value_counts(ascending=False)\n",
        "Users_USA_Age.head(20).plot.bar()\n",
        "Users_USA_Age.head(20)\n",
        "\n"
      ],
      "execution_count": 18,
      "outputs": [
        {
          "output_type": "execute_result",
          "data": {
            "text/plain": [
              "34.0    2186\n",
              "33.0    1982\n",
              "35.0    1979\n",
              "29.0    1928\n",
              "32.0    1927\n",
              "36.0    1848\n",
              "24.0    1842\n",
              "28.0    1835\n",
              "31.0    1824\n",
              "30.0    1822\n",
              "26.0    1792\n",
              "25.0    1788\n",
              "27.0    1779\n",
              "37.0    1689\n",
              "23.0    1667\n",
              "38.0    1647\n",
              "39.0    1602\n",
              "40.0    1563\n",
              "41.0    1560\n",
              "43.0    1545\n",
              "Name: Age, dtype: int64"
            ]
          },
          "metadata": {
            "tags": []
          },
          "execution_count": 18
        },
        {
          "output_type": "display_data",
          "data": {
            "image/png": "[encoded data removed]",
            "text/plain": [
              "<Figure size 432x288 with 1 Axes>"
            ]
          },
          "metadata": {
            "tags": [],
            "needs_background": "light"
          }
        }
      ]
    },
    {
      "cell_type": "code",
      "metadata": {
        "colab_type": "code",
        "id": "LBCCe3Up5NGe",
        "colab": {
          "base_uri": "https://localhost:8080/",
          "height": 372
        },
        "outputId": "d70eae10-0e27-4f35-aec2-18986876a24a"
      },
      "source": [
        "#Histograma com distribuição de idade\n",
        "plt.figure(figsize=(20,5))\n",
        "plt.title(\"Distribution of Age\")\n",
        "ax = sns.distplot(df_users_usa[\"Age\"])\n",
        "ax.set(xlim=(1, 100), ylim=(0, 0.035))\n"
      ],
      "execution_count": 19,
      "outputs": [
        {
          "output_type": "execute_result",
          "data": {
            "text/plain": [
              "[(0.0, 0.035), (1.0, 100.0)]"
            ]
          },
          "metadata": {
            "tags": []
          },
          "execution_count": 19
        },
        {
          "output_type": "display_data",
          "data": {
            "image/png": "[encoded data removed]",
            "text/plain": [
              "<Figure size 1440x360 with 1 Axes>"
            ]
          },
          "metadata": {
            "tags": [],
            "needs_background": "light"
          }
        }
      ]
    },
    {
      "cell_type": "code",
      "metadata": {
        "colab_type": "code",
        "id": "Wm43Kspby4F6",
        "colab": {}
      },
      "source": [
        ""
      ],
      "execution_count": null,
      "outputs": []
    },
    {
      "cell_type": "markdown",
      "metadata": {
        "colab_type": "text",
        "id": "8j2_-CCby4eT"
      },
      "source": [
        "## 3. Desenvolvimento Filtragem Colaborativa\n",
        "Executaremos a filtragem com DL e sem DL, para depois compararmos as principais métricas:\n",
        "\n",
        "**Qualidade de predição (acurácia)**\n",
        "- Mean Absolute Error (MAE) - https://keras.io/api/metrics/regression_metrics/#meanabsoluteerror-class\n",
        "- Mean Squared Error (MSE) / Loss - https://keras.io/api/metrics/regression_metrics/#meansquarederror-class\n",
        "- Root Mean Square Error (RMSE) - https://keras.io/api/metrics/regression_metrics/#rootmeansquarederror-class \n",
        "\n",
        "**Conjunto de recomendações**\n",
        "https://keras.io/api/metrics/classification_metrics/#auc-class \n",
        "Usar Fit and Score??\n",
        "- Precisão (P) - proporção de recomendações consideradas boas\n",
        "- Revocação (R ) - boas recomendações recuperadas pelo sistema\n",
        "- F1 - média ponderada entre P e R.\n",
        "\n",
        "**Lista de recomendação gerada**\n",
        "- Half-life utility (R-Score) - mede a qualidade da lista gerada, ordenando os com maior fit no topo e vai descendo\n"
      ]
    },
    {
      "cell_type": "markdown",
      "metadata": {
        "colab_type": "text",
        "id": "iToDUsoZy9zg"
      },
      "source": [
        "### 3.1 - F.C. com Deep Learning"
      ]
    },
    {
      "cell_type": "code",
      "metadata": {
        "id": "v-Ksg_PfjNJe",
        "colab_type": "code",
        "colab": {}
      },
      "source": [
        "n_factors = 50\n",
        "X_train_array = [X_train[:, 0], X_train[:, 1]]\n",
        "X_test_array = [X_test[:, 0], X_test[:, 1]]"
      ],
      "execution_count": 28,
      "outputs": []
    },
    {
      "cell_type": "code",
      "metadata": {
        "id": "50E0Fly-jObI",
        "colab_type": "code",
        "colab": {}
      },
      "source": [
        "from keras.models import Model\n",
        "from keras.layers import Input, Reshape, Dot\n",
        "from keras.layers.embeddings import Embedding\n",
        "from keras.optimizers import Adam\n",
        "from keras.regularizers import l2\n",
        "def RecommenderV1(n_users, n_books, n_factors):\n",
        "    user = Input(shape=(1,))\n",
        "    u = Embedding(n_users, n_factors, embeddings_initializer='he_normal',\n",
        "                  embeddings_regularizer=l2(1e-6))(user)\n",
        "    u = Reshape((n_factors,))(u)\n",
        "    \n",
        "    book = Input(shape=(1,))\n",
        "    m = Embedding(n_books, n_factors, embeddings_initializer='he_normal',\n",
        "                  embeddings_regularizer=l2(1e-6))(book)\n",
        "    m = Reshape((n_factors,))(m)\n",
        "    \n",
        "    x = Dot(axes=1)([u, m])\n",
        "    model = Model(inputs=[user, book], outputs=x)\n",
        "    opt = Adam(lr=0.001)\n",
        "    model.compile(loss='mean_squared_error', optimizer=opt)\n",
        "    return model"
      ],
      "execution_count": 30,
      "outputs": []
    },
    {
      "cell_type": "markdown",
      "metadata": {
        "id": "QbvDOYxLbWV8",
        "colab_type": "text"
      },
      "source": [
        "#Usando fast ai lib para filtragem colaborativo"
      ]
    },
    {
      "cell_type": "markdown",
      "metadata": {
        "id": "u6iEqOVqdKtH",
        "colab_type": "text"
      },
      "source": [
        "### Adicionando titulo aos dados de booking rating"
      ]
    },
    {
      "cell_type": "code",
      "metadata": {
        "id": "4QBLXOnle0I3",
        "colab_type": "code",
        "colab": {
          "base_uri": "https://localhost:8080/",
          "height": 204
        },
        "outputId": "c3d9b527-25f7-485b-d85d-3ee96a3b3ab0"
      },
      "source": [
        "user_book_rating_with_tittle = merged_user_book_rating_df.merge(df_book[['ISBN', 'Book-Title']])\n",
        "user_book_rating_with_tittle.head()"
      ],
      "execution_count": 34,
      "outputs": [
        {
          "output_type": "execute_result",
          "data": {
            "text/html": [
              "<div>\n",
              "<style scoped>\n",
              "    .dataframe tbody tr th:only-of-type {\n",
              "        vertical-align: middle;\n",
              "    }\n",
              "\n",
              "    .dataframe tbody tr th {\n",
              "        vertical-align: top;\n",
              "    }\n",
              "\n",
              "    .dataframe thead th {\n",
              "        text-align: right;\n",
              "    }\n",
              "</style>\n",
              "<table border=\"1\" class=\"dataframe\">\n",
              "  <thead>\n",
              "    <tr style=\"text-align: right;\">\n",
              "      <th></th>\n",
              "      <th>User-ID</th>\n",
              "      <th>Location_CT</th>\n",
              "      <th>Location_UF</th>\n",
              "      <th>Location_CY</th>\n",
              "      <th>Age</th>\n",
              "      <th>ISBN</th>\n",
              "      <th>Book-Rating</th>\n",
              "      <th>userUniq</th>\n",
              "      <th>bookUniq</th>\n",
              "      <th>Book-Title</th>\n",
              "    </tr>\n",
              "  </thead>\n",
              "  <tbody>\n",
              "    <tr>\n",
              "      <th>0</th>\n",
              "      <td>99955</td>\n",
              "      <td>lockport</td>\n",
              "      <td>new york</td>\n",
              "      <td>usa</td>\n",
              "      <td>14.0</td>\n",
              "      <td>014038572X</td>\n",
              "      <td>10.0</td>\n",
              "      <td>8482</td>\n",
              "      <td>5592</td>\n",
              "      <td>The Outsiders (Now in Speak!)</td>\n",
              "    </tr>\n",
              "    <tr>\n",
              "      <th>1</th>\n",
              "      <td>97290</td>\n",
              "      <td>londonderry</td>\n",
              "      <td>new hampshire</td>\n",
              "      <td>usa</td>\n",
              "      <td>24.0</td>\n",
              "      <td>014038572X</td>\n",
              "      <td>6.0</td>\n",
              "      <td>8267</td>\n",
              "      <td>5592</td>\n",
              "      <td>The Outsiders (Now in Speak!)</td>\n",
              "    </tr>\n",
              "    <tr>\n",
              "      <th>2</th>\n",
              "      <td>179744</td>\n",
              "      <td>manchester</td>\n",
              "      <td>connecticut</td>\n",
              "      <td>usa</td>\n",
              "      <td>26.0</td>\n",
              "      <td>014038572X</td>\n",
              "      <td>8.0</td>\n",
              "      <td>15366</td>\n",
              "      <td>5592</td>\n",
              "      <td>The Outsiders (Now in Speak!)</td>\n",
              "    </tr>\n",
              "    <tr>\n",
              "      <th>3</th>\n",
              "      <td>152062</td>\n",
              "      <td>mchenry</td>\n",
              "      <td>illinois</td>\n",
              "      <td>usa</td>\n",
              "      <td>19.0</td>\n",
              "      <td>014038572X</td>\n",
              "      <td>9.0</td>\n",
              "      <td>12996</td>\n",
              "      <td>5592</td>\n",
              "      <td>The Outsiders (Now in Speak!)</td>\n",
              "    </tr>\n",
              "    <tr>\n",
              "      <th>4</th>\n",
              "      <td>27313</td>\n",
              "      <td>miami</td>\n",
              "      <td>florida</td>\n",
              "      <td>usa</td>\n",
              "      <td>14.0</td>\n",
              "      <td>014038572X</td>\n",
              "      <td>10.0</td>\n",
              "      <td>2170</td>\n",
              "      <td>5592</td>\n",
              "      <td>The Outsiders (Now in Speak!)</td>\n",
              "    </tr>\n",
              "  </tbody>\n",
              "</table>\n",
              "</div>"
            ],
            "text/plain": [
              "  User-ID  Location_CT  ... bookUniq                     Book-Title\n",
              "0   99955     lockport  ...     5592  The Outsiders (Now in Speak!)\n",
              "1   97290  londonderry  ...     5592  The Outsiders (Now in Speak!)\n",
              "2  179744   manchester  ...     5592  The Outsiders (Now in Speak!)\n",
              "3  152062      mchenry  ...     5592  The Outsiders (Now in Speak!)\n",
              "4   27313        miami  ...     5592  The Outsiders (Now in Speak!)\n",
              "\n",
              "[5 rows x 10 columns]"
            ]
          },
          "metadata": {
            "tags": []
          },
          "execution_count": 34
        }
      ]
    },
    {
      "cell_type": "markdown",
      "metadata": {
        "id": "ySf2j_0iiVPY",
        "colab_type": "text"
      },
      "source": [
        "### Selecionando User-Is, ISBN, rating e Book-Title"
      ]
    },
    {
      "cell_type": "code",
      "metadata": {
        "id": "qtwfjxRfieTy",
        "colab_type": "code",
        "colab": {}
      },
      "source": [
        "user_book_with_rating_df = user_book_rating_with_tittle[['User-ID','ISBN','Book-Rating','Book-Title']]"
      ],
      "execution_count": 39,
      "outputs": []
    },
    {
      "cell_type": "code",
      "metadata": {
        "id": "mGNSSliWb-p1",
        "colab_type": "code",
        "colab": {
          "base_uri": "https://localhost:8080/",
          "height": 204
        },
        "outputId": "41959a91-6c73-4dd0-b4e7-76b656f3e51b"
      },
      "source": [
        "from fastai.collab import *\n",
        "from fastai.tabular import *\n",
        "\n",
        "data = CollabDataBunch.from_df(user_book_with_rating_df, seed=42, valid_pct=0.1, item_name='Book-Title')\n",
        "data.show_batch()"
      ],
      "execution_count": 40,
      "outputs": [
        {
          "output_type": "display_data",
          "data": {
            "text/html": [
              "<table border=\"1\" class=\"dataframe\">\n",
              "  <thead>\n",
              "    <tr style=\"text-align: right;\">\n",
              "      <th>User-ID</th>\n",
              "      <th>Book-Title</th>\n",
              "      <th>target</th>\n",
              "    </tr>\n",
              "  </thead>\n",
              "  <tbody>\n",
              "    <tr>\n",
              "      <td>204864</td>\n",
              "      <td>The Dime Museum Murders (Harry Houdini Mysteries)</td>\n",
              "      <td>10.0</td>\n",
              "    </tr>\n",
              "    <tr>\n",
              "      <td>220240</td>\n",
              "      <td>Pascal's Wager</td>\n",
              "      <td>8.0</td>\n",
              "    </tr>\n",
              "    <tr>\n",
              "      <td>27228</td>\n",
              "      <td>Truly tasteless jokes</td>\n",
              "      <td>1.0</td>\n",
              "    </tr>\n",
              "    <tr>\n",
              "      <td>119749</td>\n",
              "      <td>Dog Brain</td>\n",
              "      <td>5.0</td>\n",
              "    </tr>\n",
              "    <tr>\n",
              "      <td>54527</td>\n",
              "      <td>SEE I TOLD YOU SO</td>\n",
              "      <td>5.0</td>\n",
              "    </tr>\n",
              "  </tbody>\n",
              "</table>"
            ],
            "text/plain": [
              "<IPython.core.display.HTML object>"
            ]
          },
          "metadata": {
            "tags": []
          }
        }
      ]
    },
    {
      "cell_type": "code",
      "metadata": {
        "id": "KLhYhctccBXe",
        "colab_type": "code",
        "colab": {
          "base_uri": "https://localhost:8080/",
          "height": 380
        },
        "outputId": "0d3839c6-f7fe-4d54-e9f2-1f41a137e721"
      },
      "source": [
        "y_range = [0,5.5]\n",
        "learn = collab_learner(data, n_factors=40, y_range=y_range, wd=1e-1)\n",
        "learn.lr_find()\n",
        "learn.recorder.plot(skip_end=15)"
      ],
      "execution_count": 41,
      "outputs": [
        {
          "output_type": "display_data",
          "data": {
            "text/html": [
              "\n",
              "    <div>\n",
              "        <style>\n",
              "            /* Turns off some styling */\n",
              "            progress {\n",
              "                /* gets rid of default border in Firefox and Opera. */\n",
              "                border: none;\n",
              "                /* Needs to be in here for Safari polyfill so background images work as expected. */\n",
              "                background-size: auto;\n",
              "            }\n",
              "            .progress-bar-interrupted, .progress-bar-interrupted::-webkit-progress-bar {\n",
              "                background: #F44336;\n",
              "            }\n",
              "        </style>\n",
              "      <progress value='0' class='' max='1' style='width:300px; height:20px; vertical-align: middle;'></progress>\n",
              "      0.00% [0/1 00:00<00:00]\n",
              "    </div>\n",
              "    \n",
              "<table border=\"1\" class=\"dataframe\">\n",
              "  <thead>\n",
              "    <tr style=\"text-align: left;\">\n",
              "      <th>epoch</th>\n",
              "      <th>train_loss</th>\n",
              "      <th>valid_loss</th>\n",
              "      <th>time</th>\n",
              "    </tr>\n",
              "  </thead>\n",
              "  <tbody>\n",
              "  </tbody>\n",
              "</table><p>\n",
              "\n",
              "    <div>\n",
              "        <style>\n",
              "            /* Turns off some styling */\n",
              "            progress {\n",
              "                /* gets rid of default border in Firefox and Opera. */\n",
              "                border: none;\n",
              "                /* Needs to be in here for Safari polyfill so background images work as expected. */\n",
              "                background-size: auto;\n",
              "            }\n",
              "            .progress-bar-interrupted, .progress-bar-interrupted::-webkit-progress-bar {\n",
              "                background: #F44336;\n",
              "            }\n",
              "        </style>\n",
              "      <progress value='93' class='' max='299' style='width:300px; height:20px; vertical-align: middle;'></progress>\n",
              "      31.10% [93/299 00:01<00:02 26.6886]\n",
              "    </div>\n",
              "    "
            ],
            "text/plain": [
              "<IPython.core.display.HTML object>"
            ]
          },
          "metadata": {
            "tags": []
          }
        },
        {
          "output_type": "stream",
          "text": [
            "LR Finder is complete, type {learner_name}.recorder.plot() to see the graph.\n"
          ],
          "name": "stdout"
        },
        {
          "output_type": "display_data",
          "data": {
            "image/png": "[encoded data removed]",
            "text/plain": [
              "<Figure size 432x288 with 1 Axes>"
            ]
          },
          "metadata": {
            "tags": [],
            "needs_background": "light"
          }
        }
      ]
    },
    {
      "cell_type": "code",
      "metadata": {
        "id": "mVwGVTqNcHJb",
        "colab_type": "code",
        "colab": {
          "base_uri": "https://localhost:8080/",
          "height": 204
        },
        "outputId": "d0d1219c-74dc-4aff-a1b0-edfbfa162552"
      },
      "source": [
        "learn.fit_one_cycle(5, 5e-3)"
      ],
      "execution_count": 42,
      "outputs": [
        {
          "output_type": "display_data",
          "data": {
            "text/html": [
              "<table border=\"1\" class=\"dataframe\">\n",
              "  <thead>\n",
              "    <tr style=\"text-align: left;\">\n",
              "      <th>epoch</th>\n",
              "      <th>train_loss</th>\n",
              "      <th>valid_loss</th>\n",
              "      <th>time</th>\n",
              "    </tr>\n",
              "  </thead>\n",
              "  <tbody>\n",
              "    <tr>\n",
              "      <td>0</td>\n",
              "      <td>27.368103</td>\n",
              "      <td>27.924475</td>\n",
              "      <td>00:03</td>\n",
              "    </tr>\n",
              "    <tr>\n",
              "      <td>1</td>\n",
              "      <td>23.071636</td>\n",
              "      <td>24.187996</td>\n",
              "      <td>00:03</td>\n",
              "    </tr>\n",
              "    <tr>\n",
              "      <td>2</td>\n",
              "      <td>17.781866</td>\n",
              "      <td>22.406733</td>\n",
              "      <td>00:03</td>\n",
              "    </tr>\n",
              "    <tr>\n",
              "      <td>3</td>\n",
              "      <td>14.404508</td>\n",
              "      <td>21.834564</td>\n",
              "      <td>00:03</td>\n",
              "    </tr>\n",
              "    <tr>\n",
              "      <td>4</td>\n",
              "      <td>13.335123</td>\n",
              "      <td>21.738651</td>\n",
              "      <td>00:03</td>\n",
              "    </tr>\n",
              "  </tbody>\n",
              "</table>"
            ],
            "text/plain": [
              "<IPython.core.display.HTML object>"
            ]
          },
          "metadata": {
            "tags": []
          }
        }
      ]
    },
    {
      "cell_type": "code",
      "metadata": {
        "id": "StA_N2eJcLj2",
        "colab_type": "code",
        "colab": {}
      },
      "source": [
        "learn.save('dotprod')"
      ],
      "execution_count": 43,
      "outputs": []
    },
    {
      "cell_type": "markdown",
      "metadata": {
        "id": "FX5sXDKNfq5t",
        "colab_type": "text"
      },
      "source": [
        "### Interpretacao"
      ]
    },
    {
      "cell_type": "code",
      "metadata": {
        "id": "RqVib4a8ft3v",
        "colab_type": "code",
        "colab": {
          "base_uri": "https://localhost:8080/",
          "height": 119
        },
        "outputId": "8364ba3d-c636-497f-f2c9-88535b1561e6"
      },
      "source": [
        "# Configuracao\n",
        "learn.load('dotprod');\n",
        "learn.model"
      ],
      "execution_count": 44,
      "outputs": [
        {
          "output_type": "execute_result",
          "data": {
            "text/plain": [
              "EmbeddingDotBias(\n",
              "  (u_weight): Embedding(6820, 40)\n",
              "  (i_weight): Embedding(11034, 40)\n",
              "  (u_bias): Embedding(6820, 1)\n",
              "  (i_bias): Embedding(11034, 1)\n",
              ")"
            ]
          },
          "metadata": {
            "tags": []
          },
          "execution_count": 44
        }
      ]
    },
    {
      "cell_type": "code",
      "metadata": {
        "id": "kfwrpvcRfzyK",
        "colab_type": "code",
        "colab": {
          "base_uri": "https://localhost:8080/",
          "height": 102
        },
        "outputId": "f4f83c2a-b618-400c-d749-cf328c9f9ca8"
      },
      "source": [
        "g = user_book_with_rating_df.groupby('Book-Title')['Book-Rating'].count()\n",
        "top_books = g.sort_values(ascending=False).index.values[:1000]\n",
        "top_books[:10]"
      ],
      "execution_count": 47,
      "outputs": [
        {
          "output_type": "execute_result",
          "data": {
            "text/plain": [
              "array(['A Painted House', \"Harry Potter and the Sorcerer's Stone (Harry Potter (Paperback))\", 'Snow Falling on Cedars',\n",
              "       'Harry Potter and the Order of the Phoenix (Book 5)',\n",
              "       \"The No. 1 Ladies' Detective Agency (Today Show Book Club #8)\", 'The Firm', 'The Bridges of Madison County',\n",
              "       'STONES FROM THE RIVER', 'A Child Called \\\\It\\\\\": One Child\\'s Courage to Survive\"', \"Bridget Jones's Diary\"],\n",
              "      dtype=object)"
            ]
          },
          "metadata": {
            "tags": []
          },
          "execution_count": 47
        }
      ]
    },
    {
      "cell_type": "markdown",
      "metadata": {
        "id": "956X6_Xqj2Sv",
        "colab_type": "text"
      },
      "source": [
        "### Book bias"
      ]
    },
    {
      "cell_type": "code",
      "metadata": {
        "id": "78hIFZDWj5oA",
        "colab_type": "code",
        "colab": {
          "base_uri": "https://localhost:8080/",
          "height": 34
        },
        "outputId": "9c56b21f-45ee-4ac1-8f58-a119b731e266"
      },
      "source": [
        "book_bias = learn.bias(top_books, is_item=True)\n",
        "book_bias.shape"
      ],
      "execution_count": 48,
      "outputs": [
        {
          "output_type": "execute_result",
          "data": {
            "text/plain": [
              "torch.Size([1000])"
            ]
          },
          "metadata": {
            "tags": []
          },
          "execution_count": 48
        }
      ]
    },
    {
      "cell_type": "code",
      "metadata": {
        "id": "WBs5Y_uDkFTo",
        "colab_type": "code",
        "colab": {}
      },
      "source": [
        "mean_ratings = user_book_with_rating_df.groupby('Book-Title')['Book-Rating'].mean()\n",
        "book_ratings = [(b, i, mean_ratings.loc[i]) for i,b in zip(top_books,book_bias)]"
      ],
      "execution_count": 49,
      "outputs": []
    },
    {
      "cell_type": "code",
      "metadata": {
        "id": "WACruJjFkdTD",
        "colab_type": "code",
        "colab": {}
      },
      "source": [
        "item0 = lambda o:o[0]"
      ],
      "execution_count": 50,
      "outputs": []
    },
    {
      "cell_type": "code",
      "metadata": {
        "id": "7d2_d-JLkd1L",
        "colab_type": "code",
        "colab": {
          "base_uri": "https://localhost:8080/",
          "height": 272
        },
        "outputId": "22130528-b3c6-4f3b-e611-be4f8d87591d"
      },
      "source": [
        "sorted(book_ratings, key=item0)[:15]"
      ],
      "execution_count": 51,
      "outputs": [
        {
          "output_type": "execute_result",
          "data": {
            "text/plain": [
              "[(tensor(-0.0006), 'Black Coffee Blues', 3.0),\n",
              " (tensor(0.0166), 'The Book Club', 3.3333333),\n",
              " (tensor(0.0468), \"Let's Get Invisible! (Goosebumps, No 6)\", 5.0),\n",
              " (tensor(0.0672), 'Lawless', 8.25),\n",
              " (tensor(0.0696), 'Coldheart Canyon', 5.0),\n",
              " (tensor(0.0811), 'A Tangled Web', 7.0),\n",
              " (tensor(0.0875), 'Blue Gold : A Novel from the NUMA Files', 5.0),\n",
              " (tensor(0.0887), 'The Golden Compass (His Dark Materials, Book 1)', 9.333333),\n",
              " (tensor(0.0894), 'The Good Men', 6.3333335),\n",
              " (tensor(0.0952), 'The Artistic Cat', 8.75),\n",
              " (tensor(0.1053), 'Embrace the Twilight', 8.75),\n",
              " (tensor(0.1086), 'Naughty Marietta', 7.0),\n",
              " (tensor(0.1201), 'CAT OUTER SPACE', 4.6666665),\n",
              " (tensor(0.1220), 'Changing Habits', 8.666667),\n",
              " (tensor(0.1314), 'Beach Roses', 8.666667)]"
            ]
          },
          "metadata": {
            "tags": []
          },
          "execution_count": 51
        }
      ]
    },
    {
      "cell_type": "code",
      "metadata": {
        "id": "IjLh4r9wkoMg",
        "colab_type": "code",
        "colab": {}
      },
      "source": [
        "sorted(book_ratings, key=lambda o: o[0], reverse=True)[:15]"
      ],
      "execution_count": null,
      "outputs": []
    },
    {
      "cell_type": "markdown",
      "metadata": {
        "id": "Fp6Ems8Uks3x",
        "colab_type": "text"
      },
      "source": [
        "### Book weights"
      ]
    },
    {
      "cell_type": "code",
      "metadata": {
        "id": "C9JRp16jkxOi",
        "colab_type": "code",
        "colab": {
          "base_uri": "https://localhost:8080/",
          "height": 34
        },
        "outputId": "e9d022a9-4509-40f0-e9f6-5623d1baf433"
      },
      "source": [
        "book_w = learn.weight(top_books, is_item=True)\n",
        "book_w.shape"
      ],
      "execution_count": 52,
      "outputs": [
        {
          "output_type": "execute_result",
          "data": {
            "text/plain": [
              "torch.Size([1000, 40])"
            ]
          },
          "metadata": {
            "tags": []
          },
          "execution_count": 52
        }
      ]
    },
    {
      "cell_type": "code",
      "metadata": {
        "id": "z7uz0yB7lDDI",
        "colab_type": "code",
        "colab": {
          "base_uri": "https://localhost:8080/",
          "height": 34
        },
        "outputId": "80d77531-bf59-45ac-dea0-517024836c3d"
      },
      "source": [
        "book_pca = book_w.pca(3)\n",
        "book_pca.shape"
      ],
      "execution_count": 53,
      "outputs": [
        {
          "output_type": "execute_result",
          "data": {
            "text/plain": [
              "torch.Size([1000, 3])"
            ]
          },
          "metadata": {
            "tags": []
          },
          "execution_count": 53
        }
      ]
    },
    {
      "cell_type": "code",
      "metadata": {
        "id": "SF9tCipUlIHp",
        "colab_type": "code",
        "colab": {}
      },
      "source": [
        "fac0,fac1,fac2 = book_pca.t()\n",
        "book_comp = [(f, i) for f,i in zip(fac0, top_books)]"
      ],
      "execution_count": 54,
      "outputs": []
    },
    {
      "cell_type": "code",
      "metadata": {
        "id": "YjxiQUn7lNgL",
        "colab_type": "code",
        "colab": {
          "base_uri": "https://localhost:8080/",
          "height": 221
        },
        "outputId": "cdc8fe86-bdac-4bae-f6d1-fb80aa41f6ac"
      },
      "source": [
        "sorted(book_comp, key=itemgetter(0), reverse=True)[:10]"
      ],
      "execution_count": 55,
      "outputs": [
        {
          "output_type": "execute_result",
          "data": {
            "text/plain": [
              "[(tensor(2.3317), 'Snow Falling on Cedars'),\n",
              " (tensor(2.1948), 'The Firm'),\n",
              " (tensor(2.1448), 'A Painted House'),\n",
              " (tensor(2.0782), 'A Child Called \\\\It\\\\\": One Child\\'s Courage to Survive\"'),\n",
              " (tensor(2.0122),\n",
              "  \"Harry Potter and the Sorcerer's Stone (Harry Potter (Paperback))\"),\n",
              " (tensor(1.9899), 'The Bridges of Madison County'),\n",
              " (tensor(1.9614),\n",
              "  \"The Color of Water: A Black Man's Tribute to His White Mother\"),\n",
              " (tensor(1.8482), 'Girl in Hyacinth Blue'),\n",
              " (tensor(1.8234), 'STONES FROM THE RIVER'),\n",
              " (tensor(1.6633), 'Atonement : A Novel')]"
            ]
          },
          "metadata": {
            "tags": []
          },
          "execution_count": 55
        }
      ]
    },
    {
      "cell_type": "code",
      "metadata": {
        "id": "x2HC3xyJlUcT",
        "colab_type": "code",
        "colab": {
          "base_uri": "https://localhost:8080/",
          "height": 204
        },
        "outputId": "0ea48543-d0ab-48ea-ee98-d2eaaa930a34"
      },
      "source": [
        "sorted(book_comp, key=itemgetter(0))[:10]"
      ],
      "execution_count": 56,
      "outputs": [
        {
          "output_type": "execute_result",
          "data": {
            "text/plain": [
              "[(tensor(-0.8758), 'Earth'),\n",
              " (tensor(-0.8264), \"Hornet's Nest\"),\n",
              " (tensor(-0.8121), 'The Teeth of the Tiger'),\n",
              " (tensor(-0.7793), 'Dakota Home (Dakota Trilogy, Book 2)'),\n",
              " (tensor(-0.6992), 'Hurricane Bay'),\n",
              " (tensor(-0.6763), 'PALMISTRY : HOW TO CHART THE LINES OF YOUR LIFE'),\n",
              " (tensor(-0.6715), 'Siddhartha'),\n",
              " (tensor(-0.6333),\n",
              "  'The League of Extraordinary Gentlemen (Movie Novelization)'),\n",
              " (tensor(-0.6230), 'Innocence'),\n",
              " (tensor(-0.6212), 'Derailed')]"
            ]
          },
          "metadata": {
            "tags": []
          },
          "execution_count": 56
        }
      ]
    },
    {
      "cell_type": "code",
      "metadata": {
        "id": "PvOcZDn_lXOY",
        "colab_type": "code",
        "colab": {}
      },
      "source": [
        "book_comp = [(f, i) for f,i in zip(fac1, top_books)]"
      ],
      "execution_count": 57,
      "outputs": []
    },
    {
      "cell_type": "code",
      "metadata": {
        "id": "FJsxRQvUldow",
        "colab_type": "code",
        "colab": {
          "base_uri": "https://localhost:8080/",
          "height": 187
        },
        "outputId": "6722485b-c6d6-490a-d026-c2c6d1681f45"
      },
      "source": [
        "sorted(book_comp, key=itemgetter(0), reverse=True)[:10]"
      ],
      "execution_count": 58,
      "outputs": [
        {
          "output_type": "execute_result",
          "data": {
            "text/plain": [
              "[(tensor(1.6531), 'Face the Fire (Three Sisters Island Trilogy)'),\n",
              " (tensor(1.2410), 'The Reef'),\n",
              " (tensor(1.1790), 'Key of Light (Key Trilogy (Paperback))'),\n",
              " (tensor(1.0970), 'Purity in Death'),\n",
              " (tensor(1.0404), 'Rising Tides'),\n",
              " (tensor(1.0324), 'Beach House'),\n",
              " (tensor(1.0179), 'Forever... : A Novel of Good and Evil, Love and Hope'),\n",
              " (tensor(0.9639), 'Getting Rid Of Bradley'),\n",
              " (tensor(0.9561), 'A Painted House'),\n",
              " (tensor(0.9506), \"Thursday'S At Eight\")]"
            ]
          },
          "metadata": {
            "tags": []
          },
          "execution_count": 58
        }
      ]
    },
    {
      "cell_type": "code",
      "metadata": {
        "id": "l6RNaH5FlgEM",
        "colab_type": "code",
        "colab": {
          "base_uri": "https://localhost:8080/",
          "height": 187
        },
        "outputId": "d884c522-ad42-46a3-ac8c-be65a807d3bc"
      },
      "source": [
        "sorted(book_comp, key=itemgetter(0))[:10]"
      ],
      "execution_count": 59,
      "outputs": [
        {
          "output_type": "execute_result",
          "data": {
            "text/plain": [
              "[(tensor(-1.0011), 'Fierce Invalids Home from Hot Climates'),\n",
              " (tensor(-0.7437), 'Breathing Lessons'),\n",
              " (tensor(-0.7046), 'Of Human Bondage (Bantam Classic)'),\n",
              " (tensor(-0.7045), 'High Tide'),\n",
              " (tensor(-0.6305), \"Anne Frank's Tales from the Secret Annex\"),\n",
              " (tensor(-0.6304), 'Final Flight'),\n",
              " (tensor(-0.6247), 'Breach of Promise'),\n",
              " (tensor(-0.6230), 'Bella Tuscany : The Sweet Life in Italy'),\n",
              " (tensor(-0.6184), 'All New People: A Novel'),\n",
              " (tensor(-0.5998), 'Amanda')]"
            ]
          },
          "metadata": {
            "tags": []
          },
          "execution_count": 59
        }
      ]
    },
    {
      "cell_type": "code",
      "metadata": {
        "id": "gyYFwQ5qlj9q",
        "colab_type": "code",
        "colab": {
          "base_uri": "https://localhost:8080/",
          "height": 866
        },
        "outputId": "4cf391aa-3105-4b38-ce81-7f6ed2b37f54"
      },
      "source": [
        "idxs = np.random.choice(len(top_books), 50, replace=False)\n",
        "idxs = list(range(50))\n",
        "X = fac0[idxs]\n",
        "Y = fac2[idxs]\n",
        "plt.figure(figsize=(15,15))\n",
        "plt.scatter(X, Y)\n",
        "for i, x, y in zip(top_books[idxs], X, Y):\n",
        "    plt.text(x,y,i, color=np.random.rand(3)*0.7, fontsize=11)\n",
        "plt.show()"
      ],
      "execution_count": 60,
      "outputs": [
        {
          "output_type": "display_data",
          "data": {
            "image/png": "[encoded data removed]",
            "text/plain": [
              "<Figure size 1080x1080 with 1 Axes>"
            ]
          },
          "metadata": {
            "tags": [],
            "needs_background": "light"
          }
        }
      ]
    },
    {
      "cell_type": "markdown",
      "metadata": {
        "id": "UzFDlUa8l6PK",
        "colab_type": "text"
      },
      "source": [
        "## Usando keras"
      ]
    },
    {
      "cell_type": "code",
      "metadata": {
        "id": "1K5YVEj7g4nt",
        "colab_type": "code",
        "colab": {
          "base_uri": "https://localhost:8080/",
          "height": 34
        },
        "outputId": "c9dacdfc-d9fa-4ac6-bc7c-53d618554094"
      },
      "source": [
        "#https://medium.com/@jdwittenauer/deep-learning-with-keras-recommender-systems-e7b99cb29929\n",
        "import sklearn as sk\n",
        "from sklearn.preprocessing import LabelEncoder\n",
        "\n",
        "user_enc = LabelEncoder()\n",
        "merged_user_book_rating_df['userUniq'] = user_enc.fit_transform(merged_user_book_rating_df['User-ID'].values)\n",
        "n_users = merged_user_book_rating_df['userUniq'].nunique()\n",
        "\n",
        "book_enc = LabelEncoder()\n",
        "merged_user_book_rating_df['bookUniq'] = book_enc.fit_transform(merged_user_book_rating_df['ISBN'].values)\n",
        "n_books = merged_user_book_rating_df['bookUniq'].nunique()\n",
        "\n",
        "merged_user_book_rating_df['Book-Rating'] = merged_user_book_rating_df['Book-Rating'].values.astype(np.float32)\n",
        "min_rating = min(merged_user_book_rating_df['Book-Rating'])\n",
        "max_rating = max(merged_user_book_rating_df['Book-Rating'])\n",
        "\n",
        "n_users, n_books, min_rating, max_rating"
      ],
      "execution_count": 26,
      "outputs": [
        {
          "output_type": "execute_result",
          "data": {
            "text/plain": [
              "(23814, 70340, 1.0, 10.0)"
            ]
          },
          "metadata": {
            "tags": []
          },
          "execution_count": 26
        }
      ]
    },
    {
      "cell_type": "code",
      "metadata": {
        "id": "_M9N1U07il51",
        "colab_type": "code",
        "colab": {
          "base_uri": "https://localhost:8080/",
          "height": 34
        },
        "outputId": "84cba707-2ae1-496e-fcbf-dd73c9d9f913"
      },
      "source": [
        "from sklearn.model_selection import train_test_split\n",
        "\n",
        "X = merged_user_book_rating_df[['userUniq', 'bookUniq']].values\n",
        "y = merged_user_book_rating_df['Book-Rating'].values\n",
        "X_train, X_test, y_train, y_test = train_test_split(X, y, test_size=0.1, random_state=42)\n",
        "\n",
        "X_train.shape, X_test.shape, y_train.shape, y_test.shape"
      ],
      "execution_count": 27,
      "outputs": [
        {
          "output_type": "execute_result",
          "data": {
            "text/plain": [
              "((127162, 2), (14130, 2), (127162,), (14130,))"
            ]
          },
          "metadata": {
            "tags": []
          },
          "execution_count": 27
        }
      ]
    },
    {
      "cell_type": "code",
      "metadata": {
        "id": "ezWR57fkjena",
        "colab_type": "code",
        "colab": {
          "base_uri": "https://localhost:8080/",
          "height": 408
        },
        "outputId": "4948ad48-f620-4259-fa65-6bc35b04f690"
      },
      "source": [
        "model = RecommenderV1(n_users, n_books, n_factors)\n",
        "model.summary()"
      ],
      "execution_count": 31,
      "outputs": [
        {
          "output_type": "stream",
          "text": [
            "Model: \"model_1\"\n",
            "__________________________________________________________________________________________________\n",
            "Layer (type)                    Output Shape         Param #     Connected to                     \n",
            "==================================================================================================\n",
            "input_1 (InputLayer)            (None, 1)            0                                            \n",
            "__________________________________________________________________________________________________\n",
            "input_2 (InputLayer)            (None, 1)            0                                            \n",
            "__________________________________________________________________________________________________\n",
            "embedding_1 (Embedding)         (None, 1, 50)        1190700     input_1[0][0]                    \n",
            "__________________________________________________________________________________________________\n",
            "embedding_2 (Embedding)         (None, 1, 50)        3517000     input_2[0][0]                    \n",
            "__________________________________________________________________________________________________\n",
            "reshape_1 (Reshape)             (None, 50)           0           embedding_1[0][0]                \n",
            "__________________________________________________________________________________________________\n",
            "reshape_2 (Reshape)             (None, 50)           0           embedding_2[0][0]                \n",
            "__________________________________________________________________________________________________\n",
            "dot_1 (Dot)                     (None, 1)            0           reshape_1[0][0]                  \n",
            "                                                                 reshape_2[0][0]                  \n",
            "==================================================================================================\n",
            "Total params: 4,707,700\n",
            "Trainable params: 4,707,700\n",
            "Non-trainable params: 0\n",
            "__________________________________________________________________________________________________\n"
          ],
          "name": "stdout"
        }
      ]
    },
    {
      "cell_type": "code",
      "metadata": {
        "id": "u_biuKW5jw7z",
        "colab_type": "code",
        "colab": {
          "base_uri": "https://localhost:8080/",
          "height": 258
        },
        "outputId": "18ac8974-edf6-486d-a9d0-a442b483e073"
      },
      "source": [
        "history = model.fit(x=X_train_array, y=y_train, batch_size=64, epochs=5,\n",
        "                    verbose=1, validation_data=(X_test_array, y_test))"
      ],
      "execution_count": 32,
      "outputs": [
        {
          "output_type": "stream",
          "text": [
            "/usr/local/lib/python3.6/dist-packages/tensorflow/python/framework/indexed_slices.py:434: UserWarning: Converting sparse IndexedSlices to a dense Tensor of unknown shape. This may consume a large amount of memory.\n",
            "  \"Converting sparse IndexedSlices to a dense Tensor of unknown shape. \"\n"
          ],
          "name": "stderr"
        },
        {
          "output_type": "stream",
          "text": [
            "Train on 127162 samples, validate on 14130 samples\n",
            "Epoch 1/5\n",
            "127162/127162 [==============================] - 20s 158us/step - loss: 62.3367 - val_loss: 61.6543\n",
            "Epoch 2/5\n",
            "127162/127162 [==============================] - 18s 144us/step - loss: 54.4508 - val_loss: 52.8587\n",
            "Epoch 3/5\n",
            "127162/127162 [==============================] - 18s 145us/step - loss: 39.4124 - val_loss: 46.3044\n",
            "Epoch 4/5\n",
            "127162/127162 [==============================] - 18s 144us/step - loss: 27.8251 - val_loss: 42.3533\n",
            "Epoch 5/5\n",
            "127162/127162 [==============================] - 18s 144us/step - loss: 19.6330 - val_loss: 39.7635\n"
          ],
          "name": "stdout"
        }
      ]
    },
    {
      "cell_type": "markdown",
      "metadata": {
        "colab_type": "text",
        "id": "iYOw1FLLzE1A"
      },
      "source": [
        "### 3.2 - F.C. sem Deep Learning"
      ]
    },
    {
      "cell_type": "code",
      "metadata": {
        "colab_type": "code",
        "id": "8ScQFionzIi9",
        "colab": {}
      },
      "source": [
        ""
      ],
      "execution_count": null,
      "outputs": []
    },
    {
      "cell_type": "markdown",
      "metadata": {
        "colab_type": "text",
        "id": "y_vkYu7K5ybt"
      },
      "source": [
        "## 4. Comparativo e análise\n",
        "Verificamos as principais métricas dos dois algoritmos, comparando e identificando diferenças"
      ]
    },
    {
      "cell_type": "code",
      "metadata": {
        "colab_type": "code",
        "id": "r_sgAk2251XD",
        "colab": {}
      },
      "source": [
        ""
      ],
      "execution_count": null,
      "outputs": []
    },
    {
      "cell_type": "markdown",
      "metadata": {
        "colab_type": "text",
        "id": "l2CDIfXw51o0"
      },
      "source": [
        "## 5. Conclusão\n",
        "Fechamos o trabalho com a percepção final sobre os 2 modelos executados."
      ]
    }
  ]
}