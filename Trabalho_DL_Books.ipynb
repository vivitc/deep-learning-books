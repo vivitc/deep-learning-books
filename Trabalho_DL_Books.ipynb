{
  "nbformat": 4,
  "nbformat_minor": 0,
  "metadata": {
    "accelerator": "TPU",
    "colab": {
      "name": "Trabalho_DL_Books.ipynb",
      "provenance": [],
      "collapsed_sections": []
    },
    "kernelspec": {
      "display_name": "Python 3",
      "language": "python",
      "name": "python3"
    },
    "language_info": {
      "codemirror_mode": {
        "name": "ipython",
        "version": 3
      },
      "file_extension": ".py",
      "mimetype": "text/x-python",
      "name": "python",
      "nbconvert_exporter": "python",
      "pygments_lexer": "ipython3",
      "version": "3.7.4"
    }
  },
  "cells": [
    {
      "cell_type": "markdown",
      "metadata": {
        "colab_type": "text",
        "id": "KlcibMKA_a-j"
      },
      "source": [
        "## <font color='#EE7600'> UNIVERSIDADE DO VALE DO RIO DOS SINOS - UNISINOS\n",
        "<font color='#FFA500'> CURSO DE ESPECIALIZAÇÃO PÓS-GRADUAÇÃO EM BIG DATA, DATA SCIENCE E DATA ANALYTICS\n",
        "\n",
        "<font color='#696969'> **Amanda Ely Patzer**<br>\n",
        "<font color='#696969'> **James Augusto Lima La Rosa**<br>\n",
        "<font color='#696969'> **Róger William Calderini**<br>\n",
        "<font color='#696969'> **Vinícius D`Ambros**<br>\n",
        "<font color='#696969'> **Viviana Terceros Cordova**<br>      \n",
        "<br>\n",
        "\n",
        "\n",
        "### SISTEMA DE RECOMENDAÇÃO PARA A BIBLIOTECA MUNDIAL - \"BOOKCROSSING\" - https://www.bookcrossing.com/\n",
        "<br>\n",
        "<br>\n",
        "    \n",
        "#### Prof. Gabriel de Oliveira Ramos<br>\n",
        "#### Deep Learning<br>\n",
        "\n",
        "São Leopoldo, julho 2020\n",
        "<br>  \n",
        "<br>  "
      ]
    },
    {
      "cell_type": "markdown",
      "metadata": {
        "id": "3kP07T5Jn2tW",
        "colab_type": "text"
      },
      "source": [
        "### **1\tINTRODUÇÃO**\n",
        "\n",
        "Os sistemas de recomendação (RecSys) são dependentes de muitas motivações, arquiteturas e alguns códigos, e por que utilizar Aprendizado Profundo (Deep Learning). Um ***RecSys*** tem com principal objetivo selecionar o conteúdo que será entregue ao usuário de determinada plataforma. Como já conhecemos estão presentes em diferentes domínios, notícias, filmes, músicas, livros etc.   \n",
        "\n",
        "Esse ambiente trata dois personagens o \"usuário\" x \"contéudo\". Com isso melhoramos a experiência do usuário com a plataforma e melhoramos os negócios oferecidos. São alguns segundos para apresentar algo ótimo, somente uma pequena lista, que irá impactar, e assim essa aceitação afeta diretamente a satisfação do usuário.  \n",
        "<br>  \n",
        "\n",
        "#### **1.1 RecSys como problema de aprendizagem**\n",
        "\n",
        "Os (RecSys) são abordados e tratados comumentes como problemas de Aprendizado de Máquina (Machine Learning), e sim, também muito abordados atualmente com Aprendizado Profundo (Deep Learning).  \n",
        "<br>  \n",
        "\n",
        ">   #### ***O sistema deve aprender como nosso usuário consome, prever e apresentar sugestões dentro da plataforma.***  \n",
        "\n",
        "<br>  \n",
        "\n",
        "Para realizarmos esta solução, existem algumas formas de abordar este problema com alguns métodos e algoritmos diferentes. Em nosso trabalho, iremos abordar um dos métodos amplamente utilizados a ***\"Filtragem Colaborativa - (Collaborative Filter)\"***. Através deste método, ignoramos as características de conteúdo e aboirdados a relação Usuário x Conteúdo, possibilitando assim trocar recomendações entre usuários semelhantes. Com isso, precisamos identificar a força dessa interação, avaliando o comportamento desse usuário com o conteúdo em si, geralemnte modelando um score para nos ajudar.\n",
        "\n",
        "### **2\tO PROBLEMA**\n",
        "\n",
        "A comunidade ***BOOKCROSSING*** é uma \"**Biblioteca Mundial**\". Uma rede social inteligente e ativa, existente atualmente em 132 países, com **1.897.903 *BookCrossers*** e mais de **13 milhões de livros** viajando. Eles visam conectar as pessoas através de livros. Seus participantes etiquetam, liberam e seguem os seus livros. Eles possuem um sistema que, ao se associar, a pessoa doa um livro, cria uma etiqueta com código único, e envia esse livro para um outro leitor interessado. Ao invés de você guardar seu livro na estante após lê-lo, você passa para outras pessoas ao redor do mundo, e pode rastreá-los através da plataforma. Assim, é criada uma grande plataforma de troca de livros, conectando os mais váriados gêneros da literatura. Para conectá-los de forma assertiva, é necessário um sistema de recomendação mais eficiente. Como a plataforma já possui um sistema que permite a geração de notas sobre cada título lido, solicitou um RECSYS:  \n",
        "  \n",
        "> #### Criar um sistema de recomendação para os usuários da plataforma baseados em seu sistema de score.  \n",
        "\n",
        "<br>  \n",
        "  \n",
        "### **3 OBJETIVO**\n",
        "\n",
        "  1.  Criar um protótipo de Sistema de Recomendação (RecSys) baseado em seu sistemas de *score* somente com os usuários do Estados Unidos da América<br>\n",
        "  2.  Descreve e realizar experimentos com algoritmos de aprendizagem de máquina e aprendizagem profunda;<br>\n",
        "  3.  Descrever e testar as possibilidades de recomendação atingidas.<br>  \n"
      ]
    },
    {
      "cell_type": "markdown",
      "metadata": {
        "colab_type": "text",
        "id": "e_dF-ncpwPb9"
      },
      "source": [
        "### **4. IMPORTAÇÃO DAS BIBLIOTECAS**\n",
        "\n",
        "Upload das bibliotecas que serão utilizadas inicialmente."
      ]
    },
    {
      "cell_type": "code",
      "metadata": {
        "colab_type": "code",
        "id": "T27iBThwIlkK",
        "colab": {
          "base_uri": "https://localhost:8080/",
          "height": 275
        },
        "outputId": "33798802-5768-433d-e9ab-bd3462aafb45"
      },
      "source": [
        "from keras.layers import Input, Dense, Conv2D, MaxPooling2D, UpSampling2D\n",
        "from keras.models import Sequential\n",
        "from keras.datasets import mnist\n",
        "\n",
        "#Visualização\n",
        "import seaborn as sns\n",
        "sns.set(style='white', context='notebook', palette='pastel')\n",
        "#Visualização dos dados\n",
        "import matplotlib.pyplot as plt\n",
        "\n",
        "#Used for distribution fitting, and representation\n",
        "from scipy import stats\n",
        "\n",
        "#Time measuring for model training\n",
        "from time import time\n",
        "\n",
        "#dependência do matplotlib\n",
        "!pip install msgpack \n",
        "#instalação do pacote matplotlib\n",
        "!pip install matplotlib  \n",
        "import matplotlib.pyplot as plt \n",
        "import pandas as pd  \n",
        "import statsmodels.api as sm  \n",
        "import pylab as pl  \n",
        "import numpy as np  \n",
        "from patsy import dmatrix  \n",
        "\n",
        "!pip install wordcloud\n",
        "from os import path\n",
        "from PIL import Image\n",
        "\n",
        "import sklearn as sk\n",
        "from sklearn.preprocessing import LabelEncoder\n",
        "from sklearn.model_selection import train_test_split\n",
        "from sklearn.linear_model import LogisticRegression\n",
        "from sklearn.metrics import confusion_matrix\n",
        "from sklearn.metrics import accuracy_score\n",
        "from sklearn.metrics import roc_curve, auc"
      ],
      "execution_count": 2,
      "outputs": [
        {
          "output_type": "stream",
          "text": [
            "Using TensorFlow backend.\n",
            "/usr/local/lib/python3.6/dist-packages/statsmodels/tools/_testing.py:19: FutureWarning: pandas.util.testing is deprecated. Use the functions in the public API at pandas.testing instead.\n",
            "  import pandas.util.testing as tm\n"
          ],
          "name": "stderr"
        },
        {
          "output_type": "stream",
          "text": [
            "Requirement already satisfied: msgpack in /usr/local/lib/python3.6/dist-packages (1.0.0)\n",
            "Requirement already satisfied: matplotlib in /usr/local/lib/python3.6/dist-packages (3.2.2)\n",
            "Requirement already satisfied: numpy>=1.11 in /usr/local/lib/python3.6/dist-packages (from matplotlib) (1.18.5)\n",
            "Requirement already satisfied: kiwisolver>=1.0.1 in /usr/local/lib/python3.6/dist-packages (from matplotlib) (1.2.0)\n",
            "Requirement already satisfied: cycler>=0.10 in /usr/local/lib/python3.6/dist-packages (from matplotlib) (0.10.0)\n",
            "Requirement already satisfied: python-dateutil>=2.1 in /usr/local/lib/python3.6/dist-packages (from matplotlib) (2.8.1)\n",
            "Requirement already satisfied: pyparsing!=2.0.4,!=2.1.2,!=2.1.6,>=2.0.1 in /usr/local/lib/python3.6/dist-packages (from matplotlib) (2.4.7)\n",
            "Requirement already satisfied: six in /usr/local/lib/python3.6/dist-packages (from cycler>=0.10->matplotlib) (1.12.0)\n",
            "Requirement already satisfied: wordcloud in /usr/local/lib/python3.6/dist-packages (1.5.0)\n",
            "Requirement already satisfied: numpy>=1.6.1 in /usr/local/lib/python3.6/dist-packages (from wordcloud) (1.18.5)\n",
            "Requirement already satisfied: pillow in /usr/local/lib/python3.6/dist-packages (from wordcloud) (7.0.0)\n"
          ],
          "name": "stdout"
        }
      ]
    },
    {
      "cell_type": "markdown",
      "metadata": {
        "colab_type": "text",
        "id": "CAQC343gt22o"
      },
      "source": [
        "### **5. UPLOAD DA BASE**\n",
        "\n",
        "Ao analisarmos a base de dados por completo e executar uma técnica de machine learning, o código *crashed* devido ao excesso de dados. Por isso, para compararmos qual método é mais eficaz, aplicou-se o corte de país USA e considerando apenas as avaliações explícitas (1-10), removendo registros com 0. A opção por considerar somente avaliações explícitas se deve ao fato de que registros com rating 0 não significam, necessariamente, insatisfação do usuário com o conteúdo, dado que conteúdos não avaliados também ficam registrados como “0”."
      ]
    },
    {
      "cell_type": "code",
      "metadata": {
        "colab_type": "code",
        "id": "DzcD6O9OuYiH",
        "colab": {}
      },
      "source": [
        "import pandas as pd  \n",
        "url_book_rating = 'https://raw.githubusercontent.com/vivitc/deep-learning-books/master/data/BX-Book-Ratings01.csv'\n",
        "df_book_rating = pd.read_csv(url_book_rating, delimiter=\";\", encoding=\"latin1\")"
      ],
      "execution_count": 3,
      "outputs": []
    },
    {
      "cell_type": "code",
      "metadata": {
        "id": "2DY3JxyCZSaz",
        "colab_type": "code",
        "colab": {
          "base_uri": "https://localhost:8080/",
          "height": 419
        },
        "outputId": "4d1cec43-52a9-4dc0-fd31-605e6d8b7c64"
      },
      "source": [
        "display(df_book_rating)"
      ],
      "execution_count": 4,
      "outputs": [
        {
          "output_type": "display_data",
          "data": {
            "text/html": [
              "<div>\n",
              "<style scoped>\n",
              "    .dataframe tbody tr th:only-of-type {\n",
              "        vertical-align: middle;\n",
              "    }\n",
              "\n",
              "    .dataframe tbody tr th {\n",
              "        vertical-align: top;\n",
              "    }\n",
              "\n",
              "    .dataframe thead th {\n",
              "        text-align: right;\n",
              "    }\n",
              "</style>\n",
              "<table border=\"1\" class=\"dataframe\">\n",
              "  <thead>\n",
              "    <tr style=\"text-align: right;\">\n",
              "      <th></th>\n",
              "      <th>User-ID</th>\n",
              "      <th>ISBN</th>\n",
              "      <th>Book-Rating</th>\n",
              "    </tr>\n",
              "  </thead>\n",
              "  <tbody>\n",
              "    <tr>\n",
              "      <th>0</th>\n",
              "      <td>276725</td>\n",
              "      <td>034545104X</td>\n",
              "      <td>0</td>\n",
              "    </tr>\n",
              "    <tr>\n",
              "      <th>1</th>\n",
              "      <td>276726</td>\n",
              "      <td>0155061224</td>\n",
              "      <td>5</td>\n",
              "    </tr>\n",
              "    <tr>\n",
              "      <th>2</th>\n",
              "      <td>276727</td>\n",
              "      <td>0446520802</td>\n",
              "      <td>0</td>\n",
              "    </tr>\n",
              "    <tr>\n",
              "      <th>3</th>\n",
              "      <td>276729</td>\n",
              "      <td>052165615X</td>\n",
              "      <td>3</td>\n",
              "    </tr>\n",
              "    <tr>\n",
              "      <th>4</th>\n",
              "      <td>276729</td>\n",
              "      <td>0521795028</td>\n",
              "      <td>6</td>\n",
              "    </tr>\n",
              "    <tr>\n",
              "      <th>...</th>\n",
              "      <td>...</td>\n",
              "      <td>...</td>\n",
              "      <td>...</td>\n",
              "    </tr>\n",
              "    <tr>\n",
              "      <th>1149775</th>\n",
              "      <td>276704</td>\n",
              "      <td>1563526298</td>\n",
              "      <td>9</td>\n",
              "    </tr>\n",
              "    <tr>\n",
              "      <th>1149776</th>\n",
              "      <td>276706</td>\n",
              "      <td>0679447156</td>\n",
              "      <td>0</td>\n",
              "    </tr>\n",
              "    <tr>\n",
              "      <th>1149777</th>\n",
              "      <td>276709</td>\n",
              "      <td>0515107662</td>\n",
              "      <td>10</td>\n",
              "    </tr>\n",
              "    <tr>\n",
              "      <th>1149778</th>\n",
              "      <td>276721</td>\n",
              "      <td>0590442449</td>\n",
              "      <td>10</td>\n",
              "    </tr>\n",
              "    <tr>\n",
              "      <th>1149779</th>\n",
              "      <td>276723</td>\n",
              "      <td>05162443314</td>\n",
              "      <td>8</td>\n",
              "    </tr>\n",
              "  </tbody>\n",
              "</table>\n",
              "<p>1149780 rows × 3 columns</p>\n",
              "</div>"
            ],
            "text/plain": [
              "         User-ID         ISBN  Book-Rating\n",
              "0         276725   034545104X            0\n",
              "1         276726   0155061224            5\n",
              "2         276727   0446520802            0\n",
              "3         276729   052165615X            3\n",
              "4         276729   0521795028            6\n",
              "...          ...          ...          ...\n",
              "1149775   276704   1563526298            9\n",
              "1149776   276706   0679447156            0\n",
              "1149777   276709   0515107662           10\n",
              "1149778   276721   0590442449           10\n",
              "1149779   276723  05162443314            8\n",
              "\n",
              "[1149780 rows x 3 columns]"
            ]
          },
          "metadata": {
            "tags": []
          }
        }
      ]
    },
    {
      "cell_type": "code",
      "metadata": {
        "id": "TGacM2f_fk7_",
        "colab_type": "code",
        "colab": {}
      },
      "source": [
        "import pandas as pd  \n",
        "url_book = 'https://raw.githubusercontent.com/vivitc/deep-learning-books/master/data/BX-Books01.csv'\n",
        "df_book = pd.read_csv(url_book, delimiter=\";\", encoding=\"latin1\")"
      ],
      "execution_count": 5,
      "outputs": []
    },
    {
      "cell_type": "code",
      "metadata": {
        "id": "IDtwDFaWZgau",
        "colab_type": "code",
        "colab": {
          "base_uri": "https://localhost:8080/",
          "height": 881
        },
        "outputId": "4b2cb4af-a9c9-4ba1-85d1-b4eee2d01890"
      },
      "source": [
        "display(df_book)"
      ],
      "execution_count": 6,
      "outputs": [
        {
          "output_type": "display_data",
          "data": {
            "text/html": [
              "<div>\n",
              "<style scoped>\n",
              "    .dataframe tbody tr th:only-of-type {\n",
              "        vertical-align: middle;\n",
              "    }\n",
              "\n",
              "    .dataframe tbody tr th {\n",
              "        vertical-align: top;\n",
              "    }\n",
              "\n",
              "    .dataframe thead th {\n",
              "        text-align: right;\n",
              "    }\n",
              "</style>\n",
              "<table border=\"1\" class=\"dataframe\">\n",
              "  <thead>\n",
              "    <tr style=\"text-align: right;\">\n",
              "      <th></th>\n",
              "      <th>ISBN</th>\n",
              "      <th>Book-Title</th>\n",
              "      <th>Book-Author</th>\n",
              "      <th>Year-Of-Publication</th>\n",
              "      <th>Publisher</th>\n",
              "      <th>Image-URL-S</th>\n",
              "      <th>Image-URL-M</th>\n",
              "      <th>Image-URL-L</th>\n",
              "    </tr>\n",
              "  </thead>\n",
              "  <tbody>\n",
              "    <tr>\n",
              "      <th>0</th>\n",
              "      <td>195153448</td>\n",
              "      <td>Classical Mythology</td>\n",
              "      <td>Mark P. O. Morford</td>\n",
              "      <td>2002</td>\n",
              "      <td>Oxford University Press</td>\n",
              "      <td>http://images.amazon.com/images/P/0195153448.0...</td>\n",
              "      <td>http://images.amazon.com/images/P/0195153448.0...</td>\n",
              "      <td>http://images.amazon.com/images/P/0195153448.0...</td>\n",
              "    </tr>\n",
              "    <tr>\n",
              "      <th>1</th>\n",
              "      <td>2005018</td>\n",
              "      <td>Clara Callan</td>\n",
              "      <td>Richard Bruce Wright</td>\n",
              "      <td>2001</td>\n",
              "      <td>HarperFlamingo Canada</td>\n",
              "      <td>http://images.amazon.com/images/P/0002005018.0...</td>\n",
              "      <td>http://images.amazon.com/images/P/0002005018.0...</td>\n",
              "      <td>http://images.amazon.com/images/P/0002005018.0...</td>\n",
              "    </tr>\n",
              "    <tr>\n",
              "      <th>2</th>\n",
              "      <td>60973129</td>\n",
              "      <td>Decision in Normandy</td>\n",
              "      <td>Carlo D'Este</td>\n",
              "      <td>1991</td>\n",
              "      <td>HarperPerennial</td>\n",
              "      <td>http://images.amazon.com/images/P/0060973129.0...</td>\n",
              "      <td>http://images.amazon.com/images/P/0060973129.0...</td>\n",
              "      <td>http://images.amazon.com/images/P/0060973129.0...</td>\n",
              "    </tr>\n",
              "    <tr>\n",
              "      <th>3</th>\n",
              "      <td>374157065</td>\n",
              "      <td>Flu: The Story of the Great Influenza Pandemic...</td>\n",
              "      <td>Gina Bari Kolata</td>\n",
              "      <td>1999</td>\n",
              "      <td>Farrar Straus Giroux</td>\n",
              "      <td>http://images.amazon.com/images/P/0374157065.0...</td>\n",
              "      <td>http://images.amazon.com/images/P/0374157065.0...</td>\n",
              "      <td>http://images.amazon.com/images/P/0374157065.0...</td>\n",
              "    </tr>\n",
              "    <tr>\n",
              "      <th>4</th>\n",
              "      <td>393045218</td>\n",
              "      <td>The Mummies of Urumchi</td>\n",
              "      <td>E. J. W. Barber</td>\n",
              "      <td>1999</td>\n",
              "      <td>W. W. Norton &amp;amp; Company</td>\n",
              "      <td>http://images.amazon.com/images/P/0393045218.0...</td>\n",
              "      <td>http://images.amazon.com/images/P/0393045218.0...</td>\n",
              "      <td>http://images.amazon.com/images/P/0393045218.0...</td>\n",
              "    </tr>\n",
              "    <tr>\n",
              "      <th>...</th>\n",
              "      <td>...</td>\n",
              "      <td>...</td>\n",
              "      <td>...</td>\n",
              "      <td>...</td>\n",
              "      <td>...</td>\n",
              "      <td>...</td>\n",
              "      <td>...</td>\n",
              "      <td>...</td>\n",
              "    </tr>\n",
              "    <tr>\n",
              "      <th>271374</th>\n",
              "      <td>440400988</td>\n",
              "      <td>There's a Bat in Bunk Five</td>\n",
              "      <td>Paula Danziger</td>\n",
              "      <td>1988</td>\n",
              "      <td>Random House Childrens Pub (Mm)</td>\n",
              "      <td>http://images.amazon.com/images/P/0440400988.0...</td>\n",
              "      <td>http://images.amazon.com/images/P/0440400988.0...</td>\n",
              "      <td>http://images.amazon.com/images/P/0440400988.0...</td>\n",
              "    </tr>\n",
              "    <tr>\n",
              "      <th>271375</th>\n",
              "      <td>525447644</td>\n",
              "      <td>From One to One Hundred</td>\n",
              "      <td>Teri Sloat</td>\n",
              "      <td>1991</td>\n",
              "      <td>Dutton Books</td>\n",
              "      <td>http://images.amazon.com/images/P/0525447644.0...</td>\n",
              "      <td>http://images.amazon.com/images/P/0525447644.0...</td>\n",
              "      <td>http://images.amazon.com/images/P/0525447644.0...</td>\n",
              "    </tr>\n",
              "    <tr>\n",
              "      <th>271376</th>\n",
              "      <td>006008667X</td>\n",
              "      <td>Lily Dale : The True Story of the Town that Ta...</td>\n",
              "      <td>Christine Wicker</td>\n",
              "      <td>2004</td>\n",
              "      <td>HarperSanFrancisco</td>\n",
              "      <td>http://images.amazon.com/images/P/006008667X.0...</td>\n",
              "      <td>http://images.amazon.com/images/P/006008667X.0...</td>\n",
              "      <td>http://images.amazon.com/images/P/006008667X.0...</td>\n",
              "    </tr>\n",
              "    <tr>\n",
              "      <th>271377</th>\n",
              "      <td>192126040</td>\n",
              "      <td>Republic (World's Classics)</td>\n",
              "      <td>Plato</td>\n",
              "      <td>1996</td>\n",
              "      <td>Oxford University Press</td>\n",
              "      <td>http://images.amazon.com/images/P/0192126040.0...</td>\n",
              "      <td>http://images.amazon.com/images/P/0192126040.0...</td>\n",
              "      <td>http://images.amazon.com/images/P/0192126040.0...</td>\n",
              "    </tr>\n",
              "    <tr>\n",
              "      <th>271378</th>\n",
              "      <td>767409752</td>\n",
              "      <td>A Guided Tour of Rene Descartes' Meditations o...</td>\n",
              "      <td>Christopher  Biffle</td>\n",
              "      <td>2000</td>\n",
              "      <td>McGraw-Hill Humanities/Social Sciences/Languages</td>\n",
              "      <td>http://images.amazon.com/images/P/0767409752.0...</td>\n",
              "      <td>http://images.amazon.com/images/P/0767409752.0...</td>\n",
              "      <td>http://images.amazon.com/images/P/0767409752.0...</td>\n",
              "    </tr>\n",
              "  </tbody>\n",
              "</table>\n",
              "<p>271379 rows × 8 columns</p>\n",
              "</div>"
            ],
            "text/plain": [
              "              ISBN  ...                                        Image-URL-L\n",
              "0        195153448  ...  http://images.amazon.com/images/P/0195153448.0...\n",
              "1          2005018  ...  http://images.amazon.com/images/P/0002005018.0...\n",
              "2         60973129  ...  http://images.amazon.com/images/P/0060973129.0...\n",
              "3        374157065  ...  http://images.amazon.com/images/P/0374157065.0...\n",
              "4        393045218  ...  http://images.amazon.com/images/P/0393045218.0...\n",
              "...            ...  ...                                                ...\n",
              "271374   440400988  ...  http://images.amazon.com/images/P/0440400988.0...\n",
              "271375   525447644  ...  http://images.amazon.com/images/P/0525447644.0...\n",
              "271376  006008667X  ...  http://images.amazon.com/images/P/006008667X.0...\n",
              "271377   192126040  ...  http://images.amazon.com/images/P/0192126040.0...\n",
              "271378   767409752  ...  http://images.amazon.com/images/P/0767409752.0...\n",
              "\n",
              "[271379 rows x 8 columns]"
            ]
          },
          "metadata": {
            "tags": []
          }
        }
      ]
    },
    {
      "cell_type": "code",
      "metadata": {
        "id": "H173NUroZADT",
        "colab_type": "code",
        "colab": {
          "base_uri": "https://localhost:8080/",
          "height": 71
        },
        "outputId": "a3c2783e-3f17-436e-9871-84a4f2eeeda3"
      },
      "source": [
        "import pandas as pd  \n",
        "url_users = 'https://raw.githubusercontent.com/vivitc/deep-learning-books/master/data/BX-Users01.csv'\n",
        "df_users = pd.read_csv(url_users, delimiter=\";\", encoding=\"latin1\", header=0)"
      ],
      "execution_count": 7,
      "outputs": [
        {
          "output_type": "stream",
          "text": [
            "/usr/local/lib/python3.6/dist-packages/IPython/core/interactiveshell.py:2718: DtypeWarning: Columns (0) have mixed types.Specify dtype option on import or set low_memory=False.\n",
            "  interactivity=interactivity, compiler=compiler, result=result)\n"
          ],
          "name": "stderr"
        }
      ]
    },
    {
      "cell_type": "code",
      "metadata": {
        "colab_type": "code",
        "id": "FJZkE06yS6fG",
        "colab": {
          "base_uri": "https://localhost:8080/",
          "height": 419
        },
        "outputId": "473696a1-a4c5-4731-c687-2412fa0092a2"
      },
      "source": [
        "display(df_users)"
      ],
      "execution_count": 8,
      "outputs": [
        {
          "output_type": "display_data",
          "data": {
            "text/html": [
              "<div>\n",
              "<style scoped>\n",
              "    .dataframe tbody tr th:only-of-type {\n",
              "        vertical-align: middle;\n",
              "    }\n",
              "\n",
              "    .dataframe tbody tr th {\n",
              "        vertical-align: top;\n",
              "    }\n",
              "\n",
              "    .dataframe thead th {\n",
              "        text-align: right;\n",
              "    }\n",
              "</style>\n",
              "<table border=\"1\" class=\"dataframe\">\n",
              "  <thead>\n",
              "    <tr style=\"text-align: right;\">\n",
              "      <th></th>\n",
              "      <th>User-ID</th>\n",
              "      <th>Location_CT</th>\n",
              "      <th>Location_UF</th>\n",
              "      <th>Location_CY</th>\n",
              "      <th>Age</th>\n",
              "    </tr>\n",
              "  </thead>\n",
              "  <tbody>\n",
              "    <tr>\n",
              "      <th>0</th>\n",
              "      <td>120567</td>\n",
              "      <td>545</td>\n",
              "      <td>rheinland-pfalz</td>\n",
              "      <td>germany</td>\n",
              "      <td>NaN</td>\n",
              "    </tr>\n",
              "    <tr>\n",
              "      <th>1</th>\n",
              "      <td>84244</td>\n",
              "      <td>01109</td>\n",
              "      <td>sachsen</td>\n",
              "      <td>germany</td>\n",
              "      <td>40.0</td>\n",
              "    </tr>\n",
              "    <tr>\n",
              "      <th>2</th>\n",
              "      <td>151969</td>\n",
              "      <td>1700</td>\n",
              "      <td>fribourg</td>\n",
              "      <td>switzerland</td>\n",
              "      <td>24.0</td>\n",
              "    </tr>\n",
              "    <tr>\n",
              "      <th>3</th>\n",
              "      <td>147786</td>\n",
              "      <td>01721</td>\n",
              "      <td>NaN</td>\n",
              "      <td>NaN</td>\n",
              "      <td>37.0</td>\n",
              "    </tr>\n",
              "    <tr>\n",
              "      <th>4</th>\n",
              "      <td>160922</td>\n",
              "      <td>3003</td>\n",
              "      <td>tenerife</td>\n",
              "      <td>espaã±a</td>\n",
              "      <td>30.0</td>\n",
              "    </tr>\n",
              "    <tr>\n",
              "      <th>...</th>\n",
              "      <td>...</td>\n",
              "      <td>...</td>\n",
              "      <td>...</td>\n",
              "      <td>...</td>\n",
              "      <td>...</td>\n",
              "    </tr>\n",
              "    <tr>\n",
              "      <th>277660</th>\n",
              "      <td>258249</td>\n",
              "      <td>zwolle</td>\n",
              "      <td>NaN</td>\n",
              "      <td>netherlands</td>\n",
              "      <td>26.0</td>\n",
              "    </tr>\n",
              "    <tr>\n",
              "      <th>277661</th>\n",
              "      <td>239223</td>\n",
              "      <td>zxcvzxcvzxcvz</td>\n",
              "      <td>abruzzo</td>\n",
              "      <td>italy</td>\n",
              "      <td>32.0</td>\n",
              "    </tr>\n",
              "    <tr>\n",
              "      <th>277662</th>\n",
              "      <td>146905</td>\n",
              "      <td>zywiec</td>\n",
              "      <td>slaskie</td>\n",
              "      <td>poland</td>\n",
              "      <td>22.0</td>\n",
              "    </tr>\n",
              "    <tr>\n",
              "      <th>277663</th>\n",
              "      <td>51181</td>\n",
              "      <td>new york city</td>\n",
              "      <td>new york</td>\n",
              "      <td>usa</td>\n",
              "      <td>NaN</td>\n",
              "    </tr>\n",
              "    <tr>\n",
              "      <th>277664</th>\n",
              "      <td>NaN</td>\n",
              "      <td>NaN</td>\n",
              "      <td>NaN</td>\n",
              "      <td>NaN</td>\n",
              "      <td>NaN</td>\n",
              "    </tr>\n",
              "  </tbody>\n",
              "</table>\n",
              "<p>277665 rows × 5 columns</p>\n",
              "</div>"
            ],
            "text/plain": [
              "       User-ID    Location_CT      Location_UF  Location_CY   Age\n",
              "0       120567            545  rheinland-pfalz      germany   NaN\n",
              "1        84244          01109          sachsen      germany  40.0\n",
              "2       151969           1700         fribourg  switzerland  24.0\n",
              "3       147786          01721              NaN          NaN  37.0\n",
              "4       160922           3003         tenerife      espaã±a  30.0\n",
              "...        ...            ...              ...          ...   ...\n",
              "277660  258249         zwolle              NaN  netherlands  26.0\n",
              "277661  239223  zxcvzxcvzxcvz          abruzzo        italy  32.0\n",
              "277662  146905         zywiec          slaskie       poland  22.0\n",
              "277663   51181  new york city         new york          usa   NaN\n",
              "277664     NaN            NaN              NaN          NaN   NaN\n",
              "\n",
              "[277665 rows x 5 columns]"
            ]
          },
          "metadata": {
            "tags": []
          }
        }
      ]
    },
    {
      "cell_type": "markdown",
      "metadata": {
        "colab_type": "text",
        "id": "2lSCsmQosjLt"
      },
      "source": [
        "### **6. ANÁLISE DESCRITIVA DOS DADOS**\n",
        "Em seguida, vamos fazer alguns pré-processamentos básicos para conhecer os dados, lembrando os códigos:\n",
        "- **BX-Users**: Contém os usuários(`User-ID`) anônimos. Dados demográficos organizados, quando disponíveis (`Location`, `Age`). `Age` com valor NaN, significa que o valor de `Age` nao foi disponibilizado.\n",
        "\n",
        "- **BX-Books**: Os livros são identificados pelo ISBN (os inválidos já foram removidos). Informações sobre conteúdo são disponíveis como (`Book-Title`, `Book-Author`, `Year-Of-Publication`, `Publisher`), pelo Amazon Web Services. Se houver mais de 1 autor, só o primeiro é mencionado. Imagens da capa estão disponíveis em pequeno, médio e grande (`Image-URL-S`, `Image-URL-M`, `Image-URL-L`), pelo Amazon Web Services também.\n",
        "\n",
        "- **BX-Book-Ratings**: As avaliações dos livros (`Book-Rating`)  são ou explícitas de 1-10 (valores mais altos indicam mais apreciação), ou implicito, expresso por 0.\n",
        "\n",
        "Como informado anteriormente, apesar da base ter diversos países e avaliações, testamos a análise descritiva dos dados e a Filtragem Colaborativa com os dados completos e recebemos uma mensagem de erro devido ao tamanho da Matriz de Interação:\n",
        "\n",
        "    *Erro: ValueError: Unstacked DataFrame is too big, causing int32 overflow*\n",
        "\n",
        "Assim, foram feitos alguns recortes na base para que seja possível trabalhá-la, sendo:\n",
        "- Utilização dos dados referente ao Country USA;\n",
        "- Utilização de livros com avaliações explícitas, ou seja, Ratings de 1-10."
      ]
    },
    {
      "cell_type": "markdown",
      "metadata": {
        "id": "UspiXOlnd6KU",
        "colab_type": "text"
      },
      "source": [
        "#### **6.1 LIMPEZA DA BASE**\n",
        "Para melhorar o desempenho, foi realizada uma adequação na estrutura original dos Users, conforme explica o esquema a seguir. O trabalho de organização dos dados foi focado principalmente no campo Location, que possuia dados de cidade, região/estado e país juntos. Assim, foram criados 3 campos com estes conjuntos, além de um trabalho  de adequação de escrita, para o inglês, assim como a uniformização de escrita das cidades, assim como a grafia das abreviações, sendo utilizadas funções recorrentes e tabelas dinâmicas. Sem esta adequação, as análises e modelos seriam ineficazes, pois a base estava suja."
      ]
    },
    {
      "cell_type": "markdown",
      "metadata": {
        "id": "ffnFIYZYdZ6i",
        "colab_type": "text"
      },
      "source": [
        "![image.png](data:image/png;base64,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)"
      ]
    },
    {
      "cell_type": "markdown",
      "metadata": {
        "id": "okNS13ESAvGe",
        "colab_type": "text"
      },
      "source": [
        "#### **6.2 NORMALIZAÇÃO DE DADOS**"
      ]
    },
    {
      "cell_type": "code",
      "metadata": {
        "id": "AA1kG1KvA-_4",
        "colab_type": "code",
        "colab": {
          "base_uri": "https://localhost:8080/",
          "height": 419
        },
        "outputId": "66228c84-31fb-4bc3-d6f0-2214aedc986c"
      },
      "source": [
        "#Normalizacao de Location para poder fazer comparação. Removendo espaços em branco\n",
        "\n",
        "df_users['Location_CY'] = df_users['Location_CY'].str.strip()\n",
        "df_users"
      ],
      "execution_count": 9,
      "outputs": [
        {
          "output_type": "execute_result",
          "data": {
            "text/html": [
              "<div>\n",
              "<style scoped>\n",
              "    .dataframe tbody tr th:only-of-type {\n",
              "        vertical-align: middle;\n",
              "    }\n",
              "\n",
              "    .dataframe tbody tr th {\n",
              "        vertical-align: top;\n",
              "    }\n",
              "\n",
              "    .dataframe thead th {\n",
              "        text-align: right;\n",
              "    }\n",
              "</style>\n",
              "<table border=\"1\" class=\"dataframe\">\n",
              "  <thead>\n",
              "    <tr style=\"text-align: right;\">\n",
              "      <th></th>\n",
              "      <th>User-ID</th>\n",
              "      <th>Location_CT</th>\n",
              "      <th>Location_UF</th>\n",
              "      <th>Location_CY</th>\n",
              "      <th>Age</th>\n",
              "    </tr>\n",
              "  </thead>\n",
              "  <tbody>\n",
              "    <tr>\n",
              "      <th>0</th>\n",
              "      <td>120567</td>\n",
              "      <td>545</td>\n",
              "      <td>rheinland-pfalz</td>\n",
              "      <td>germany</td>\n",
              "      <td>NaN</td>\n",
              "    </tr>\n",
              "    <tr>\n",
              "      <th>1</th>\n",
              "      <td>84244</td>\n",
              "      <td>01109</td>\n",
              "      <td>sachsen</td>\n",
              "      <td>germany</td>\n",
              "      <td>40.0</td>\n",
              "    </tr>\n",
              "    <tr>\n",
              "      <th>2</th>\n",
              "      <td>151969</td>\n",
              "      <td>1700</td>\n",
              "      <td>fribourg</td>\n",
              "      <td>switzerland</td>\n",
              "      <td>24.0</td>\n",
              "    </tr>\n",
              "    <tr>\n",
              "      <th>3</th>\n",
              "      <td>147786</td>\n",
              "      <td>01721</td>\n",
              "      <td>NaN</td>\n",
              "      <td>NaN</td>\n",
              "      <td>37.0</td>\n",
              "    </tr>\n",
              "    <tr>\n",
              "      <th>4</th>\n",
              "      <td>160922</td>\n",
              "      <td>3003</td>\n",
              "      <td>tenerife</td>\n",
              "      <td>espaã±a</td>\n",
              "      <td>30.0</td>\n",
              "    </tr>\n",
              "    <tr>\n",
              "      <th>...</th>\n",
              "      <td>...</td>\n",
              "      <td>...</td>\n",
              "      <td>...</td>\n",
              "      <td>...</td>\n",
              "      <td>...</td>\n",
              "    </tr>\n",
              "    <tr>\n",
              "      <th>277660</th>\n",
              "      <td>258249</td>\n",
              "      <td>zwolle</td>\n",
              "      <td>NaN</td>\n",
              "      <td>netherlands</td>\n",
              "      <td>26.0</td>\n",
              "    </tr>\n",
              "    <tr>\n",
              "      <th>277661</th>\n",
              "      <td>239223</td>\n",
              "      <td>zxcvzxcvzxcvz</td>\n",
              "      <td>abruzzo</td>\n",
              "      <td>italy</td>\n",
              "      <td>32.0</td>\n",
              "    </tr>\n",
              "    <tr>\n",
              "      <th>277662</th>\n",
              "      <td>146905</td>\n",
              "      <td>zywiec</td>\n",
              "      <td>slaskie</td>\n",
              "      <td>poland</td>\n",
              "      <td>22.0</td>\n",
              "    </tr>\n",
              "    <tr>\n",
              "      <th>277663</th>\n",
              "      <td>51181</td>\n",
              "      <td>new york city</td>\n",
              "      <td>new york</td>\n",
              "      <td>usa</td>\n",
              "      <td>NaN</td>\n",
              "    </tr>\n",
              "    <tr>\n",
              "      <th>277664</th>\n",
              "      <td>NaN</td>\n",
              "      <td>NaN</td>\n",
              "      <td>NaN</td>\n",
              "      <td>NaN</td>\n",
              "      <td>NaN</td>\n",
              "    </tr>\n",
              "  </tbody>\n",
              "</table>\n",
              "<p>277665 rows × 5 columns</p>\n",
              "</div>"
            ],
            "text/plain": [
              "       User-ID    Location_CT      Location_UF  Location_CY   Age\n",
              "0       120567            545  rheinland-pfalz      germany   NaN\n",
              "1        84244          01109          sachsen      germany  40.0\n",
              "2       151969           1700         fribourg  switzerland  24.0\n",
              "3       147786          01721              NaN          NaN  37.0\n",
              "4       160922           3003         tenerife      espaã±a  30.0\n",
              "...        ...            ...              ...          ...   ...\n",
              "277660  258249         zwolle              NaN  netherlands  26.0\n",
              "277661  239223  zxcvzxcvzxcvz          abruzzo        italy  32.0\n",
              "277662  146905         zywiec          slaskie       poland  22.0\n",
              "277663   51181  new york city         new york          usa   NaN\n",
              "277664     NaN            NaN              NaN          NaN   NaN\n",
              "\n",
              "[277665 rows x 5 columns]"
            ]
          },
          "metadata": {
            "tags": []
          },
          "execution_count": 9
        }
      ]
    },
    {
      "cell_type": "code",
      "metadata": {
        "id": "aZDeWTPtBDga",
        "colab_type": "code",
        "colab": {
          "base_uri": "https://localhost:8080/",
          "height": 419
        },
        "outputId": "5b00e01c-0da7-4523-fd71-a5a290358342"
      },
      "source": [
        "# Procurando os usuário que são do país USA\n",
        "import numpy as np\n",
        "df_users_usa = df_users[(df_users['Location_CY'] == \"usa\")]\n",
        "df_users_usa"
      ],
      "execution_count": 10,
      "outputs": [
        {
          "output_type": "execute_result",
          "data": {
            "text/html": [
              "<div>\n",
              "<style scoped>\n",
              "    .dataframe tbody tr th:only-of-type {\n",
              "        vertical-align: middle;\n",
              "    }\n",
              "\n",
              "    .dataframe tbody tr th {\n",
              "        vertical-align: top;\n",
              "    }\n",
              "\n",
              "    .dataframe thead th {\n",
              "        text-align: right;\n",
              "    }\n",
              "</style>\n",
              "<table border=\"1\" class=\"dataframe\">\n",
              "  <thead>\n",
              "    <tr style=\"text-align: right;\">\n",
              "      <th></th>\n",
              "      <th>User-ID</th>\n",
              "      <th>Location_CT</th>\n",
              "      <th>Location_UF</th>\n",
              "      <th>Location_CY</th>\n",
              "      <th>Age</th>\n",
              "    </tr>\n",
              "  </thead>\n",
              "  <tbody>\n",
              "    <tr>\n",
              "      <th>8</th>\n",
              "      <td>266829</td>\n",
              "      <td>alburg</td>\n",
              "      <td>vermont</td>\n",
              "      <td>usa</td>\n",
              "      <td>NaN</td>\n",
              "    </tr>\n",
              "    <tr>\n",
              "      <th>13</th>\n",
              "      <td>155407</td>\n",
              "      <td>new york city</td>\n",
              "      <td>new york</td>\n",
              "      <td>usa</td>\n",
              "      <td>NaN</td>\n",
              "    </tr>\n",
              "    <tr>\n",
              "      <th>14</th>\n",
              "      <td>198308</td>\n",
              "      <td>bronx</td>\n",
              "      <td>new york</td>\n",
              "      <td>usa</td>\n",
              "      <td>46.0</td>\n",
              "    </tr>\n",
              "    <tr>\n",
              "      <th>19</th>\n",
              "      <td>130531</td>\n",
              "      <td>vicksburg</td>\n",
              "      <td>mississippi</td>\n",
              "      <td>usa</td>\n",
              "      <td>25.0</td>\n",
              "    </tr>\n",
              "    <tr>\n",
              "      <th>20</th>\n",
              "      <td>183556</td>\n",
              "      <td>covington</td>\n",
              "      <td>kentucky</td>\n",
              "      <td>usa</td>\n",
              "      <td>NaN</td>\n",
              "    </tr>\n",
              "    <tr>\n",
              "      <th>...</th>\n",
              "      <td>...</td>\n",
              "      <td>...</td>\n",
              "      <td>...</td>\n",
              "      <td>...</td>\n",
              "      <td>...</td>\n",
              "    </tr>\n",
              "    <tr>\n",
              "      <th>277320</th>\n",
              "      <td>258411</td>\n",
              "      <td>zumbrota</td>\n",
              "      <td>minnesota</td>\n",
              "      <td>usa</td>\n",
              "      <td>NaN</td>\n",
              "    </tr>\n",
              "    <tr>\n",
              "      <th>277321</th>\n",
              "      <td>276509</td>\n",
              "      <td>zumbrota</td>\n",
              "      <td>minnesota</td>\n",
              "      <td>usa</td>\n",
              "      <td>NaN</td>\n",
              "    </tr>\n",
              "    <tr>\n",
              "      <th>277324</th>\n",
              "      <td>142979</td>\n",
              "      <td>zuni</td>\n",
              "      <td>virginia</td>\n",
              "      <td>usa</td>\n",
              "      <td>56.0</td>\n",
              "    </tr>\n",
              "    <tr>\n",
              "      <th>277325</th>\n",
              "      <td>143351</td>\n",
              "      <td>zuni</td>\n",
              "      <td>new mexico</td>\n",
              "      <td>usa</td>\n",
              "      <td>NaN</td>\n",
              "    </tr>\n",
              "    <tr>\n",
              "      <th>277663</th>\n",
              "      <td>51181</td>\n",
              "      <td>new york city</td>\n",
              "      <td>new york</td>\n",
              "      <td>usa</td>\n",
              "      <td>NaN</td>\n",
              "    </tr>\n",
              "  </tbody>\n",
              "</table>\n",
              "<p>140181 rows × 5 columns</p>\n",
              "</div>"
            ],
            "text/plain": [
              "       User-ID    Location_CT  Location_UF Location_CY   Age\n",
              "8       266829         alburg      vermont         usa   NaN\n",
              "13      155407  new york city     new york         usa   NaN\n",
              "14      198308          bronx     new york         usa  46.0\n",
              "19      130531      vicksburg  mississippi         usa  25.0\n",
              "20      183556      covington     kentucky         usa   NaN\n",
              "...        ...            ...          ...         ...   ...\n",
              "277320  258411       zumbrota    minnesota         usa   NaN\n",
              "277321  276509       zumbrota    minnesota         usa   NaN\n",
              "277324  142979           zuni     virginia         usa  56.0\n",
              "277325  143351           zuni   new mexico         usa   NaN\n",
              "277663   51181  new york city     new york         usa   NaN\n",
              "\n",
              "[140181 rows x 5 columns]"
            ]
          },
          "metadata": {
            "tags": []
          },
          "execution_count": 10
        }
      ]
    },
    {
      "cell_type": "code",
      "metadata": {
        "id": "enyyrYpDBISt",
        "colab_type": "code",
        "colab": {
          "base_uri": "https://localhost:8080/",
          "height": 419
        },
        "outputId": "0da2893e-6ac3-48a5-f0a3-026418b6b873"
      },
      "source": [
        "# Considerando apenas book rating com avaliação explícita, ou seja, rating superior a 0\n",
        "df_book_with_explicit_rating = df_book_rating[(df_book_rating['Book-Rating'] > 0)]\n",
        "df_book_with_explicit_rating"
      ],
      "execution_count": 11,
      "outputs": [
        {
          "output_type": "execute_result",
          "data": {
            "text/html": [
              "<div>\n",
              "<style scoped>\n",
              "    .dataframe tbody tr th:only-of-type {\n",
              "        vertical-align: middle;\n",
              "    }\n",
              "\n",
              "    .dataframe tbody tr th {\n",
              "        vertical-align: top;\n",
              "    }\n",
              "\n",
              "    .dataframe thead th {\n",
              "        text-align: right;\n",
              "    }\n",
              "</style>\n",
              "<table border=\"1\" class=\"dataframe\">\n",
              "  <thead>\n",
              "    <tr style=\"text-align: right;\">\n",
              "      <th></th>\n",
              "      <th>User-ID</th>\n",
              "      <th>ISBN</th>\n",
              "      <th>Book-Rating</th>\n",
              "    </tr>\n",
              "  </thead>\n",
              "  <tbody>\n",
              "    <tr>\n",
              "      <th>1</th>\n",
              "      <td>276726</td>\n",
              "      <td>0155061224</td>\n",
              "      <td>5</td>\n",
              "    </tr>\n",
              "    <tr>\n",
              "      <th>3</th>\n",
              "      <td>276729</td>\n",
              "      <td>052165615X</td>\n",
              "      <td>3</td>\n",
              "    </tr>\n",
              "    <tr>\n",
              "      <th>4</th>\n",
              "      <td>276729</td>\n",
              "      <td>0521795028</td>\n",
              "      <td>6</td>\n",
              "    </tr>\n",
              "    <tr>\n",
              "      <th>6</th>\n",
              "      <td>276736</td>\n",
              "      <td>3257224281</td>\n",
              "      <td>8</td>\n",
              "    </tr>\n",
              "    <tr>\n",
              "      <th>7</th>\n",
              "      <td>276737</td>\n",
              "      <td>0600570967</td>\n",
              "      <td>6</td>\n",
              "    </tr>\n",
              "    <tr>\n",
              "      <th>...</th>\n",
              "      <td>...</td>\n",
              "      <td>...</td>\n",
              "      <td>...</td>\n",
              "    </tr>\n",
              "    <tr>\n",
              "      <th>1149773</th>\n",
              "      <td>276704</td>\n",
              "      <td>0806917695</td>\n",
              "      <td>5</td>\n",
              "    </tr>\n",
              "    <tr>\n",
              "      <th>1149775</th>\n",
              "      <td>276704</td>\n",
              "      <td>1563526298</td>\n",
              "      <td>9</td>\n",
              "    </tr>\n",
              "    <tr>\n",
              "      <th>1149777</th>\n",
              "      <td>276709</td>\n",
              "      <td>0515107662</td>\n",
              "      <td>10</td>\n",
              "    </tr>\n",
              "    <tr>\n",
              "      <th>1149778</th>\n",
              "      <td>276721</td>\n",
              "      <td>0590442449</td>\n",
              "      <td>10</td>\n",
              "    </tr>\n",
              "    <tr>\n",
              "      <th>1149779</th>\n",
              "      <td>276723</td>\n",
              "      <td>05162443314</td>\n",
              "      <td>8</td>\n",
              "    </tr>\n",
              "  </tbody>\n",
              "</table>\n",
              "<p>433671 rows × 3 columns</p>\n",
              "</div>"
            ],
            "text/plain": [
              "         User-ID         ISBN  Book-Rating\n",
              "1         276726   0155061224            5\n",
              "3         276729   052165615X            3\n",
              "4         276729   0521795028            6\n",
              "6         276736   3257224281            8\n",
              "7         276737   0600570967            6\n",
              "...          ...          ...          ...\n",
              "1149773   276704   0806917695            5\n",
              "1149775   276704   1563526298            9\n",
              "1149777   276709   0515107662           10\n",
              "1149778   276721   0590442449           10\n",
              "1149779   276723  05162443314            8\n",
              "\n",
              "[433671 rows x 3 columns]"
            ]
          },
          "metadata": {
            "tags": []
          },
          "execution_count": 11
        }
      ]
    },
    {
      "cell_type": "code",
      "metadata": {
        "id": "7JwrUVQHCNc0",
        "colab_type": "code",
        "colab": {
          "base_uri": "https://localhost:8080/",
          "height": 419
        },
        "outputId": "40c85891-837e-49ae-d43f-c3b148d1d52f"
      },
      "source": [
        "# Relacionando os usuários de USA e as avaliações que fizeram\n",
        "\n",
        "merged_user_book_rating_df = pd.merge(left=df_users_usa, right=df_book_with_explicit_rating, left_on='User-ID', right_on='User-ID')\n",
        "merged_user_book_rating_df"
      ],
      "execution_count": 12,
      "outputs": [
        {
          "output_type": "execute_result",
          "data": {
            "text/html": [
              "<div>\n",
              "<style scoped>\n",
              "    .dataframe tbody tr th:only-of-type {\n",
              "        vertical-align: middle;\n",
              "    }\n",
              "\n",
              "    .dataframe tbody tr th {\n",
              "        vertical-align: top;\n",
              "    }\n",
              "\n",
              "    .dataframe thead th {\n",
              "        text-align: right;\n",
              "    }\n",
              "</style>\n",
              "<table border=\"1\" class=\"dataframe\">\n",
              "  <thead>\n",
              "    <tr style=\"text-align: right;\">\n",
              "      <th></th>\n",
              "      <th>User-ID</th>\n",
              "      <th>Location_CT</th>\n",
              "      <th>Location_UF</th>\n",
              "      <th>Location_CY</th>\n",
              "      <th>Age</th>\n",
              "      <th>ISBN</th>\n",
              "      <th>Book-Rating</th>\n",
              "    </tr>\n",
              "  </thead>\n",
              "  <tbody>\n",
              "    <tr>\n",
              "      <th>0</th>\n",
              "      <td>141273</td>\n",
              "      <td>lockport</td>\n",
              "      <td>illinois</td>\n",
              "      <td>usa</td>\n",
              "      <td>39.0</td>\n",
              "      <td>0671020641</td>\n",
              "      <td>4</td>\n",
              "    </tr>\n",
              "    <tr>\n",
              "      <th>1</th>\n",
              "      <td>147387</td>\n",
              "      <td>lockport</td>\n",
              "      <td>illinois</td>\n",
              "      <td>usa</td>\n",
              "      <td>41.0</td>\n",
              "      <td>0060160594</td>\n",
              "      <td>8</td>\n",
              "    </tr>\n",
              "    <tr>\n",
              "      <th>2</th>\n",
              "      <td>239476</td>\n",
              "      <td>lockport</td>\n",
              "      <td>illinois</td>\n",
              "      <td>usa</td>\n",
              "      <td>41.0</td>\n",
              "      <td>0425054713</td>\n",
              "      <td>10</td>\n",
              "    </tr>\n",
              "    <tr>\n",
              "      <th>3</th>\n",
              "      <td>278251</td>\n",
              "      <td>lockport</td>\n",
              "      <td>new york</td>\n",
              "      <td>usa</td>\n",
              "      <td>45.0</td>\n",
              "      <td>044020562X</td>\n",
              "      <td>7</td>\n",
              "    </tr>\n",
              "    <tr>\n",
              "      <th>4</th>\n",
              "      <td>98037</td>\n",
              "      <td>locust</td>\n",
              "      <td>north carolina</td>\n",
              "      <td>usa</td>\n",
              "      <td>33.0</td>\n",
              "      <td>0142004235</td>\n",
              "      <td>8</td>\n",
              "    </tr>\n",
              "    <tr>\n",
              "      <th>...</th>\n",
              "      <td>...</td>\n",
              "      <td>...</td>\n",
              "      <td>...</td>\n",
              "      <td>...</td>\n",
              "      <td>...</td>\n",
              "      <td>...</td>\n",
              "      <td>...</td>\n",
              "    </tr>\n",
              "    <tr>\n",
              "      <th>141976</th>\n",
              "      <td>199717</td>\n",
              "      <td>zion grove</td>\n",
              "      <td>pennsylvania</td>\n",
              "      <td>usa</td>\n",
              "      <td>24.0</td>\n",
              "      <td>0441569595</td>\n",
              "      <td>5</td>\n",
              "    </tr>\n",
              "    <tr>\n",
              "      <th>141977</th>\n",
              "      <td>220014</td>\n",
              "      <td>zionsville</td>\n",
              "      <td>indiana</td>\n",
              "      <td>usa</td>\n",
              "      <td>NaN</td>\n",
              "      <td>0312924585</td>\n",
              "      <td>8</td>\n",
              "    </tr>\n",
              "    <tr>\n",
              "      <th>141978</th>\n",
              "      <td>220014</td>\n",
              "      <td>zionsville</td>\n",
              "      <td>indiana</td>\n",
              "      <td>usa</td>\n",
              "      <td>NaN</td>\n",
              "      <td>0679742298</td>\n",
              "      <td>8</td>\n",
              "    </tr>\n",
              "    <tr>\n",
              "      <th>141979</th>\n",
              "      <td>11374</td>\n",
              "      <td>zionville</td>\n",
              "      <td>north carolina</td>\n",
              "      <td>usa</td>\n",
              "      <td>48.0</td>\n",
              "      <td>0671702513</td>\n",
              "      <td>4</td>\n",
              "    </tr>\n",
              "    <tr>\n",
              "      <th>141980</th>\n",
              "      <td>242766</td>\n",
              "      <td>zumbrota</td>\n",
              "      <td>minnesota</td>\n",
              "      <td>usa</td>\n",
              "      <td>NaN</td>\n",
              "      <td>1572232684</td>\n",
              "      <td>10</td>\n",
              "    </tr>\n",
              "  </tbody>\n",
              "</table>\n",
              "<p>141981 rows × 7 columns</p>\n",
              "</div>"
            ],
            "text/plain": [
              "       User-ID Location_CT     Location_UF  ...   Age        ISBN Book-Rating\n",
              "0       141273    lockport        illinois  ...  39.0  0671020641           4\n",
              "1       147387    lockport        illinois  ...  41.0  0060160594           8\n",
              "2       239476    lockport        illinois  ...  41.0  0425054713          10\n",
              "3       278251    lockport        new york  ...  45.0  044020562X           7\n",
              "4        98037      locust  north carolina  ...  33.0  0142004235           8\n",
              "...        ...         ...             ...  ...   ...         ...         ...\n",
              "141976  199717  zion grove    pennsylvania  ...  24.0  0441569595           5\n",
              "141977  220014  zionsville         indiana  ...   NaN  0312924585           8\n",
              "141978  220014  zionsville         indiana  ...   NaN  0679742298           8\n",
              "141979   11374   zionville  north carolina  ...  48.0  0671702513           4\n",
              "141980  242766    zumbrota       minnesota  ...   NaN  1572232684          10\n",
              "\n",
              "[141981 rows x 7 columns]"
            ]
          },
          "metadata": {
            "tags": []
          },
          "execution_count": 12
        }
      ]
    },
    {
      "cell_type": "code",
      "metadata": {
        "id": "KP79YCeZCjwp",
        "colab_type": "code",
        "colab": {
          "base_uri": "https://localhost:8080/",
          "height": 34
        },
        "outputId": "c3995ad8-bc4d-48c2-bccf-1021a6760c6c"
      },
      "source": [
        "# quantidade de usuarios únicos que avaliaram algum livro de forma explícita\n",
        "users_who_evaluated = merged_user_book_rating_df['User-ID'].nunique()\n",
        "users_who_evaluated"
      ],
      "execution_count": 13,
      "outputs": [
        {
          "output_type": "execute_result",
          "data": {
            "text/plain": [
              "23934"
            ]
          },
          "metadata": {
            "tags": []
          },
          "execution_count": 13
        }
      ]
    },
    {
      "cell_type": "code",
      "metadata": {
        "id": "N9sJBfC1C7Sk",
        "colab_type": "code",
        "colab": {
          "base_uri": "https://localhost:8080/",
          "height": 34
        },
        "outputId": "4132b609-b8c7-4d4e-9f2a-fe438253b288"
      },
      "source": [
        "# quantidade de livros avaliados de forma explícita\n",
        "books_evaluated = merged_user_book_rating_df['ISBN'].nunique()\n",
        "books_evaluated"
      ],
      "execution_count": 14,
      "outputs": [
        {
          "output_type": "execute_result",
          "data": {
            "text/plain": [
              "70525"
            ]
          },
          "metadata": {
            "tags": []
          },
          "execution_count": 14
        }
      ]
    },
    {
      "cell_type": "markdown",
      "metadata": {
        "colab_type": "text",
        "id": "ilH420sn5NGW"
      },
      "source": [
        "#### **6.3 ANÁLISE DE USERS**"
      ]
    },
    {
      "cell_type": "code",
      "metadata": {
        "colab_type": "code",
        "id": "-xtyK0385NGX",
        "colab": {
          "base_uri": "https://localhost:8080/",
          "height": 255
        },
        "outputId": "fb4d0790-dfdb-44f7-d2eb-3d9a0daf8e09"
      },
      "source": [
        "#Verificando as estatísticas básicas\n",
        "df_users_usa.describe"
      ],
      "execution_count": 15,
      "outputs": [
        {
          "output_type": "execute_result",
          "data": {
            "text/plain": [
              "<bound method NDFrame.describe of        User-ID    Location_CT  Location_UF Location_CY   Age\n",
              "8       266829         alburg      vermont         usa   NaN\n",
              "13      155407  new york city     new york         usa   NaN\n",
              "14      198308          bronx     new york         usa  46.0\n",
              "19      130531      vicksburg  mississippi         usa  25.0\n",
              "20      183556      covington     kentucky         usa   NaN\n",
              "...        ...            ...          ...         ...   ...\n",
              "277320  258411       zumbrota    minnesota         usa   NaN\n",
              "277321  276509       zumbrota    minnesota         usa   NaN\n",
              "277324  142979           zuni     virginia         usa  56.0\n",
              "277325  143351           zuni   new mexico         usa   NaN\n",
              "277663   51181  new york city     new york         usa   NaN\n",
              "\n",
              "[140181 rows x 5 columns]>"
            ]
          },
          "metadata": {
            "tags": []
          },
          "execution_count": 15
        }
      ]
    },
    {
      "cell_type": "code",
      "metadata": {
        "colab_type": "code",
        "id": "ZWUeVm-25NGZ",
        "colab": {
          "base_uri": "https://localhost:8080/",
          "height": 221
        },
        "outputId": "668987d2-b20d-49d6-ba6f-fa943f8122f4"
      },
      "source": [
        "#Entendendo se temos muitos valores faltantes\n",
        "df_users_usa.info()"
      ],
      "execution_count": 16,
      "outputs": [
        {
          "output_type": "stream",
          "text": [
            "<class 'pandas.core.frame.DataFrame'>\n",
            "Int64Index: 140181 entries, 8 to 277663\n",
            "Data columns (total 5 columns):\n",
            " #   Column       Non-Null Count   Dtype  \n",
            "---  ------       --------------   -----  \n",
            " 0   User-ID      140181 non-null  object \n",
            " 1   Location_CT  140118 non-null  object \n",
            " 2   Location_UF  140181 non-null  object \n",
            " 3   Location_CY  140181 non-null  object \n",
            " 4   Age          76693 non-null   float64\n",
            "dtypes: float64(1), object(4)\n",
            "memory usage: 6.4+ MB\n"
          ],
          "name": "stdout"
        }
      ]
    },
    {
      "cell_type": "code",
      "metadata": {
        "colab_type": "code",
        "id": "XFJeiv-F5NGb",
        "colab": {
          "base_uri": "https://localhost:8080/",
          "height": 204
        },
        "outputId": "54472eab-1e78-44c4-996b-16282335436f"
      },
      "source": [
        "# Quantitade de dados faltantes por feature de usuario\n",
        "\n",
        "total = df_users_usa.isnull().sum().sort_values(ascending = False)\n",
        "percent = (df_users_usa.isnull().sum()/df_users_usa.isnull().count()*100).sort_values(ascending = False)\n",
        "missing_df_users_usa  = pd.concat([total, percent], axis=1, keys=['Total', 'Percent'])\n",
        "missing_df_users_usa"
      ],
      "execution_count": 17,
      "outputs": [
        {
          "output_type": "execute_result",
          "data": {
            "text/html": [
              "<div>\n",
              "<style scoped>\n",
              "    .dataframe tbody tr th:only-of-type {\n",
              "        vertical-align: middle;\n",
              "    }\n",
              "\n",
              "    .dataframe tbody tr th {\n",
              "        vertical-align: top;\n",
              "    }\n",
              "\n",
              "    .dataframe thead th {\n",
              "        text-align: right;\n",
              "    }\n",
              "</style>\n",
              "<table border=\"1\" class=\"dataframe\">\n",
              "  <thead>\n",
              "    <tr style=\"text-align: right;\">\n",
              "      <th></th>\n",
              "      <th>Total</th>\n",
              "      <th>Percent</th>\n",
              "    </tr>\n",
              "  </thead>\n",
              "  <tbody>\n",
              "    <tr>\n",
              "      <th>Age</th>\n",
              "      <td>63488</td>\n",
              "      <td>45.290018</td>\n",
              "    </tr>\n",
              "    <tr>\n",
              "      <th>Location_CT</th>\n",
              "      <td>63</td>\n",
              "      <td>0.044942</td>\n",
              "    </tr>\n",
              "    <tr>\n",
              "      <th>Location_CY</th>\n",
              "      <td>0</td>\n",
              "      <td>0.000000</td>\n",
              "    </tr>\n",
              "    <tr>\n",
              "      <th>Location_UF</th>\n",
              "      <td>0</td>\n",
              "      <td>0.000000</td>\n",
              "    </tr>\n",
              "    <tr>\n",
              "      <th>User-ID</th>\n",
              "      <td>0</td>\n",
              "      <td>0.000000</td>\n",
              "    </tr>\n",
              "  </tbody>\n",
              "</table>\n",
              "</div>"
            ],
            "text/plain": [
              "             Total    Percent\n",
              "Age          63488  45.290018\n",
              "Location_CT     63   0.044942\n",
              "Location_CY      0   0.000000\n",
              "Location_UF      0   0.000000\n",
              "User-ID          0   0.000000"
            ]
          },
          "metadata": {
            "tags": []
          },
          "execution_count": 17
        }
      ]
    },
    {
      "cell_type": "code",
      "metadata": {
        "id": "wurfSCVK59Gl",
        "colab_type": "code",
        "colab": {
          "base_uri": "https://localhost:8080/",
          "height": 698
        },
        "outputId": "255ec7bb-5196-4c15-aa17-c74c5931ce99"
      },
      "source": [
        "# UF dos usuários e a quantidade de usuarios que dizem morar em eles\n",
        "Users_USA_UF=df_users_usa[\"Location_UF\"].value_counts(ascending=False)\n",
        "Users_USA_UF.head(20).plot.bar()\n",
        "Users_USA_UF.head(20)"
      ],
      "execution_count": 18,
      "outputs": [
        {
          "output_type": "execute_result",
          "data": {
            "text/plain": [
              "california        19646\n",
              "texas              8356\n",
              "new york           8308\n",
              "florida            6928\n",
              "washington         6292\n",
              "pennsylvania       6025\n",
              "illinois           5865\n",
              "ohio               4643\n",
              "michigan           4575\n",
              "oregon             4304\n",
              "virginia           4282\n",
              "massachusetts      3961\n",
              "missouri           3937\n",
              "north carolina     3714\n",
              "new jersey         3584\n",
              "georgia            3303\n",
              "minnesota          3087\n",
              "colorado           2563\n",
              "wisconsin          2559\n",
              "maryland           2544\n",
              "Name: Location_UF, dtype: int64"
            ]
          },
          "metadata": {
            "tags": []
          },
          "execution_count": 18
        },
        {
          "output_type": "display_data",
          "data": {
            "image/png": "[encoded data removed]",
            "text/plain": [
              "<Figure size 432x288 with 1 Axes>"
            ]
          },
          "metadata": {
            "tags": []
          }
        }
      ]
    },
    {
      "cell_type": "code",
      "metadata": {
        "colab_type": "code",
        "id": "8yxl8rU75NGd",
        "colab": {
          "base_uri": "https://localhost:8080/",
          "height": 639
        },
        "outputId": "b8f5f159-41a3-45dd-cbbe-2cde30934535"
      },
      "source": [
        "# Idade dos usuários - considerando so usuario de USA\n",
        "Users_USA_Age=df_users_usa[\"Age\"].value_counts(ascending=False)\n",
        "Users_USA_Age.head(20).plot.bar()\n",
        "Users_USA_Age.head(20)"
      ],
      "execution_count": 19,
      "outputs": [
        {
          "output_type": "execute_result",
          "data": {
            "text/plain": [
              "34.0    2199\n",
              "35.0    1988\n",
              "33.0    1987\n",
              "29.0    1935\n",
              "32.0    1931\n",
              "36.0    1854\n",
              "24.0    1845\n",
              "28.0    1845\n",
              "31.0    1828\n",
              "30.0    1823\n",
              "26.0    1797\n",
              "25.0    1794\n",
              "27.0    1783\n",
              "37.0    1693\n",
              "23.0    1677\n",
              "38.0    1651\n",
              "39.0    1606\n",
              "40.0    1567\n",
              "41.0    1567\n",
              "43.0    1550\n",
              "Name: Age, dtype: int64"
            ]
          },
          "metadata": {
            "tags": []
          },
          "execution_count": 19
        },
        {
          "output_type": "display_data",
          "data": {
            "image/png": "[encoded data removed]",
            "text/plain": [
              "<Figure size 432x288 with 1 Axes>"
            ]
          },
          "metadata": {
            "tags": []
          }
        }
      ]
    },
    {
      "cell_type": "code",
      "metadata": {
        "colab_type": "code",
        "id": "LBCCe3Up5NGe",
        "colab": {
          "base_uri": "https://localhost:8080/",
          "height": 372
        },
        "outputId": "c376d202-7e52-4eda-bde7-16f256b622e4"
      },
      "source": [
        "#Histograma com distribuição de idade\n",
        "\n",
        "plt.figure(figsize=(20,5))\n",
        "plt.title(\"Distribution of Age\")\n",
        "ax = sns.distplot(df_users_usa[\"Age\"])\n",
        "ax.set(xlim=(1, 100), ylim=(0, 0.035))"
      ],
      "execution_count": 20,
      "outputs": [
        {
          "output_type": "execute_result",
          "data": {
            "text/plain": [
              "[(0.0, 0.035), (1.0, 100.0)]"
            ]
          },
          "metadata": {
            "tags": []
          },
          "execution_count": 20
        },
        {
          "output_type": "display_data",
          "data": {
            "image/png": "[encoded data removed]",
            "text/plain": [
              "<Figure size 1440x360 with 1 Axes>"
            ]
          },
          "metadata": {
            "tags": []
          }
        }
      ]
    },
    {
      "cell_type": "markdown",
      "metadata": {
        "id": "qS78a7zYyyTr",
        "colab_type": "text"
      },
      "source": [
        "#### **6.4 ANÁLISE DE BOOKS**"
      ]
    },
    {
      "cell_type": "code",
      "metadata": {
        "id": "qK15yddlymDb",
        "colab_type": "code",
        "colab": {
          "base_uri": "https://localhost:8080/",
          "height": 700
        },
        "outputId": "83b286cf-637f-4bf3-9ee9-4157bfe5bb9a"
      },
      "source": [
        "df_book_complete_info = df_book.merge(df_book_with_explicit_rating['ISBN'])\n",
        "df_book_complete_info.head()"
      ],
      "execution_count": 21,
      "outputs": [
        {
          "output_type": "execute_result",
          "data": {
            "text/html": [
              "<div>\n",
              "<style scoped>\n",
              "    .dataframe tbody tr th:only-of-type {\n",
              "        vertical-align: middle;\n",
              "    }\n",
              "\n",
              "    .dataframe tbody tr th {\n",
              "        vertical-align: top;\n",
              "    }\n",
              "\n",
              "    .dataframe thead th {\n",
              "        text-align: right;\n",
              "    }\n",
              "</style>\n",
              "<table border=\"1\" class=\"dataframe\">\n",
              "  <thead>\n",
              "    <tr style=\"text-align: right;\">\n",
              "      <th></th>\n",
              "      <th>ISBN</th>\n",
              "      <th>Book-Title</th>\n",
              "      <th>Book-Author</th>\n",
              "      <th>Year-Of-Publication</th>\n",
              "      <th>Publisher</th>\n",
              "      <th>Image-URL-S</th>\n",
              "      <th>Image-URL-M</th>\n",
              "      <th>Image-URL-L</th>\n",
              "    </tr>\n",
              "  </thead>\n",
              "  <tbody>\n",
              "    <tr>\n",
              "      <th>0</th>\n",
              "      <td>074322678X</td>\n",
              "      <td>Where You'll Find Me: And Other Stories</td>\n",
              "      <td>Ann Beattie</td>\n",
              "      <td>2002</td>\n",
              "      <td>Scribner</td>\n",
              "      <td>http://images.amazon.com/images/P/074322678X.0...</td>\n",
              "      <td>http://images.amazon.com/images/P/074322678X.0...</td>\n",
              "      <td>http://images.amazon.com/images/P/074322678X.0...</td>\n",
              "    </tr>\n",
              "    <tr>\n",
              "      <th>1</th>\n",
              "      <td>1552041778</td>\n",
              "      <td>Jane Doe</td>\n",
              "      <td>R. J. Kaiser</td>\n",
              "      <td>1999</td>\n",
              "      <td>Mira Books</td>\n",
              "      <td>http://images.amazon.com/images/P/1552041778.0...</td>\n",
              "      <td>http://images.amazon.com/images/P/1552041778.0...</td>\n",
              "      <td>http://images.amazon.com/images/P/1552041778.0...</td>\n",
              "    </tr>\n",
              "    <tr>\n",
              "      <th>2</th>\n",
              "      <td>1558746218</td>\n",
              "      <td>A Second Chicken Soup for the Woman's Soul (Ch...</td>\n",
              "      <td>Jack Canfield</td>\n",
              "      <td>1998</td>\n",
              "      <td>Health Communications</td>\n",
              "      <td>http://images.amazon.com/images/P/1558746218.0...</td>\n",
              "      <td>http://images.amazon.com/images/P/1558746218.0...</td>\n",
              "      <td>http://images.amazon.com/images/P/1558746218.0...</td>\n",
              "    </tr>\n",
              "    <tr>\n",
              "      <th>3</th>\n",
              "      <td>1558746218</td>\n",
              "      <td>A Second Chicken Soup for the Woman's Soul (Ch...</td>\n",
              "      <td>Jack Canfield</td>\n",
              "      <td>1998</td>\n",
              "      <td>Health Communications</td>\n",
              "      <td>http://images.amazon.com/images/P/1558746218.0...</td>\n",
              "      <td>http://images.amazon.com/images/P/1558746218.0...</td>\n",
              "      <td>http://images.amazon.com/images/P/1558746218.0...</td>\n",
              "    </tr>\n",
              "    <tr>\n",
              "      <th>4</th>\n",
              "      <td>1558746218</td>\n",
              "      <td>A Second Chicken Soup for the Woman's Soul (Ch...</td>\n",
              "      <td>Jack Canfield</td>\n",
              "      <td>1998</td>\n",
              "      <td>Health Communications</td>\n",
              "      <td>http://images.amazon.com/images/P/1558746218.0...</td>\n",
              "      <td>http://images.amazon.com/images/P/1558746218.0...</td>\n",
              "      <td>http://images.amazon.com/images/P/1558746218.0...</td>\n",
              "    </tr>\n",
              "  </tbody>\n",
              "</table>\n",
              "</div>"
            ],
            "text/plain": [
              "         ISBN  ...                                        Image-URL-L\n",
              "0  074322678X  ...  http://images.amazon.com/images/P/074322678X.0...\n",
              "1  1552041778  ...  http://images.amazon.com/images/P/1552041778.0...\n",
              "2  1558746218  ...  http://images.amazon.com/images/P/1558746218.0...\n",
              "3  1558746218  ...  http://images.amazon.com/images/P/1558746218.0...\n",
              "4  1558746218  ...  http://images.amazon.com/images/P/1558746218.0...\n",
              "\n",
              "[5 rows x 8 columns]"
            ]
          },
          "metadata": {
            "tags": []
          },
          "execution_count": 21
        }
      ]
    },
    {
      "cell_type": "code",
      "metadata": {
        "id": "7N-fQkfxzCm0",
        "colab_type": "code",
        "colab": {
          "base_uri": "https://localhost:8080/",
          "height": 34
        },
        "outputId": "b6b0c4f2-b5e8-49dc-bfa9-85a09bb18448"
      },
      "source": [
        "df_book_complete_info.shape"
      ],
      "execution_count": 22,
      "outputs": [
        {
          "output_type": "execute_result",
          "data": {
            "text/plain": [
              "(80806, 8)"
            ]
          },
          "metadata": {
            "tags": []
          },
          "execution_count": 22
        }
      ]
    },
    {
      "cell_type": "code",
      "metadata": {
        "colab_type": "code",
        "id": "RMHQHC-2y_oA",
        "colab": {
          "base_uri": "https://localhost:8080/",
          "height": 297
        },
        "outputId": "98e8facf-716a-480c-dbae-dc1ae9ddbbe5"
      },
      "source": [
        "#Verificando as estatísticas básicas\n",
        "df_book_complete_info.describe(exclude=[np.object])"
      ],
      "execution_count": 23,
      "outputs": [
        {
          "output_type": "execute_result",
          "data": {
            "text/html": [
              "<div>\n",
              "<style scoped>\n",
              "    .dataframe tbody tr th:only-of-type {\n",
              "        vertical-align: middle;\n",
              "    }\n",
              "\n",
              "    .dataframe tbody tr th {\n",
              "        vertical-align: top;\n",
              "    }\n",
              "\n",
              "    .dataframe thead th {\n",
              "        text-align: right;\n",
              "    }\n",
              "</style>\n",
              "<table border=\"1\" class=\"dataframe\">\n",
              "  <thead>\n",
              "    <tr style=\"text-align: right;\">\n",
              "      <th></th>\n",
              "      <th>Year-Of-Publication</th>\n",
              "    </tr>\n",
              "  </thead>\n",
              "  <tbody>\n",
              "    <tr>\n",
              "      <th>count</th>\n",
              "      <td>80806.000000</td>\n",
              "    </tr>\n",
              "    <tr>\n",
              "      <th>mean</th>\n",
              "      <td>1938.969136</td>\n",
              "    </tr>\n",
              "    <tr>\n",
              "      <th>std</th>\n",
              "      <td>335.578786</td>\n",
              "    </tr>\n",
              "    <tr>\n",
              "      <th>min</th>\n",
              "      <td>0.000000</td>\n",
              "    </tr>\n",
              "    <tr>\n",
              "      <th>25%</th>\n",
              "      <td>1994.000000</td>\n",
              "    </tr>\n",
              "    <tr>\n",
              "      <th>50%</th>\n",
              "      <td>1999.000000</td>\n",
              "    </tr>\n",
              "    <tr>\n",
              "      <th>75%</th>\n",
              "      <td>2001.000000</td>\n",
              "    </tr>\n",
              "    <tr>\n",
              "      <th>max</th>\n",
              "      <td>2037.000000</td>\n",
              "    </tr>\n",
              "  </tbody>\n",
              "</table>\n",
              "</div>"
            ],
            "text/plain": [
              "       Year-Of-Publication\n",
              "count         80806.000000\n",
              "mean           1938.969136\n",
              "std             335.578786\n",
              "min               0.000000\n",
              "25%            1994.000000\n",
              "50%            1999.000000\n",
              "75%            2001.000000\n",
              "max            2037.000000"
            ]
          },
          "metadata": {
            "tags": []
          },
          "execution_count": 23
        }
      ]
    },
    {
      "cell_type": "code",
      "metadata": {
        "colab_type": "code",
        "id": "Jct0J99Jy_oC",
        "colab": {
          "base_uri": "https://localhost:8080/",
          "height": 272
        },
        "outputId": "4bbcba1c-4d50-41a5-82a7-bc7cbe45c00d"
      },
      "source": [
        "#Entendendo se temos muitos valores faltantes\n",
        "df_book_complete_info.info()"
      ],
      "execution_count": 24,
      "outputs": [
        {
          "output_type": "stream",
          "text": [
            "<class 'pandas.core.frame.DataFrame'>\n",
            "Int64Index: 80806 entries, 0 to 80805\n",
            "Data columns (total 8 columns):\n",
            " #   Column               Non-Null Count  Dtype \n",
            "---  ------               --------------  ----- \n",
            " 0   ISBN                 80806 non-null  object\n",
            " 1   Book-Title           80806 non-null  object\n",
            " 2   Book-Author          80805 non-null  object\n",
            " 3   Year-Of-Publication  80806 non-null  int64 \n",
            " 4   Publisher            80804 non-null  object\n",
            " 5   Image-URL-S          80806 non-null  object\n",
            " 6   Image-URL-M          80806 non-null  object\n",
            " 7   Image-URL-L          80806 non-null  object\n",
            "dtypes: int64(1), object(7)\n",
            "memory usage: 5.5+ MB\n"
          ],
          "name": "stdout"
        }
      ]
    },
    {
      "cell_type": "code",
      "metadata": {
        "colab_type": "code",
        "id": "zdzd46AHy_oG",
        "colab": {
          "base_uri": "https://localhost:8080/",
          "height": 643
        },
        "outputId": "f7c5ad89-e15c-4ee4-bf90-e299779ca0ca"
      },
      "source": [
        "# Anos de publicação Top 20\n",
        "Ratings=df_book_complete_info[\"Year-Of-Publication\"].value_counts(ascending=False)\n",
        "Ratings.head(20).plot.bar()\n",
        "Ratings.head(20)\n",
        "\n"
      ],
      "execution_count": 25,
      "outputs": [
        {
          "output_type": "execute_result",
          "data": {
            "text/plain": [
              "2002    8958\n",
              "2001    8141\n",
              "2003    7612\n",
              "1999    7387\n",
              "2000    6781\n",
              "1998    5627\n",
              "1997    5291\n",
              "1996    4427\n",
              "1995    4174\n",
              "1994    2998\n",
              "1992    2564\n",
              "1993    2471\n",
              "0       2349\n",
              "2004    1759\n",
              "1991    1648\n",
              "1990    1203\n",
              "1989    1028\n",
              "1988     850\n",
              "1987     652\n",
              "1985     542\n",
              "Name: Year-Of-Publication, dtype: int64"
            ]
          },
          "metadata": {
            "tags": []
          },
          "execution_count": 25
        },
        {
          "output_type": "display_data",
          "data": {
            "image/png": "[encoded data removed]",
            "text/plain": [
              "<Figure size 432x288 with 1 Axes>"
            ]
          },
          "metadata": {
            "tags": []
          }
        }
      ]
    },
    {
      "cell_type": "code",
      "metadata": {
        "colab_type": "code",
        "id": "G9M6GLEMy_oL",
        "colab": {
          "base_uri": "https://localhost:8080/",
          "height": 316
        },
        "outputId": "3482267f-313d-4a81-cbb0-f26433929576"
      },
      "source": [
        "#Histograma de pontos com toda base\n",
        "\n",
        "#Subplot grid\n",
        "f, (ax_box, ax_hist) = plt.subplots(2, sharex=True, gridspec_kw={\"height_ratios\": (0.25, 0.75)})\n",
        " \n",
        "#Plot + subplot grid\n",
        "sns.boxplot(df_book_complete_info[\"Year-Of-Publication\"], ax=ax_box).set_title(\"Basic representation of the Years of Publication\\n\")\n",
        "sns.distplot(df_book_complete_info[\"Year-Of-Publication\"], ax=ax_hist, kde=False, fit=stats.gamma, bins=20)\n",
        "sns.set_color_codes(\"bright\")\n",
        "\n",
        "#Legendas\n",
        "ax_box.set(xlabel='') #Remove x axis name for the boxplot\n",
        "ax_hist.set(ylabel='Density')\n",
        "\n",
        "plt.show()"
      ],
      "execution_count": 26,
      "outputs": [
        {
          "output_type": "display_data",
          "data": {
            "image/png": "[encoded data removed]",
            "text/plain": [
              "<Figure size 432x288 with 2 Axes>"
            ]
          },
          "metadata": {
            "tags": []
          }
        }
      ]
    },
    {
      "cell_type": "code",
      "metadata": {
        "colab_type": "code",
        "id": "kLNPU3H7y_oN",
        "colab": {
          "base_uri": "https://localhost:8080/",
          "height": 68
        },
        "outputId": "45762025-7c4c-4e0a-f76e-0b7b67ecc4b6"
      },
      "source": [
        "Q3 = np.quantile(df_book_complete_info[\"Year-Of-Publication\"], 0.75) #Third quartile\n",
        "Q1 = np.quantile(df_book_complete_info[\"Year-Of-Publication\"], 0.25) #First quartile\n",
        "IQR = Q3 - Q1 #Inter Quartile Range\n",
        "sns.set_color_codes(\"bright\")\n",
        "\n",
        "outlier_score_threshold =  Q3 + 1.5 * IQR\n",
        "outlier_number=len(df_book_complete_info[df_book_complete_info[\"Year-Of-Publication\"] > outlier_score_threshold ])\n",
        "\n",
        "print(\"Number of outliers:\", outlier_number,\n",
        "      \"\\nOutlier proportion:\", round(outlier_number/len(merged_user_book_rating_df[\"Book-Rating\"])*100, 3),\"%\",\n",
        "      \"\\nOutlier threshold score:\", outlier_score_threshold,\"/ 100\")"
      ],
      "execution_count": 27,
      "outputs": [
        {
          "output_type": "stream",
          "text": [
            "Number of outliers: 7 \n",
            "Outlier proportion: 0.005 % \n",
            "Outlier threshold score: 2011.5 / 100\n"
          ],
          "name": "stdout"
        }
      ]
    },
    {
      "cell_type": "code",
      "metadata": {
        "colab_type": "code",
        "id": "HrymPSZdy_oP",
        "colab": {
          "base_uri": "https://localhost:8080/",
          "height": 372
        },
        "outputId": "d003f6a0-12ae-4660-d23d-d990a43d27e4"
      },
      "source": [
        "#Histograma com distribuição dos anos de publicação\n",
        "plt.figure(figsize=(20,5))\n",
        "plt.title(\"Distribution of Years of Publication\")\n",
        "ax = sns.distplot(df_book[\"Year-Of-Publication\"])\n",
        "ax.set(xlim=(1940, 2050), ylim=(0, 0.05))\n"
      ],
      "execution_count": 28,
      "outputs": [
        {
          "output_type": "execute_result",
          "data": {
            "text/plain": [
              "[(0.0, 0.05), (1940.0, 2050.0)]"
            ]
          },
          "metadata": {
            "tags": []
          },
          "execution_count": 28
        },
        {
          "output_type": "display_data",
          "data": {
            "image/png": "[encoded data removed]",
            "text/plain": [
              "<Figure size 1440x360 with 1 Axes>"
            ]
          },
          "metadata": {
            "tags": []
          }
        }
      ]
    },
    {
      "cell_type": "markdown",
      "metadata": {
        "id": "IFKS6QbyhVsz",
        "colab_type": "text"
      },
      "source": [
        "#### **6.5 ANÁLISE DE BOOKS RATINGS**"
      ]
    },
    {
      "cell_type": "code",
      "metadata": {
        "colab_type": "code",
        "id": "sY1mDuf-P6sJ",
        "colab": {
          "base_uri": "https://localhost:8080/",
          "height": 255
        },
        "outputId": "4ac7255e-0ab1-4db0-ada6-a50727f47ac4"
      },
      "source": [
        "#Verificando as estatísticas básicas\n",
        "df_book_rating = merged_user_book_rating_df[['User-ID', 'ISBN', 'Book-Rating']]\n",
        "df_book_rating.describe"
      ],
      "execution_count": 29,
      "outputs": [
        {
          "output_type": "execute_result",
          "data": {
            "text/plain": [
              "<bound method NDFrame.describe of        User-ID        ISBN  Book-Rating\n",
              "0       141273  0671020641            4\n",
              "1       147387  0060160594            8\n",
              "2       239476  0425054713           10\n",
              "3       278251  044020562X            7\n",
              "4        98037  0142004235            8\n",
              "...        ...         ...          ...\n",
              "141976  199717  0441569595            5\n",
              "141977  220014  0312924585            8\n",
              "141978  220014  0679742298            8\n",
              "141979   11374  0671702513            4\n",
              "141980  242766  1572232684           10\n",
              "\n",
              "[141981 rows x 3 columns]>"
            ]
          },
          "metadata": {
            "tags": []
          },
          "execution_count": 29
        }
      ]
    },
    {
      "cell_type": "code",
      "metadata": {
        "id": "JQ_JWrEJhaAU",
        "colab_type": "code",
        "colab": {
          "base_uri": "https://localhost:8080/",
          "height": 187
        },
        "outputId": "d19dc979-2667-4b9b-8a46-a31a963568b8"
      },
      "source": [
        "#Entendendo se temos muitos valores faltantes\n",
        "df_book_rating.info()"
      ],
      "execution_count": 30,
      "outputs": [
        {
          "output_type": "stream",
          "text": [
            "<class 'pandas.core.frame.DataFrame'>\n",
            "Int64Index: 141981 entries, 0 to 141980\n",
            "Data columns (total 3 columns):\n",
            " #   Column       Non-Null Count   Dtype \n",
            "---  ------       --------------   ----- \n",
            " 0   User-ID      141981 non-null  object\n",
            " 1   ISBN         141981 non-null  object\n",
            " 2   Book-Rating  141981 non-null  int64 \n",
            "dtypes: int64(1), object(2)\n",
            "memory usage: 4.3+ MB\n"
          ],
          "name": "stdout"
        }
      ]
    },
    {
      "cell_type": "code",
      "metadata": {
        "id": "zni-38OQhnT9",
        "colab_type": "code",
        "colab": {
          "base_uri": "https://localhost:8080/",
          "height": 142
        },
        "outputId": "0fcd3d53-a08c-41b3-d097-60031555412d"
      },
      "source": [
        "total = df_book_rating.isnull().sum().sort_values(ascending = False)\n",
        "percent = (df_book_rating.isnull().sum()/df_book_rating.isnull().count()*100).sort_values(ascending = False)\n",
        "missing_df_book_rating  = pd.concat([total, percent], axis=1, keys=['Total', 'Percent'])\n",
        "missing_df_book_rating"
      ],
      "execution_count": 31,
      "outputs": [
        {
          "output_type": "execute_result",
          "data": {
            "text/html": [
              "<div>\n",
              "<style scoped>\n",
              "    .dataframe tbody tr th:only-of-type {\n",
              "        vertical-align: middle;\n",
              "    }\n",
              "\n",
              "    .dataframe tbody tr th {\n",
              "        vertical-align: top;\n",
              "    }\n",
              "\n",
              "    .dataframe thead th {\n",
              "        text-align: right;\n",
              "    }\n",
              "</style>\n",
              "<table border=\"1\" class=\"dataframe\">\n",
              "  <thead>\n",
              "    <tr style=\"text-align: right;\">\n",
              "      <th></th>\n",
              "      <th>Total</th>\n",
              "      <th>Percent</th>\n",
              "    </tr>\n",
              "  </thead>\n",
              "  <tbody>\n",
              "    <tr>\n",
              "      <th>Book-Rating</th>\n",
              "      <td>0</td>\n",
              "      <td>0.0</td>\n",
              "    </tr>\n",
              "    <tr>\n",
              "      <th>ISBN</th>\n",
              "      <td>0</td>\n",
              "      <td>0.0</td>\n",
              "    </tr>\n",
              "    <tr>\n",
              "      <th>User-ID</th>\n",
              "      <td>0</td>\n",
              "      <td>0.0</td>\n",
              "    </tr>\n",
              "  </tbody>\n",
              "</table>\n",
              "</div>"
            ],
            "text/plain": [
              "             Total  Percent\n",
              "Book-Rating      0      0.0\n",
              "ISBN             0      0.0\n",
              "User-ID          0      0.0"
            ]
          },
          "metadata": {
            "tags": []
          },
          "execution_count": 31
        }
      ]
    },
    {
      "cell_type": "code",
      "metadata": {
        "id": "vC2-RAnXlLGu",
        "colab_type": "code",
        "colab": {
          "base_uri": "https://localhost:8080/",
          "height": 462
        },
        "outputId": "53f3217d-69fe-4b45-dd0f-5da733b35bab"
      },
      "source": [
        "# Ratings de 1 a 10\n",
        "Ratings=df_book_rating[\"Book-Rating\"].value_counts(ascending=False)\n",
        "Ratings.head(10).plot.bar()\n",
        "Ratings.head(10)\n",
        "\n"
      ],
      "execution_count": 32,
      "outputs": [
        {
          "output_type": "execute_result",
          "data": {
            "text/plain": [
              "8     33462\n",
              "10    28571\n",
              "9     23391\n",
              "7     22563\n",
              "5     17324\n",
              "6     10913\n",
              "4      2648\n",
              "3      1751\n",
              "2       826\n",
              "1       532\n",
              "Name: Book-Rating, dtype: int64"
            ]
          },
          "metadata": {
            "tags": []
          },
          "execution_count": 32
        },
        {
          "output_type": "display_data",
          "data": {
            "image/png": "[encoded data removed]",
            "text/plain": [
              "<Figure size 432x288 with 1 Axes>"
            ]
          },
          "metadata": {
            "tags": []
          }
        }
      ]
    },
    {
      "cell_type": "code",
      "metadata": {
        "id": "5VC09YbssreY",
        "colab_type": "code",
        "colab": {
          "base_uri": "https://localhost:8080/",
          "height": 452
        },
        "outputId": "1aea9538-d8b4-4aab-8848-6c4512a3066a"
      },
      "source": [
        "total = df_book_rating[\"Book-Rating\"].value_counts(ascending=False)\n",
        "percent = (df_book_rating.count()/df_book_rating.count()*100).sort_values(ascending = False)\n",
        "Ratings_percent  = pd.concat([total, percent], axis=1, keys=['Total', 'Percent'])\n",
        "Ratings_percent"
      ],
      "execution_count": 33,
      "outputs": [
        {
          "output_type": "execute_result",
          "data": {
            "text/html": [
              "<div>\n",
              "<style scoped>\n",
              "    .dataframe tbody tr th:only-of-type {\n",
              "        vertical-align: middle;\n",
              "    }\n",
              "\n",
              "    .dataframe tbody tr th {\n",
              "        vertical-align: top;\n",
              "    }\n",
              "\n",
              "    .dataframe thead th {\n",
              "        text-align: right;\n",
              "    }\n",
              "</style>\n",
              "<table border=\"1\" class=\"dataframe\">\n",
              "  <thead>\n",
              "    <tr style=\"text-align: right;\">\n",
              "      <th></th>\n",
              "      <th>Total</th>\n",
              "      <th>Percent</th>\n",
              "    </tr>\n",
              "  </thead>\n",
              "  <tbody>\n",
              "    <tr>\n",
              "      <th>1</th>\n",
              "      <td>532.0</td>\n",
              "      <td>NaN</td>\n",
              "    </tr>\n",
              "    <tr>\n",
              "      <th>2</th>\n",
              "      <td>826.0</td>\n",
              "      <td>NaN</td>\n",
              "    </tr>\n",
              "    <tr>\n",
              "      <th>3</th>\n",
              "      <td>1751.0</td>\n",
              "      <td>NaN</td>\n",
              "    </tr>\n",
              "    <tr>\n",
              "      <th>4</th>\n",
              "      <td>2648.0</td>\n",
              "      <td>NaN</td>\n",
              "    </tr>\n",
              "    <tr>\n",
              "      <th>5</th>\n",
              "      <td>17324.0</td>\n",
              "      <td>NaN</td>\n",
              "    </tr>\n",
              "    <tr>\n",
              "      <th>6</th>\n",
              "      <td>10913.0</td>\n",
              "      <td>NaN</td>\n",
              "    </tr>\n",
              "    <tr>\n",
              "      <th>7</th>\n",
              "      <td>22563.0</td>\n",
              "      <td>NaN</td>\n",
              "    </tr>\n",
              "    <tr>\n",
              "      <th>8</th>\n",
              "      <td>33462.0</td>\n",
              "      <td>NaN</td>\n",
              "    </tr>\n",
              "    <tr>\n",
              "      <th>9</th>\n",
              "      <td>23391.0</td>\n",
              "      <td>NaN</td>\n",
              "    </tr>\n",
              "    <tr>\n",
              "      <th>10</th>\n",
              "      <td>28571.0</td>\n",
              "      <td>NaN</td>\n",
              "    </tr>\n",
              "    <tr>\n",
              "      <th>Book-Rating</th>\n",
              "      <td>NaN</td>\n",
              "      <td>100.0</td>\n",
              "    </tr>\n",
              "    <tr>\n",
              "      <th>ISBN</th>\n",
              "      <td>NaN</td>\n",
              "      <td>100.0</td>\n",
              "    </tr>\n",
              "    <tr>\n",
              "      <th>User-ID</th>\n",
              "      <td>NaN</td>\n",
              "      <td>100.0</td>\n",
              "    </tr>\n",
              "  </tbody>\n",
              "</table>\n",
              "</div>"
            ],
            "text/plain": [
              "               Total  Percent\n",
              "1              532.0      NaN\n",
              "2              826.0      NaN\n",
              "3             1751.0      NaN\n",
              "4             2648.0      NaN\n",
              "5            17324.0      NaN\n",
              "6            10913.0      NaN\n",
              "7            22563.0      NaN\n",
              "8            33462.0      NaN\n",
              "9            23391.0      NaN\n",
              "10           28571.0      NaN\n",
              "Book-Rating      NaN    100.0\n",
              "ISBN             NaN    100.0\n",
              "User-ID          NaN    100.0"
            ]
          },
          "metadata": {
            "tags": []
          },
          "execution_count": 33
        }
      ]
    },
    {
      "cell_type": "code",
      "metadata": {
        "id": "h4YCmqdGjG04",
        "colab_type": "code",
        "colab": {
          "base_uri": "https://localhost:8080/",
          "height": 316
        },
        "outputId": "1b8cfbe7-e615-4826-b578-07a5b9a79ca4"
      },
      "source": [
        "#Histograma de pontos com toda base\n",
        "\n",
        "#Subplot grid\n",
        "f, (ax_box, ax_hist) = plt.subplots(2, sharex=True, gridspec_kw={\"height_ratios\": (0.25, 0.75)})\n",
        " \n",
        "#Plot + subplot grid\n",
        "sns.boxplot(df_book_rating[\"Book-Rating\"], ax=ax_box).set_title(\"Basic representation of the Score feature\\n\")\n",
        "sns.distplot(df_book_rating[\"Book-Rating\"], ax=ax_hist, kde=False, fit=stats.gamma, bins=20)\n",
        "sns.set_color_codes(\"bright\")\n",
        "\n",
        "#Legendas\n",
        "ax_box.set(xlabel='') #Remove x axis name for the boxplot\n",
        "ax_hist.set(ylabel='Density')\n",
        "\n",
        "plt.show()"
      ],
      "execution_count": 34,
      "outputs": [
        {
          "output_type": "display_data",
          "data": {
            "image/png": "[encoded data removed]",
            "text/plain": [
              "<Figure size 432x288 with 2 Axes>"
            ]
          },
          "metadata": {
            "tags": []
          }
        }
      ]
    },
    {
      "cell_type": "code",
      "metadata": {
        "id": "CPbIEhfYkpC_",
        "colab_type": "code",
        "colab": {
          "base_uri": "https://localhost:8080/",
          "height": 68
        },
        "outputId": "07536744-9a4a-4201-e6be-3012836d63c3"
      },
      "source": [
        "Q3 = np.quantile(df_book_rating[\"Book-Rating\"], 0.75) #Third quartile\n",
        "Q1 = np.quantile(df_book_rating[\"Book-Rating\"], 0.25) #First quartile\n",
        "IQR = Q3 - Q1 #Inter Quartile Range\n",
        "sns.set_color_codes(\"bright\")\n",
        "\n",
        "outlier_score_threshold =  Q3 + 1.5 * IQR\n",
        "outlier_number=len(df_book_rating[ df_book_rating[\"Book-Rating\"] > outlier_score_threshold ])\n",
        "\n",
        "print(\"Number of outliers:\", outlier_number,\n",
        "      \"\\nOutlier proportion:\", round(outlier_number/len(df_book_rating[\"Book-Rating\"])*100, 3),\"%\",\n",
        "      \"\\nOutlier threshold score:\", outlier_score_threshold,\"/ 100\")"
      ],
      "execution_count": 35,
      "outputs": [
        {
          "output_type": "stream",
          "text": [
            "Number of outliers: 0 \n",
            "Outlier proportion: 0.0 % \n",
            "Outlier threshold score: 12.0 / 100\n"
          ],
          "name": "stdout"
        }
      ]
    },
    {
      "cell_type": "code",
      "metadata": {
        "id": "tbo2vyPRk4Kw",
        "colab_type": "code",
        "colab": {
          "base_uri": "https://localhost:8080/",
          "height": 372
        },
        "outputId": "3fccadfb-9c24-470f-e381-0906e2c05a5a"
      },
      "source": [
        "#Histograma com distribuição dos Ratings\n",
        "plt.figure(figsize=(20,5))\n",
        "plt.title(\"Distribution of Ratings\")\n",
        "ax = sns.distplot(df_book_rating[\"Book-Rating\"])\n",
        "ax.set(xlim=(-1, 11), ylim=(0, 3.5))"
      ],
      "execution_count": 36,
      "outputs": [
        {
          "output_type": "execute_result",
          "data": {
            "text/plain": [
              "[(0.0, 3.5), (-1.0, 11.0)]"
            ]
          },
          "metadata": {
            "tags": []
          },
          "execution_count": 36
        },
        {
          "output_type": "display_data",
          "data": {
            "image/png": "[encoded data removed]",
            "text/plain": [
              "<Figure size 1440x360 with 1 Axes>"
            ]
          },
          "metadata": {
            "tags": []
          }
        }
      ]
    },
    {
      "cell_type": "markdown",
      "metadata": {
        "colab_type": "text",
        "id": "8j2_-CCby4eT"
      },
      "source": [
        "### **7. DESENVOLVIMENTO DAS TÉCNICAS**\n",
        "Executaremos a filtragem com DL e sem DL, para depois compararmos as seguintes métricas:\n",
        "\n",
        "**Qualidade de predição**\n",
        "\n",
        "•\t[Mean Absolute Error (MAE)](https://keras.io/api/metrics/regression_metrics/#meanabsoluteerror-class): calcula o desvio absoluto médio entre as predições do sistema de recomendação e as avaliações reais feitas pelos alunos, e a diferença obtida é tomada como o erro da predição. Possibilita verificar o impacto da utilização das recomendações feitas pelo sistema no que se refere à margem de erro das recomendações calculadas.\n",
        "\n",
        "•\t[Root Mean Square Error (RMSE)](https://keras.io/api/metrics/regression_metrics/#rootmeansquarederror-class): é semelhante à métrica MAE no sentido em que mede o erro do modelo. No entanto, a maior diferença com relação ao MAE é que ela penaliza os erros grandes em comparação aos pequenos.\n",
        "\n",
        "**Conjunto de recomendações**\n",
        "\n",
        "•\t[Precisão(P)](https://keras.io/api/metrics/classification_metrics/#auc-class) – relação entre o número de conteúdos que o usuário considera relevante e o número de conteúdos recomendados.\n",
        "\n",
        "As métricas foram selecionadas tendo como base levantamento feito com artigos científicos sobre sistemas de recomendação, em que MAE, RMSE e Precision tiveram maior incidência.\n"
      ]
    },
    {
      "cell_type": "markdown",
      "metadata": {
        "colab_type": "text",
        "id": "iToDUsoZy9zg"
      },
      "source": [
        "#### **7.1 - Filtragem Colaborativa com Deep Learning**"
      ]
    },
    {
      "cell_type": "markdown",
      "metadata": {
        "id": "ahJqFkZUYWAl",
        "colab_type": "text"
      },
      "source": [
        "#### Utilizando a biblioteca Keras"
      ]
    },
    {
      "cell_type": "code",
      "metadata": {
        "id": "nNIFGk-4YXg0",
        "colab_type": "code",
        "colab": {
          "base_uri": "https://localhost:8080/",
          "height": 34
        },
        "outputId": "da6d5bf8-f4b9-47b4-d1f7-d0bb572a8143"
      },
      "source": [
        "#https://medium.com/@jdwittenauer/deep-learning-with-keras-recommender-systems-e7b99cb29929\n",
        "import sklearn as sk\n",
        "from sklearn.preprocessing import LabelEncoder\n",
        "\n",
        "user_enc = LabelEncoder()\n",
        "merged_user_book_rating_df['userUniq'] = user_enc.fit_transform(merged_user_book_rating_df['User-ID'].values)\n",
        "n_users = merged_user_book_rating_df['userUniq'].nunique()\n",
        "\n",
        "book_enc = LabelEncoder()\n",
        "merged_user_book_rating_df['bookUniq'] = book_enc.fit_transform(merged_user_book_rating_df['ISBN'].values)\n",
        "n_books = merged_user_book_rating_df['bookUniq'].nunique()\n",
        "\n",
        "merged_user_book_rating_df['Book-Rating'] = merged_user_book_rating_df['Book-Rating'].values.astype(np.float32)\n",
        "min_rating = min(merged_user_book_rating_df['Book-Rating'])\n",
        "max_rating = max(merged_user_book_rating_df['Book-Rating'])\n",
        "\n",
        "n_users, n_books, min_rating, max_rating"
      ],
      "execution_count": 36,
      "outputs": [
        {
          "output_type": "execute_result",
          "data": {
            "text/plain": [
              "(23934, 70525, 1.0, 10.0)"
            ]
          },
          "metadata": {
            "tags": []
          },
          "execution_count": 36
        }
      ]
    },
    {
      "cell_type": "code",
      "metadata": {
        "id": "vYAc5zARYZMn",
        "colab_type": "code",
        "colab": {
          "base_uri": "https://localhost:8080/",
          "height": 34
        },
        "outputId": "52f9b7da-cc62-4b94-8697-0bd0298389b6"
      },
      "source": [
        "from sklearn.model_selection import train_test_split\n",
        "\n",
        "X = merged_user_book_rating_df[['userUniq', 'bookUniq']].values\n",
        "y = merged_user_book_rating_df['Book-Rating'].values\n",
        "X_train, X_test, y_train, y_test = train_test_split(X, y, test_size=0.1, random_state=42)\n",
        "\n",
        "X_train.shape, X_test.shape, y_train.shape, y_test.shape"
      ],
      "execution_count": 37,
      "outputs": [
        {
          "output_type": "execute_result",
          "data": {
            "text/plain": [
              "((127782, 2), (14199, 2), (127782,), (14199,))"
            ]
          },
          "metadata": {
            "tags": []
          },
          "execution_count": 37
        }
      ]
    },
    {
      "cell_type": "code",
      "metadata": {
        "id": "KcluuRIkfoDF",
        "colab_type": "code",
        "colab": {}
      },
      "source": [
        "n_factors = 40\n",
        "X_train_array = [X_train[:, 0], X_train[:, 1]]\n",
        "X_test_array = [X_test[:, 0], X_test[:, 1]]"
      ],
      "execution_count": 38,
      "outputs": []
    },
    {
      "cell_type": "code",
      "metadata": {
        "id": "UREgKm9zYaoX",
        "colab_type": "code",
        "colab": {}
      },
      "source": [
        "from keras.models import Model\n",
        "from keras.layers import Input, Reshape, Dot, Add, Activation, Lambda\n",
        "from keras.optimizers import Adam\n",
        "from keras.regularizers import l2\n",
        "from keras.layers.embeddings import Embedding\n",
        "from tensorflow.keras.metrics import RootMeanSquaredError\n",
        "\n",
        "class EmbeddingLayer:\n",
        "    def __init__(self, n_items, n_factors):\n",
        "        self.n_items = n_items\n",
        "        self.n_factors = n_factors\n",
        "    \n",
        "    def __call__(self, x):\n",
        "        x = Embedding(self.n_items, self.n_factors, embeddings_initializer='he_normal',\n",
        "                      embeddings_regularizer=l2(1e-6))(x)\n",
        "        x = Reshape((self.n_factors,))(x)\n",
        "        return x\n",
        "\n",
        "def Recommender(n_users, n_books, n_factors, min_rating, max_rating):\n",
        "    user = Input(shape=(1,))\n",
        "    u = EmbeddingLayer(n_users, n_factors)(user)\n",
        "    ub = EmbeddingLayer(n_users, 1)(user)\n",
        "    \n",
        "    book = Input(shape=(1,))\n",
        "    m = EmbeddingLayer(n_books, n_factors)(book)\n",
        "    mb = EmbeddingLayer(n_books, 1)(book)\n",
        "    x = Dot(axes=1)([u, m])\n",
        "    x = Add()([x, ub, mb])\n",
        "    x = Activation('sigmoid')(x)\n",
        "    x = Lambda(lambda x: x * (max_rating - min_rating) + min_rating)(x)\n",
        "    model = Model(inputs=[user, book], outputs=x)\n",
        "    opt = Adam(lr=0.001)\n",
        "    model.compile(loss='mean_squared_error', optimizer=opt, metrics=['accuracy', 'mae', RootMeanSquaredError()])\n",
        "    return model"
      ],
      "execution_count": 39,
      "outputs": []
    },
    {
      "cell_type": "code",
      "metadata": {
        "id": "goc90l1gYddw",
        "colab_type": "code",
        "colab": {
          "base_uri": "https://localhost:8080/",
          "height": 680
        },
        "outputId": "b62afb8d-85ad-4441-de24-4e129a02a2fc"
      },
      "source": [
        "model = Recommender(n_users, n_books, n_factors, min_rating, max_rating)\n",
        "model.summary()"
      ],
      "execution_count": 40,
      "outputs": [
        {
          "output_type": "stream",
          "text": [
            "Model: \"model_1\"\n",
            "__________________________________________________________________________________________________\n",
            "Layer (type)                    Output Shape         Param #     Connected to                     \n",
            "==================================================================================================\n",
            "input_1 (InputLayer)            (None, 1)            0                                            \n",
            "__________________________________________________________________________________________________\n",
            "input_2 (InputLayer)            (None, 1)            0                                            \n",
            "__________________________________________________________________________________________________\n",
            "embedding_1 (Embedding)         (None, 1, 40)        957360      input_1[0][0]                    \n",
            "__________________________________________________________________________________________________\n",
            "embedding_3 (Embedding)         (None, 1, 40)        2821000     input_2[0][0]                    \n",
            "__________________________________________________________________________________________________\n",
            "reshape_1 (Reshape)             (None, 40)           0           embedding_1[0][0]                \n",
            "__________________________________________________________________________________________________\n",
            "reshape_3 (Reshape)             (None, 40)           0           embedding_3[0][0]                \n",
            "__________________________________________________________________________________________________\n",
            "embedding_2 (Embedding)         (None, 1, 1)         23934       input_1[0][0]                    \n",
            "__________________________________________________________________________________________________\n",
            "embedding_4 (Embedding)         (None, 1, 1)         70525       input_2[0][0]                    \n",
            "__________________________________________________________________________________________________\n",
            "dot_1 (Dot)                     (None, 1)            0           reshape_1[0][0]                  \n",
            "                                                                 reshape_3[0][0]                  \n",
            "__________________________________________________________________________________________________\n",
            "reshape_2 (Reshape)             (None, 1)            0           embedding_2[0][0]                \n",
            "__________________________________________________________________________________________________\n",
            "reshape_4 (Reshape)             (None, 1)            0           embedding_4[0][0]                \n",
            "__________________________________________________________________________________________________\n",
            "add_1 (Add)                     (None, 1)            0           dot_1[0][0]                      \n",
            "                                                                 reshape_2[0][0]                  \n",
            "                                                                 reshape_4[0][0]                  \n",
            "__________________________________________________________________________________________________\n",
            "activation_1 (Activation)       (None, 1)            0           add_1[0][0]                      \n",
            "__________________________________________________________________________________________________\n",
            "lambda_1 (Lambda)               (None, 1)            0           activation_1[0][0]               \n",
            "==================================================================================================\n",
            "Total params: 3,872,819\n",
            "Trainable params: 3,872,819\n",
            "Non-trainable params: 0\n",
            "__________________________________________________________________________________________________\n"
          ],
          "name": "stdout"
        }
      ]
    },
    {
      "cell_type": "code",
      "metadata": {
        "id": "P3UsdRIRYhAX",
        "colab_type": "code",
        "colab": {
          "base_uri": "https://localhost:8080/",
          "height": 258
        },
        "outputId": "3f11379c-1bbe-49ce-82f0-7bbeb2650045"
      },
      "source": [
        "history = model.fit(x=X_train_array, y=y_train, batch_size=64, epochs=5,\n",
        "                    verbose=1, validation_data=(X_test_array, y_test))"
      ],
      "execution_count": 41,
      "outputs": [
        {
          "output_type": "stream",
          "text": [
            "/usr/local/lib/python3.6/dist-packages/tensorflow/python/framework/indexed_slices.py:434: UserWarning: Converting sparse IndexedSlices to a dense Tensor of unknown shape. This may consume a large amount of memory.\n",
            "  \"Converting sparse IndexedSlices to a dense Tensor of unknown shape. \"\n"
          ],
          "name": "stderr"
        },
        {
          "output_type": "stream",
          "text": [
            "Train on 127782 samples, validate on 14199 samples\n",
            "Epoch 1/5\n",
            "127782/127782 [==============================] - 123s 966us/step - loss: 6.8255 - accuracy: 0.1068 - mae: 2.2502 - root_mean_squared_error: 2.7362 - val_loss: 5.6002 - val_accuracy: 0.1201 - val_mae: 2.0122 - val_root_mean_squared_error: 2.5999\n",
            "Epoch 2/5\n",
            "127782/127782 [==============================] - 122s 955us/step - loss: 4.3340 - accuracy: 0.1864 - mae: 1.7029 - root_mean_squared_error: 2.4693 - val_loss: 4.4540 - val_accuracy: 0.1629 - val_mae: 1.7452 - val_root_mean_squared_error: 2.3553\n",
            "Epoch 3/5\n",
            "127782/127782 [==============================] - 122s 957us/step - loss: 2.4086 - accuracy: 0.3426 - mae: 1.1652 - root_mean_squared_error: 2.2332 - val_loss: 4.0912 - val_accuracy: 0.1744 - val_mae: 1.6537 - val_root_mean_squared_error: 2.1308\n",
            "Epoch 4/5\n",
            "127782/127782 [==============================] - 123s 964us/step - loss: 1.3582 - accuracy: 0.4937 - mae: 0.8067 - root_mean_squared_error: 2.0328 - val_loss: 3.9743 - val_accuracy: 0.1811 - val_mae: 1.6208 - val_root_mean_squared_error: 1.9481\n",
            "Epoch 5/5\n",
            "127782/127782 [==============================] - 120s 938us/step - loss: 0.8305 - accuracy: 0.6167 - mae: 0.5912 - root_mean_squared_error: 1.8712 - val_loss: 3.9473 - val_accuracy: 0.1800 - val_mae: 1.6111 - val_root_mean_squared_error: 1.8032\n"
          ],
          "name": "stdout"
        }
      ]
    },
    {
      "cell_type": "code",
      "metadata": {
        "id": "F4s0eIrFYYte",
        "colab_type": "code",
        "colab": {
          "base_uri": "https://localhost:8080/",
          "height": 268
        },
        "outputId": "7ed4fa2e-7bf5-4804-fca9-ef7f307417f4"
      },
      "source": [
        "#https://machinelearningmastery.com/custom-metrics-deep-learning-keras-python/\n",
        "from matplotlib import pyplot\n",
        "\n",
        "# plot metrics\n",
        "pyplot.plot(history.history['loss'], color='blue') # mean_squared_error\n",
        "pyplot.plot(history.history['root_mean_squared_error'], color='green')\n",
        "pyplot.plot(history.history['accuracy'], color='red')\n",
        "pyplot.plot(history.history['mae'], color='black')\n",
        "pyplot.show()"
      ],
      "execution_count": 42,
      "outputs": [
        {
          "output_type": "display_data",
          "data": {
            "image/png": "[encoded data removed]",
            "text/plain": [
              "<Figure size 432x288 with 1 Axes>"
            ]
          },
          "metadata": {
            "tags": [],
            "needs_background": "light"
          }
        }
      ]
    },
    {
      "cell_type": "markdown",
      "metadata": {
        "colab_type": "text",
        "id": "iYOw1FLLzE1A"
      },
      "source": [
        "#### **7.2 - Filtragem Colaborativa sem Deep Learning**"
      ]
    },
    {
      "cell_type": "code",
      "metadata": {
        "colab_type": "code",
        "id": "8ScQFionzIi9",
        "colab": {
          "base_uri": "https://localhost:8080/",
          "height": 119
        },
        "outputId": "46cfbc85-691a-4773-bcee-3a1ca9339080"
      },
      "source": [
        "!pip install numpy\n",
        "!pip install scikit-surprise\n",
        "\n",
        "import time\n",
        "from surprise import SVD, SVDpp, NMF, NormalPredictor, KNNBasic, KNNWithMeans, KNNWithZScore, BaselineOnly, CoClustering\n",
        "from surprise import Dataset\n",
        "from surprise import Reader\n",
        "from surprise.model_selection import cross_validate\n",
        "\n",
        "reader = Reader(rating_scale=(1, 10))\n",
        "data =  Dataset.load_from_df(merged_user_book_rating_df[['User-ID', 'ISBN', 'Book-Rating']], reader)\n",
        "\n",
        "benchmark = []\n",
        "# algorithms | test_rmse | fit_time | test_time\n",
        "# SVD() -> 1.631933\t6.732157\t0.472549\n",
        "# SVDpp() -> 1.635954\t333.56954\t4.75063\n",
        "# SlopeOne() -> estouro de RAM,\n",
        "# NMF() -> 2.451469\t12.490989\t0.418673,\n",
        "# NormalPredictor() -> 2.502199\t0.182137\t0.634247,\n",
        "# KNNBaseline() -> estouro de RAM,\n",
        "# KNNBasic() -> 1.937247\t15.653011\t0.89761,\n",
        "# KNNWithMeans() -> 1.842003\t15.599665\t0.762382 ,\n",
        "# KNNWithZScore() -> 1.843036\t15.486432\t0.882746,\n",
        "# BaselineOnly() -> 1.64249\t0.640896\t0.41613,\n",
        "# CoClustering() -> 1.898822\t8.864198\t0.282257\n",
        "\n"
      ],
      "execution_count": 37,
      "outputs": [
        {
          "output_type": "stream",
          "text": [
            "Requirement already satisfied: numpy in /usr/local/lib/python3.6/dist-packages (1.18.5)\n",
            "Requirement already satisfied: scikit-surprise in /usr/local/lib/python3.6/dist-packages (1.1.0)\n",
            "Requirement already satisfied: scipy>=1.0.0 in /usr/local/lib/python3.6/dist-packages (from scikit-surprise) (1.4.1)\n",
            "Requirement already satisfied: joblib>=0.11 in /usr/local/lib/python3.6/dist-packages (from scikit-surprise) (0.15.1)\n",
            "Requirement already satisfied: numpy>=1.11.2 in /usr/local/lib/python3.6/dist-packages (from scikit-surprise) (1.18.5)\n",
            "Requirement already satisfied: six>=1.10.0 in /usr/local/lib/python3.6/dist-packages (from scikit-surprise) (1.12.0)\n"
          ],
          "name": "stdout"
        }
      ]
    },
    {
      "cell_type": "markdown",
      "metadata": {
        "id": "9r3y6PYfxrvO",
        "colab_type": "text"
      },
      "source": [
        "#### Utilizando KNNWithMeans - FC básica, levando em conta a média de rating de cada usuário"
      ]
    },
    {
      "cell_type": "code",
      "metadata": {
        "id": "R32vY4HMqKUT",
        "colab_type": "code",
        "colab": {
          "base_uri": "https://localhost:8080/",
          "height": 119
        },
        "outputId": "9b74556f-6d30-4dfa-d1a2-8d1ffb270955"
      },
      "source": [
        "# cross \n",
        "algorithm = KNNWithMeans()\n",
        "    \n",
        "results = cross_validate(algorithm, data, measures=['RMSE', 'MAE'], cv=3, verbose=False)\n",
        "    \n",
        "tmp = pd.DataFrame.from_dict(results).mean(axis=0)\n",
        "tmp = tmp.append(pd.Series([str(algorithm).split(' ')[0].split('.')[-1]], index=['Algorithm']))\n",
        "benchmark.append(tmp)\n"
      ],
      "execution_count": 38,
      "outputs": [
        {
          "output_type": "stream",
          "text": [
            "Computing the msd similarity matrix...\n",
            "Done computing similarity matrix.\n",
            "Computing the msd similarity matrix...\n",
            "Done computing similarity matrix.\n",
            "Computing the msd similarity matrix...\n",
            "Done computing similarity matrix.\n"
          ],
          "name": "stdout"
        }
      ]
    },
    {
      "cell_type": "markdown",
      "metadata": {
        "id": "N7mFXC6kyKPS",
        "colab_type": "text"
      },
      "source": [
        "#### Aplicando BaselineOnly() - prevê a estimativa do baseline para um dado usuário e item."
      ]
    },
    {
      "cell_type": "code",
      "metadata": {
        "id": "F9lymNJbqaXk",
        "colab_type": "code",
        "colab": {
          "base_uri": "https://localhost:8080/",
          "height": 68
        },
        "outputId": "d912f63e-42ff-40a3-b561-da5110330f11"
      },
      "source": [
        "# cross \n",
        "algorithm = BaselineOnly()\n",
        "    \n",
        "results = cross_validate(algorithm, data, measures=['RMSE', 'MAE'], cv=3, verbose=False)\n",
        "    \n",
        "tmp = pd.DataFrame.from_dict(results).mean(axis=0)\n",
        "tmp = tmp.append(pd.Series([str(algorithm).split(' ')[0].split('.')[-1]], index=['Algorithm']))\n",
        "benchmark.append(tmp)\n"
      ],
      "execution_count": 39,
      "outputs": [
        {
          "output_type": "stream",
          "text": [
            "Estimating biases using als...\n",
            "Estimating biases using als...\n",
            "Estimating biases using als...\n"
          ],
          "name": "stdout"
        }
      ]
    },
    {
      "cell_type": "markdown",
      "metadata": {
        "colab_type": "text",
        "id": "y_vkYu7K5ybt"
      },
      "source": [
        "### **8. Comparativo e análise**\n",
        "Para facilitar a comparação, recapitularemos aqui as métricas definidas (MAE, RMSE e Precision) das 3 técnicas para analisá-las."
      ]
    },
    {
      "cell_type": "code",
      "metadata": {
        "id": "BmqyeFM7sBPW",
        "colab_type": "code",
        "colab": {
          "base_uri": "https://localhost:8080/",
          "height": 142
        },
        "outputId": "e25ea3ad-c051-41d9-fa78-ee9b5eda49ad"
      },
      "source": [
        "pd.DataFrame(benchmark).set_index('Algorithm').sort_values('test_rmse')  "
      ],
      "execution_count": 40,
      "outputs": [
        {
          "output_type": "execute_result",
          "data": {
            "text/html": [
              "<div>\n",
              "<style scoped>\n",
              "    .dataframe tbody tr th:only-of-type {\n",
              "        vertical-align: middle;\n",
              "    }\n",
              "\n",
              "    .dataframe tbody tr th {\n",
              "        vertical-align: top;\n",
              "    }\n",
              "\n",
              "    .dataframe thead th {\n",
              "        text-align: right;\n",
              "    }\n",
              "</style>\n",
              "<table border=\"1\" class=\"dataframe\">\n",
              "  <thead>\n",
              "    <tr style=\"text-align: right;\">\n",
              "      <th></th>\n",
              "      <th>test_rmse</th>\n",
              "      <th>test_mae</th>\n",
              "      <th>fit_time</th>\n",
              "      <th>test_time</th>\n",
              "    </tr>\n",
              "    <tr>\n",
              "      <th>Algorithm</th>\n",
              "      <th></th>\n",
              "      <th></th>\n",
              "      <th></th>\n",
              "      <th></th>\n",
              "    </tr>\n",
              "  </thead>\n",
              "  <tbody>\n",
              "    <tr>\n",
              "      <th>BaselineOnly</th>\n",
              "      <td>1.641284</td>\n",
              "      <td>1.273996</td>\n",
              "      <td>0.635077</td>\n",
              "      <td>0.390511</td>\n",
              "    </tr>\n",
              "    <tr>\n",
              "      <th>KNNWithMeans</th>\n",
              "      <td>1.838973</td>\n",
              "      <td>1.440793</td>\n",
              "      <td>14.812753</td>\n",
              "      <td>0.841645</td>\n",
              "    </tr>\n",
              "  </tbody>\n",
              "</table>\n",
              "</div>"
            ],
            "text/plain": [
              "              test_rmse  test_mae   fit_time  test_time\n",
              "Algorithm                                              \n",
              "BaselineOnly   1.641284  1.273996   0.635077   0.390511\n",
              "KNNWithMeans   1.838973  1.440793  14.812753   0.841645"
            ]
          },
          "metadata": {
            "tags": []
          },
          "execution_count": 40
        }
      ]
    },
    {
      "cell_type": "code",
      "metadata": {
        "colab_type": "code",
        "id": "r_sgAk2251XD",
        "colab": {}
      },
      "source": [
        ""
      ],
      "execution_count": 46,
      "outputs": []
    },
    {
      "cell_type": "markdown",
      "metadata": {
        "colab_type": "text",
        "id": "l2CDIfXw51o0"
      },
      "source": [
        "### **9. Conclusão**\n",
        "Após diversas tentativas, tanto com a base full e o ambiente de execução caindo, quanto testando diferentes algoritmos que fizessem sentido, chegou-se na conclusão que os mais pertinentes para o teste seriam o BaselineOnly e KNNWith Means, sem Deep Learning, e o FastAI com Deep Learning.\n",
        "Após o desenvolvimento do código, percebeu-se que XXX teve um desempenho melhor, com os indicadores X% menores que os demais (podemos falar do temp de execução, se foi mais rapido ou mais lento).\n",
        "Assim, conclui-se que XXX é o algoritmo mais recomendado para realizar recomendações de livros para os cidadãos americanos.\n",
        "\n",
        "Também podemos colocar um item de melhorias, informando que o sistema de coleta de dados precisa ser reavaliado para diminuir a incerteza de valores cadastrados pelos usuários, devido ao grande esforço de transformação dos dados antes de aplicarmos nosso algoritmo."
      ]
    }
  ]
}