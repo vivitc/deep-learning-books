{
  "nbformat": 4,
  "nbformat_minor": 0,
  "metadata": {
    "accelerator": "GPU",
    "colab": {
      "name": "Trabalho_DL_Books.ipynb",
      "provenance": [],
      "collapsed_sections": [],
      "include_colab_link": true
    },
    "kernelspec": {
      "display_name": "Python 3",
      "language": "python",
      "name": "python3"
    },
    "language_info": {
      "codemirror_mode": {
        "name": "ipython",
        "version": 3
      },
      "file_extension": ".py",
      "mimetype": "text/x-python",
      "name": "python",
      "nbconvert_exporter": "python",
      "pygments_lexer": "ipython3",
      "version": "3.7.4"
    }
  },
  "cells": [
    {
      "cell_type": "markdown",
      "metadata": {
        "id": "view-in-github",
        "colab_type": "text"
      },
      "source": [
        "<a href=\"https://colab.research.google.com/github/vivitc/deep-learning-books/blob/master/Trabalho_DL_Books.ipynb\" target=\"_parent\"><img src=\"https://colab.research.google.com/assets/colab-badge.svg\" alt=\"Open In Colab\"/></a>"
      ]
    },
    {
      "cell_type": "markdown",
      "metadata": {
        "colab_type": "text",
        "id": "KlcibMKA_a-j"
      },
      "source": [
        "# **Trabalho Deep Learning - Filtragem colaborativa com avaliações de livros**\n",
        "## Grupo 7\n",
        "### - Amanda\n",
        "### - James La Rosa\n",
        "### - Roger William Calderini\n",
        "### - Vinícius D`Ambros\n",
        "### - Viviana Terceros Cordova"
      ]
    },
    {
      "cell_type": "markdown",
      "metadata": {
        "colab_type": "text",
        "id": "TqWhkCoq_jyp"
      },
      "source": [
        "Neste notebook, desenvolveremos o trabalho com foco em: \n",
        "- Filtragem Colaborativa\n",
        "- Cold Start\n",
        "\n",
        "Com isso, busca-se desenvolver um modelo de recomendação que leve em consideração a filtragem colaborativa (avaliações de cada usuário) e drible o cold start identificado."
      ]
    },
    {
      "cell_type": "markdown",
      "metadata": {
        "colab_type": "text",
        "id": "e_dF-ncpwPb9"
      },
      "source": [
        "## 0. Importação das bibliotecas\n",
        "\n",
        "Upload das bibliotecas que serão utilizadas"
      ]
    },
    {
      "cell_type": "code",
      "metadata": {
        "colab_type": "code",
        "id": "T27iBThwIlkK",
        "colab": {
          "base_uri": "https://localhost:8080/",
          "height": 275
        },
        "outputId": "2e8cc2eb-7444-4bcb-8338-7d36ad25874c"
      },
      "source": [
        "from keras.layers import Input, Dense, Conv2D, MaxPooling2D, UpSampling2D\n",
        "from keras.models import Sequential\n",
        "from keras.datasets import mnist\n",
        "\n",
        "#Visualização\n",
        "import seaborn as sns\n",
        "sns.set(style='white', context='notebook', palette='pastel')\n",
        "#Visualização dos dados\n",
        "import matplotlib.pyplot as plt\n",
        "\n",
        "#Used for distribution fitting, and representation\n",
        "from scipy import stats\n",
        "\n",
        "#Time measuring for model training\n",
        "from time import time\n",
        "\n",
        "#dependência do matplotlib\n",
        "!pip install msgpack \n",
        "#instalação do pacote matplotlib\n",
        "!pip install matplotlib  \n",
        "import matplotlib.pyplot as plt \n",
        "import pandas as pd  \n",
        "import statsmodels.api as sm  \n",
        "import pylab as pl  \n",
        "import numpy as np  \n",
        "from patsy import dmatrix  \n",
        "\n",
        "!pip install wordcloud\n",
        "from os import path\n",
        "from PIL import Image\n",
        "\n",
        "import sklearn as sk\n",
        "from sklearn.preprocessing import LabelEncoder\n",
        "from sklearn.model_selection import train_test_split\n",
        "from sklearn.linear_model import LogisticRegression\n",
        "from sklearn.metrics import confusion_matrix\n",
        "from sklearn.metrics import accuracy_score\n",
        "from sklearn.metrics import roc_curve, auc"
      ],
      "execution_count": 1,
      "outputs": [
        {
          "output_type": "stream",
          "text": [
            "Using TensorFlow backend.\n",
            "/usr/local/lib/python3.6/dist-packages/statsmodels/tools/_testing.py:19: FutureWarning: pandas.util.testing is deprecated. Use the functions in the public API at pandas.testing instead.\n",
            "  import pandas.util.testing as tm\n"
          ],
          "name": "stderr"
        },
        {
          "output_type": "stream",
          "text": [
            "Requirement already satisfied: msgpack in /usr/local/lib/python3.6/dist-packages (1.0.0)\n",
            "Requirement already satisfied: matplotlib in /usr/local/lib/python3.6/dist-packages (3.2.2)\n",
            "Requirement already satisfied: kiwisolver>=1.0.1 in /usr/local/lib/python3.6/dist-packages (from matplotlib) (1.2.0)\n",
            "Requirement already satisfied: numpy>=1.11 in /usr/local/lib/python3.6/dist-packages (from matplotlib) (1.18.5)\n",
            "Requirement already satisfied: pyparsing!=2.0.4,!=2.1.2,!=2.1.6,>=2.0.1 in /usr/local/lib/python3.6/dist-packages (from matplotlib) (2.4.7)\n",
            "Requirement already satisfied: python-dateutil>=2.1 in /usr/local/lib/python3.6/dist-packages (from matplotlib) (2.8.1)\n",
            "Requirement already satisfied: cycler>=0.10 in /usr/local/lib/python3.6/dist-packages (from matplotlib) (0.10.0)\n",
            "Requirement already satisfied: six>=1.5 in /usr/local/lib/python3.6/dist-packages (from python-dateutil>=2.1->matplotlib) (1.12.0)\n",
            "Requirement already satisfied: wordcloud in /usr/local/lib/python3.6/dist-packages (1.5.0)\n",
            "Requirement already satisfied: pillow in /usr/local/lib/python3.6/dist-packages (from wordcloud) (7.0.0)\n",
            "Requirement already satisfied: numpy>=1.6.1 in /usr/local/lib/python3.6/dist-packages (from wordcloud) (1.18.5)\n"
          ],
          "name": "stdout"
        }
      ]
    },
    {
      "cell_type": "markdown",
      "metadata": {
        "colab_type": "text",
        "id": "CAQC343gt22o"
      },
      "source": [
        "## 1. Upload da base\n",
        "\n",
        "Aqui, vamos subir a base "
      ]
    },
    {
      "cell_type": "code",
      "metadata": {
        "colab_type": "code",
        "id": "DzcD6O9OuYiH",
        "colab": {}
      },
      "source": [
        "import pandas as pd  \n",
        "url_book_rating = 'https://raw.githubusercontent.com/vivitc/deep-learning-books/master/data/BX-Book-Ratings01.csv'\n",
        "df_book_rating = pd.read_csv(url_book_rating, delimiter=\";\", encoding=\"latin1\")"
      ],
      "execution_count": 2,
      "outputs": []
    },
    {
      "cell_type": "code",
      "metadata": {
        "id": "2DY3JxyCZSaz",
        "colab_type": "code",
        "colab": {
          "base_uri": "https://localhost:8080/",
          "height": 419
        },
        "outputId": "bce208de-2d55-458b-b712-4891375a54ef"
      },
      "source": [
        "display(df_book_rating)"
      ],
      "execution_count": 3,
      "outputs": [
        {
          "output_type": "display_data",
          "data": {
            "text/html": [
              "<div>\n",
              "<style scoped>\n",
              "    .dataframe tbody tr th:only-of-type {\n",
              "        vertical-align: middle;\n",
              "    }\n",
              "\n",
              "    .dataframe tbody tr th {\n",
              "        vertical-align: top;\n",
              "    }\n",
              "\n",
              "    .dataframe thead th {\n",
              "        text-align: right;\n",
              "    }\n",
              "</style>\n",
              "<table border=\"1\" class=\"dataframe\">\n",
              "  <thead>\n",
              "    <tr style=\"text-align: right;\">\n",
              "      <th></th>\n",
              "      <th>User-ID</th>\n",
              "      <th>ISBN</th>\n",
              "      <th>Book-Rating</th>\n",
              "    </tr>\n",
              "  </thead>\n",
              "  <tbody>\n",
              "    <tr>\n",
              "      <th>0</th>\n",
              "      <td>276725</td>\n",
              "      <td>034545104X</td>\n",
              "      <td>0</td>\n",
              "    </tr>\n",
              "    <tr>\n",
              "      <th>1</th>\n",
              "      <td>276726</td>\n",
              "      <td>0155061224</td>\n",
              "      <td>5</td>\n",
              "    </tr>\n",
              "    <tr>\n",
              "      <th>2</th>\n",
              "      <td>276727</td>\n",
              "      <td>0446520802</td>\n",
              "      <td>0</td>\n",
              "    </tr>\n",
              "    <tr>\n",
              "      <th>3</th>\n",
              "      <td>276729</td>\n",
              "      <td>052165615X</td>\n",
              "      <td>3</td>\n",
              "    </tr>\n",
              "    <tr>\n",
              "      <th>4</th>\n",
              "      <td>276729</td>\n",
              "      <td>0521795028</td>\n",
              "      <td>6</td>\n",
              "    </tr>\n",
              "    <tr>\n",
              "      <th>...</th>\n",
              "      <td>...</td>\n",
              "      <td>...</td>\n",
              "      <td>...</td>\n",
              "    </tr>\n",
              "    <tr>\n",
              "      <th>1149775</th>\n",
              "      <td>276704</td>\n",
              "      <td>1563526298</td>\n",
              "      <td>9</td>\n",
              "    </tr>\n",
              "    <tr>\n",
              "      <th>1149776</th>\n",
              "      <td>276706</td>\n",
              "      <td>0679447156</td>\n",
              "      <td>0</td>\n",
              "    </tr>\n",
              "    <tr>\n",
              "      <th>1149777</th>\n",
              "      <td>276709</td>\n",
              "      <td>0515107662</td>\n",
              "      <td>10</td>\n",
              "    </tr>\n",
              "    <tr>\n",
              "      <th>1149778</th>\n",
              "      <td>276721</td>\n",
              "      <td>0590442449</td>\n",
              "      <td>10</td>\n",
              "    </tr>\n",
              "    <tr>\n",
              "      <th>1149779</th>\n",
              "      <td>276723</td>\n",
              "      <td>05162443314</td>\n",
              "      <td>8</td>\n",
              "    </tr>\n",
              "  </tbody>\n",
              "</table>\n",
              "<p>1149780 rows × 3 columns</p>\n",
              "</div>"
            ],
            "text/plain": [
              "         User-ID         ISBN  Book-Rating\n",
              "0         276725   034545104X            0\n",
              "1         276726   0155061224            5\n",
              "2         276727   0446520802            0\n",
              "3         276729   052165615X            3\n",
              "4         276729   0521795028            6\n",
              "...          ...          ...          ...\n",
              "1149775   276704   1563526298            9\n",
              "1149776   276706   0679447156            0\n",
              "1149777   276709   0515107662           10\n",
              "1149778   276721   0590442449           10\n",
              "1149779   276723  05162443314            8\n",
              "\n",
              "[1149780 rows x 3 columns]"
            ]
          },
          "metadata": {
            "tags": []
          }
        }
      ]
    },
    {
      "cell_type": "code",
      "metadata": {
        "id": "TGacM2f_fk7_",
        "colab_type": "code",
        "colab": {}
      },
      "source": [
        "import pandas as pd  \n",
        "url_book = 'https://raw.githubusercontent.com/vivitc/deep-learning-books/master/data/BX-Books01.csv'\n",
        "df_book = pd.read_csv(url_book, delimiter=\";\", encoding=\"latin1\")"
      ],
      "execution_count": 4,
      "outputs": []
    },
    {
      "cell_type": "code",
      "metadata": {
        "id": "IDtwDFaWZgau",
        "colab_type": "code",
        "colab": {
          "base_uri": "https://localhost:8080/",
          "height": 881
        },
        "outputId": "023ad9f8-a91b-4fb8-8043-b281d67ce1bd"
      },
      "source": [
        "display(df_book)"
      ],
      "execution_count": 5,
      "outputs": [
        {
          "output_type": "display_data",
          "data": {
            "text/html": [
              "<div>\n",
              "<style scoped>\n",
              "    .dataframe tbody tr th:only-of-type {\n",
              "        vertical-align: middle;\n",
              "    }\n",
              "\n",
              "    .dataframe tbody tr th {\n",
              "        vertical-align: top;\n",
              "    }\n",
              "\n",
              "    .dataframe thead th {\n",
              "        text-align: right;\n",
              "    }\n",
              "</style>\n",
              "<table border=\"1\" class=\"dataframe\">\n",
              "  <thead>\n",
              "    <tr style=\"text-align: right;\">\n",
              "      <th></th>\n",
              "      <th>ISBN</th>\n",
              "      <th>Book-Title</th>\n",
              "      <th>Book-Author</th>\n",
              "      <th>Year-Of-Publication</th>\n",
              "      <th>Publisher</th>\n",
              "      <th>Image-URL-S</th>\n",
              "      <th>Image-URL-M</th>\n",
              "      <th>Image-URL-L</th>\n",
              "    </tr>\n",
              "  </thead>\n",
              "  <tbody>\n",
              "    <tr>\n",
              "      <th>0</th>\n",
              "      <td>195153448</td>\n",
              "      <td>Classical Mythology</td>\n",
              "      <td>Mark P. O. Morford</td>\n",
              "      <td>2002</td>\n",
              "      <td>Oxford University Press</td>\n",
              "      <td>http://images.amazon.com/images/P/0195153448.0...</td>\n",
              "      <td>http://images.amazon.com/images/P/0195153448.0...</td>\n",
              "      <td>http://images.amazon.com/images/P/0195153448.0...</td>\n",
              "    </tr>\n",
              "    <tr>\n",
              "      <th>1</th>\n",
              "      <td>2005018</td>\n",
              "      <td>Clara Callan</td>\n",
              "      <td>Richard Bruce Wright</td>\n",
              "      <td>2001</td>\n",
              "      <td>HarperFlamingo Canada</td>\n",
              "      <td>http://images.amazon.com/images/P/0002005018.0...</td>\n",
              "      <td>http://images.amazon.com/images/P/0002005018.0...</td>\n",
              "      <td>http://images.amazon.com/images/P/0002005018.0...</td>\n",
              "    </tr>\n",
              "    <tr>\n",
              "      <th>2</th>\n",
              "      <td>60973129</td>\n",
              "      <td>Decision in Normandy</td>\n",
              "      <td>Carlo D'Este</td>\n",
              "      <td>1991</td>\n",
              "      <td>HarperPerennial</td>\n",
              "      <td>http://images.amazon.com/images/P/0060973129.0...</td>\n",
              "      <td>http://images.amazon.com/images/P/0060973129.0...</td>\n",
              "      <td>http://images.amazon.com/images/P/0060973129.0...</td>\n",
              "    </tr>\n",
              "    <tr>\n",
              "      <th>3</th>\n",
              "      <td>374157065</td>\n",
              "      <td>Flu: The Story of the Great Influenza Pandemic...</td>\n",
              "      <td>Gina Bari Kolata</td>\n",
              "      <td>1999</td>\n",
              "      <td>Farrar Straus Giroux</td>\n",
              "      <td>http://images.amazon.com/images/P/0374157065.0...</td>\n",
              "      <td>http://images.amazon.com/images/P/0374157065.0...</td>\n",
              "      <td>http://images.amazon.com/images/P/0374157065.0...</td>\n",
              "    </tr>\n",
              "    <tr>\n",
              "      <th>4</th>\n",
              "      <td>393045218</td>\n",
              "      <td>The Mummies of Urumchi</td>\n",
              "      <td>E. J. W. Barber</td>\n",
              "      <td>1999</td>\n",
              "      <td>W. W. Norton &amp;amp; Company</td>\n",
              "      <td>http://images.amazon.com/images/P/0393045218.0...</td>\n",
              "      <td>http://images.amazon.com/images/P/0393045218.0...</td>\n",
              "      <td>http://images.amazon.com/images/P/0393045218.0...</td>\n",
              "    </tr>\n",
              "    <tr>\n",
              "      <th>...</th>\n",
              "      <td>...</td>\n",
              "      <td>...</td>\n",
              "      <td>...</td>\n",
              "      <td>...</td>\n",
              "      <td>...</td>\n",
              "      <td>...</td>\n",
              "      <td>...</td>\n",
              "      <td>...</td>\n",
              "    </tr>\n",
              "    <tr>\n",
              "      <th>271374</th>\n",
              "      <td>440400988</td>\n",
              "      <td>There's a Bat in Bunk Five</td>\n",
              "      <td>Paula Danziger</td>\n",
              "      <td>1988</td>\n",
              "      <td>Random House Childrens Pub (Mm)</td>\n",
              "      <td>http://images.amazon.com/images/P/0440400988.0...</td>\n",
              "      <td>http://images.amazon.com/images/P/0440400988.0...</td>\n",
              "      <td>http://images.amazon.com/images/P/0440400988.0...</td>\n",
              "    </tr>\n",
              "    <tr>\n",
              "      <th>271375</th>\n",
              "      <td>525447644</td>\n",
              "      <td>From One to One Hundred</td>\n",
              "      <td>Teri Sloat</td>\n",
              "      <td>1991</td>\n",
              "      <td>Dutton Books</td>\n",
              "      <td>http://images.amazon.com/images/P/0525447644.0...</td>\n",
              "      <td>http://images.amazon.com/images/P/0525447644.0...</td>\n",
              "      <td>http://images.amazon.com/images/P/0525447644.0...</td>\n",
              "    </tr>\n",
              "    <tr>\n",
              "      <th>271376</th>\n",
              "      <td>006008667X</td>\n",
              "      <td>Lily Dale : The True Story of the Town that Ta...</td>\n",
              "      <td>Christine Wicker</td>\n",
              "      <td>2004</td>\n",
              "      <td>HarperSanFrancisco</td>\n",
              "      <td>http://images.amazon.com/images/P/006008667X.0...</td>\n",
              "      <td>http://images.amazon.com/images/P/006008667X.0...</td>\n",
              "      <td>http://images.amazon.com/images/P/006008667X.0...</td>\n",
              "    </tr>\n",
              "    <tr>\n",
              "      <th>271377</th>\n",
              "      <td>192126040</td>\n",
              "      <td>Republic (World's Classics)</td>\n",
              "      <td>Plato</td>\n",
              "      <td>1996</td>\n",
              "      <td>Oxford University Press</td>\n",
              "      <td>http://images.amazon.com/images/P/0192126040.0...</td>\n",
              "      <td>http://images.amazon.com/images/P/0192126040.0...</td>\n",
              "      <td>http://images.amazon.com/images/P/0192126040.0...</td>\n",
              "    </tr>\n",
              "    <tr>\n",
              "      <th>271378</th>\n",
              "      <td>767409752</td>\n",
              "      <td>A Guided Tour of Rene Descartes' Meditations o...</td>\n",
              "      <td>Christopher  Biffle</td>\n",
              "      <td>2000</td>\n",
              "      <td>McGraw-Hill Humanities/Social Sciences/Languages</td>\n",
              "      <td>http://images.amazon.com/images/P/0767409752.0...</td>\n",
              "      <td>http://images.amazon.com/images/P/0767409752.0...</td>\n",
              "      <td>http://images.amazon.com/images/P/0767409752.0...</td>\n",
              "    </tr>\n",
              "  </tbody>\n",
              "</table>\n",
              "<p>271379 rows × 8 columns</p>\n",
              "</div>"
            ],
            "text/plain": [
              "              ISBN  ...                                        Image-URL-L\n",
              "0        195153448  ...  http://images.amazon.com/images/P/0195153448.0...\n",
              "1          2005018  ...  http://images.amazon.com/images/P/0002005018.0...\n",
              "2         60973129  ...  http://images.amazon.com/images/P/0060973129.0...\n",
              "3        374157065  ...  http://images.amazon.com/images/P/0374157065.0...\n",
              "4        393045218  ...  http://images.amazon.com/images/P/0393045218.0...\n",
              "...            ...  ...                                                ...\n",
              "271374   440400988  ...  http://images.amazon.com/images/P/0440400988.0...\n",
              "271375   525447644  ...  http://images.amazon.com/images/P/0525447644.0...\n",
              "271376  006008667X  ...  http://images.amazon.com/images/P/006008667X.0...\n",
              "271377   192126040  ...  http://images.amazon.com/images/P/0192126040.0...\n",
              "271378   767409752  ...  http://images.amazon.com/images/P/0767409752.0...\n",
              "\n",
              "[271379 rows x 8 columns]"
            ]
          },
          "metadata": {
            "tags": []
          }
        }
      ]
    },
    {
      "cell_type": "code",
      "metadata": {
        "id": "H173NUroZADT",
        "colab_type": "code",
        "colab": {
          "base_uri": "https://localhost:8080/",
          "height": 71
        },
        "outputId": "611dc5dc-e3d2-4ae1-e69a-06830c25b3f3"
      },
      "source": [
        "import pandas as pd  \n",
        "url_users = 'https://raw.githubusercontent.com/vivitc/deep-learning-books/master/data/BX-Users01.csv'\n",
        "df_users = pd.read_csv(url_users, delimiter=\";\", encoding=\"latin1\", header=0)"
      ],
      "execution_count": 6,
      "outputs": [
        {
          "output_type": "stream",
          "text": [
            "/usr/local/lib/python3.6/dist-packages/IPython/core/interactiveshell.py:2718: DtypeWarning: Columns (0) have mixed types.Specify dtype option on import or set low_memory=False.\n",
            "  interactivity=interactivity, compiler=compiler, result=result)\n"
          ],
          "name": "stderr"
        }
      ]
    },
    {
      "cell_type": "code",
      "metadata": {
        "colab_type": "code",
        "id": "FJZkE06yS6fG",
        "colab": {
          "base_uri": "https://localhost:8080/",
          "height": 419
        },
        "outputId": "6442542a-ca5b-4b64-fc3a-677e73ac9500"
      },
      "source": [
        "display(df_users)"
      ],
      "execution_count": 7,
      "outputs": [
        {
          "output_type": "display_data",
          "data": {
            "text/html": [
              "<div>\n",
              "<style scoped>\n",
              "    .dataframe tbody tr th:only-of-type {\n",
              "        vertical-align: middle;\n",
              "    }\n",
              "\n",
              "    .dataframe tbody tr th {\n",
              "        vertical-align: top;\n",
              "    }\n",
              "\n",
              "    .dataframe thead th {\n",
              "        text-align: right;\n",
              "    }\n",
              "</style>\n",
              "<table border=\"1\" class=\"dataframe\">\n",
              "  <thead>\n",
              "    <tr style=\"text-align: right;\">\n",
              "      <th></th>\n",
              "      <th>User-ID</th>\n",
              "      <th>Location_CT</th>\n",
              "      <th>Location_UF</th>\n",
              "      <th>Location_CY</th>\n",
              "      <th>Age</th>\n",
              "    </tr>\n",
              "  </thead>\n",
              "  <tbody>\n",
              "    <tr>\n",
              "      <th>0</th>\n",
              "      <td>120567</td>\n",
              "      <td>545</td>\n",
              "      <td>rheinland-pfalz</td>\n",
              "      <td>germany</td>\n",
              "      <td>NaN</td>\n",
              "    </tr>\n",
              "    <tr>\n",
              "      <th>1</th>\n",
              "      <td>84244</td>\n",
              "      <td>01109</td>\n",
              "      <td>sachsen</td>\n",
              "      <td>germany</td>\n",
              "      <td>40.0</td>\n",
              "    </tr>\n",
              "    <tr>\n",
              "      <th>2</th>\n",
              "      <td>151969</td>\n",
              "      <td>1700</td>\n",
              "      <td>fribourg</td>\n",
              "      <td>switzerland</td>\n",
              "      <td>24.0</td>\n",
              "    </tr>\n",
              "    <tr>\n",
              "      <th>3</th>\n",
              "      <td>147786</td>\n",
              "      <td>01721</td>\n",
              "      <td>NaN</td>\n",
              "      <td>NaN</td>\n",
              "      <td>37.0</td>\n",
              "    </tr>\n",
              "    <tr>\n",
              "      <th>4</th>\n",
              "      <td>160922</td>\n",
              "      <td>3003</td>\n",
              "      <td>tenerife</td>\n",
              "      <td>espaã±a</td>\n",
              "      <td>30.0</td>\n",
              "    </tr>\n",
              "    <tr>\n",
              "      <th>...</th>\n",
              "      <td>...</td>\n",
              "      <td>...</td>\n",
              "      <td>...</td>\n",
              "      <td>...</td>\n",
              "      <td>...</td>\n",
              "    </tr>\n",
              "    <tr>\n",
              "      <th>537945</th>\n",
              "      <td>278855</td>\n",
              "      <td>tacoma</td>\n",
              "      <td>washington</td>\n",
              "      <td>united kingdom</td>\n",
              "      <td>50.0</td>\n",
              "    </tr>\n",
              "    <tr>\n",
              "      <th>537946</th>\n",
              "      <td>278856</td>\n",
              "      <td>brampton</td>\n",
              "      <td>ontario</td>\n",
              "      <td>canada</td>\n",
              "      <td>NaN</td>\n",
              "    </tr>\n",
              "    <tr>\n",
              "      <th>537947</th>\n",
              "      <td>278857</td>\n",
              "      <td>knoxville</td>\n",
              "      <td>tennessee</td>\n",
              "      <td>usa</td>\n",
              "      <td>NaN</td>\n",
              "    </tr>\n",
              "    <tr>\n",
              "      <th>537948</th>\n",
              "      <td>278858</td>\n",
              "      <td>dublin</td>\n",
              "      <td>n/a</td>\n",
              "      <td>ireland</td>\n",
              "      <td>NaN</td>\n",
              "    </tr>\n",
              "    <tr>\n",
              "      <th>537949</th>\n",
              "      <td>&gt;&gt;&gt;&gt;&gt;&gt;&gt; 08ef6012be10d0cfa7c55409e30d87a2f4248b33</td>\n",
              "      <td>NaN</td>\n",
              "      <td>NaN</td>\n",
              "      <td>NaN</td>\n",
              "      <td>NaN</td>\n",
              "    </tr>\n",
              "  </tbody>\n",
              "</table>\n",
              "<p>537950 rows × 5 columns</p>\n",
              "</div>"
            ],
            "text/plain": [
              "                                                 User-ID  ...   Age\n",
              "0                                                 120567  ...   NaN\n",
              "1                                                  84244  ...  40.0\n",
              "2                                                 151969  ...  24.0\n",
              "3                                                 147786  ...  37.0\n",
              "4                                                 160922  ...  30.0\n",
              "...                                                  ...  ...   ...\n",
              "537945                                            278855  ...  50.0\n",
              "537946                                            278856  ...   NaN\n",
              "537947                                            278857  ...   NaN\n",
              "537948                                            278858  ...   NaN\n",
              "537949  >>>>>>> 08ef6012be10d0cfa7c55409e30d87a2f4248b33  ...   NaN\n",
              "\n",
              "[537950 rows x 5 columns]"
            ]
          },
          "metadata": {
            "tags": []
          }
        }
      ]
    },
    {
      "cell_type": "markdown",
      "metadata": {
        "colab_type": "text",
        "id": "2lSCsmQosjLt"
      },
      "source": [
        "## 2. Análise descritiva dos dados\n",
        "Em seguida, vamos fazer alguns pré-processamentos básicos para conhecer os dados, lembrando os códigos:\n",
        "- BX-Users: Contém os usuários(`User-ID`) anônimos. Dados demográficos organizados, quando disponíveis (`Location`, `Age`). `Age` com valor NaN, significa que o valor de `Age` nao foi disponibilizado.\n",
        "\n",
        "- BX-Books: Os livros são identificados pelo ISBN (os inválidos já foram removidos). Informações sobre conteúdo são disponíveis como (`Book-Title`, `Book-Author`, `Year-Of-Publication`, `Publisher`), pelo Amazon Web Services. Se houver mais de 1 autor, só o primeiro é mencionado. Imagens da capa estão disponíveis em pequeno, médio e grande (`Image-URL-S`, `Image-URL-M`, `Image-URL-L`), pelo Amazon Web Services também.\n",
        "\n",
        "- BX-Book-Ratings: As avaliações dos livros (`Book-Rating`)  são ou explícitas de 1-10 (valores mais altos indicam mais apreciação), ou implicito, expresso por 0.\n",
        "\n",
        "### *Apesar da base ter diversos países e avaliações, testamos a análise descritiva dos dados e a Filtragem Colaborativa com os dados completos e recebemos uma mensagem de erro devido ao tamanho da Matriz de Interação:*\n",
        "\n",
        "*Erro: ValueError: Unstacked DataFrame is too big, causing int32 overflow*\n",
        "\n",
        "*Assim, foram feitos alguns recortes na base para que seja possível trabalhá-la, sendo:*\n",
        "- *Utilização dos dados referente ao Country USA;*\n",
        "- *Utilização de livros com avaliações explícitas, ou seja, Ratings de 1-10.*"
      ]
    },
    {
      "cell_type": "markdown",
      "metadata": {
        "id": "MGXZ7zYRyvas",
        "colab_type": "text"
      },
      "source": [
        "###2.1 Users (sem normalização)"
      ]
    },
    {
      "cell_type": "code",
      "metadata": {
        "colab_type": "code",
        "id": "seZiPotey-BK",
        "colab": {
          "base_uri": "https://localhost:8080/",
          "height": 255
        },
        "outputId": "6f50eeaa-564a-4cc7-884d-616b19e557b9"
      },
      "source": [
        "#Verificando as estatísticas básicas\n",
        "df_users.describe"
      ],
      "execution_count": 8,
      "outputs": [
        {
          "output_type": "execute_result",
          "data": {
            "text/plain": [
              "<bound method NDFrame.describe of                                                  User-ID  ...   Age\n",
              "0                                                 120567  ...   NaN\n",
              "1                                                  84244  ...  40.0\n",
              "2                                                 151969  ...  24.0\n",
              "3                                                 147786  ...  37.0\n",
              "4                                                 160922  ...  30.0\n",
              "...                                                  ...  ...   ...\n",
              "537945                                            278855  ...  50.0\n",
              "537946                                            278856  ...   NaN\n",
              "537947                                            278857  ...   NaN\n",
              "537948                                            278858  ...   NaN\n",
              "537949  >>>>>>> 08ef6012be10d0cfa7c55409e30d87a2f4248b33  ...   NaN\n",
              "\n",
              "[537950 rows x 5 columns]>"
            ]
          },
          "metadata": {
            "tags": []
          },
          "execution_count": 8
        }
      ]
    },
    {
      "cell_type": "code",
      "metadata": {
        "colab_type": "code",
        "id": "QOSpc4L5y-BP",
        "colab": {
          "base_uri": "https://localhost:8080/",
          "height": 221
        },
        "outputId": "e0d228df-d6e4-4fa7-fb59-a66e9a77d6d8"
      },
      "source": [
        "#Entendendo se temos muitos valores faltantes\n",
        "df_users.info()"
      ],
      "execution_count": 9,
      "outputs": [
        {
          "output_type": "stream",
          "text": [
            "<class 'pandas.core.frame.DataFrame'>\n",
            "RangeIndex: 537950 entries, 0 to 537949\n",
            "Data columns (total 5 columns):\n",
            " #   Column       Non-Null Count   Dtype  \n",
            "---  ------       --------------   -----  \n",
            " 0   User-ID      537950 non-null  object \n",
            " 1   Location_CT  536828 non-null  object \n",
            " 2   Location_UF  522918 non-null  object \n",
            " 3   Location_CY  529777 non-null  object \n",
            " 4   Age          322928 non-null  float64\n",
            "dtypes: float64(1), object(4)\n",
            "memory usage: 20.5+ MB\n"
          ],
          "name": "stdout"
        }
      ]
    },
    {
      "cell_type": "code",
      "metadata": {
        "colab_type": "code",
        "id": "JOtofcHLy-BS",
        "colab": {
          "base_uri": "https://localhost:8080/",
          "height": 204
        },
        "outputId": "79264936-082d-41a2-93ba-177391d19d70"
      },
      "source": [
        "total = df_users.isnull().sum().sort_values(ascending = False)\n",
        "percent = (df_users.isnull().sum()/df_users.isnull().count()*100).sort_values(ascending = False)\n",
        "missing_df_users  = pd.concat([total, percent], axis=1, keys=['Total', 'Percent'])\n",
        "missing_df_users"
      ],
      "execution_count": 10,
      "outputs": [
        {
          "output_type": "execute_result",
          "data": {
            "text/html": [
              "<div>\n",
              "<style scoped>\n",
              "    .dataframe tbody tr th:only-of-type {\n",
              "        vertical-align: middle;\n",
              "    }\n",
              "\n",
              "    .dataframe tbody tr th {\n",
              "        vertical-align: top;\n",
              "    }\n",
              "\n",
              "    .dataframe thead th {\n",
              "        text-align: right;\n",
              "    }\n",
              "</style>\n",
              "<table border=\"1\" class=\"dataframe\">\n",
              "  <thead>\n",
              "    <tr style=\"text-align: right;\">\n",
              "      <th></th>\n",
              "      <th>Total</th>\n",
              "      <th>Percent</th>\n",
              "    </tr>\n",
              "  </thead>\n",
              "  <tbody>\n",
              "    <tr>\n",
              "      <th>Age</th>\n",
              "      <td>215022</td>\n",
              "      <td>39.970629</td>\n",
              "    </tr>\n",
              "    <tr>\n",
              "      <th>Location_UF</th>\n",
              "      <td>15032</td>\n",
              "      <td>2.794312</td>\n",
              "    </tr>\n",
              "    <tr>\n",
              "      <th>Location_CY</th>\n",
              "      <td>8173</td>\n",
              "      <td>1.519286</td>\n",
              "    </tr>\n",
              "    <tr>\n",
              "      <th>Location_CT</th>\n",
              "      <td>1122</td>\n",
              "      <td>0.208570</td>\n",
              "    </tr>\n",
              "    <tr>\n",
              "      <th>User-ID</th>\n",
              "      <td>0</td>\n",
              "      <td>0.000000</td>\n",
              "    </tr>\n",
              "  </tbody>\n",
              "</table>\n",
              "</div>"
            ],
            "text/plain": [
              "              Total    Percent\n",
              "Age          215022  39.970629\n",
              "Location_UF   15032   2.794312\n",
              "Location_CY    8173   1.519286\n",
              "Location_CT    1122   0.208570\n",
              "User-ID           0   0.000000"
            ]
          },
          "metadata": {
            "tags": []
          },
          "execution_count": 10
        }
      ]
    },
    {
      "cell_type": "code",
      "metadata": {
        "colab_type": "code",
        "id": "JpJRxxQGy-BU",
        "colab": {
          "base_uri": "https://localhost:8080/",
          "height": 639
        },
        "outputId": "81edadaa-c284-4279-aeff-de90f55493a4"
      },
      "source": [
        "# Ratings de 0 a 10\n",
        "Users_Age=df_users[\"Age\"].value_counts(ascending=False)\n",
        "Users_Age.head(20).plot.bar()\n",
        "Users_Age.head(20)\n",
        "\n"
      ],
      "execution_count": 11,
      "outputs": [
        {
          "output_type": "execute_result",
          "data": {
            "text/plain": [
              "24.0    10897\n",
              "25.0    10773\n",
              "26.0    10614\n",
              "23.0    10435\n",
              "27.0    10322\n",
              "28.0    10268\n",
              "29.0    10129\n",
              "32.0     9193\n",
              "30.0     9179\n",
              "33.0     9026\n",
              "22.0     8964\n",
              "34.0     8959\n",
              "31.0     8944\n",
              "21.0     8471\n",
              "35.0     8066\n",
              "20.0     7745\n",
              "19.0     7537\n",
              "36.0     7509\n",
              "18.0     7082\n",
              "37.0     6895\n",
              "Name: Age, dtype: int64"
            ]
          },
          "metadata": {
            "tags": []
          },
          "execution_count": 11
        },
        {
          "output_type": "display_data",
          "data": {
            "image/png": "[encoded data removed]",
            "text/plain": [
              "<Figure size 432x288 with 1 Axes>"
            ]
          },
          "metadata": {
            "tags": [],
            "needs_background": "light"
          }
        }
      ]
    },
    {
      "cell_type": "code",
      "metadata": {
        "colab_type": "code",
        "id": "VNgSvhy2y-Bd",
        "colab": {
          "base_uri": "https://localhost:8080/",
          "height": 355
        },
        "outputId": "5dd81b2b-d720-4fab-c4ba-bb0788a9232b"
      },
      "source": [
        "#Histograma com distribuição de idade\n",
        "plt.figure(figsize=(20,5))\n",
        "plt.title(\"Distribution of Age\")\n",
        "ax = sns.distplot(df_users[\"Age\"])"
      ],
      "execution_count": 12,
      "outputs": [
        {
          "output_type": "display_data",
          "data": {
            "image/png": "[encoded data removed]",
            "text/plain": [
              "<Figure size 1440x360 with 1 Axes>"
            ]
          },
          "metadata": {
            "tags": [],
            "needs_background": "light"
          }
        }
      ]
    },
    {
      "cell_type": "markdown",
      "metadata": {
        "id": "qS78a7zYyyTr",
        "colab_type": "text"
      },
      "source": [
        "###2.2 Books"
      ]
    },
    {
      "cell_type": "code",
      "metadata": {
        "colab_type": "code",
        "id": "RMHQHC-2y_oA",
        "colab": {
          "base_uri": "https://localhost:8080/",
          "height": 297
        },
        "outputId": "df2b2bdd-b857-42f5-f283-a42e1e194c1a"
      },
      "source": [
        "#Verificando as estatísticas básicas\n",
        "df_book.describe(exclude=[np.object])"
      ],
      "execution_count": 13,
      "outputs": [
        {
          "output_type": "execute_result",
          "data": {
            "text/html": [
              "<div>\n",
              "<style scoped>\n",
              "    .dataframe tbody tr th:only-of-type {\n",
              "        vertical-align: middle;\n",
              "    }\n",
              "\n",
              "    .dataframe tbody tr th {\n",
              "        vertical-align: top;\n",
              "    }\n",
              "\n",
              "    .dataframe thead th {\n",
              "        text-align: right;\n",
              "    }\n",
              "</style>\n",
              "<table border=\"1\" class=\"dataframe\">\n",
              "  <thead>\n",
              "    <tr style=\"text-align: right;\">\n",
              "      <th></th>\n",
              "      <th>Year-Of-Publication</th>\n",
              "    </tr>\n",
              "  </thead>\n",
              "  <tbody>\n",
              "    <tr>\n",
              "      <th>count</th>\n",
              "      <td>271379.000000</td>\n",
              "    </tr>\n",
              "    <tr>\n",
              "      <th>mean</th>\n",
              "      <td>1959.763394</td>\n",
              "    </tr>\n",
              "    <tr>\n",
              "      <th>std</th>\n",
              "      <td>257.983943</td>\n",
              "    </tr>\n",
              "    <tr>\n",
              "      <th>min</th>\n",
              "      <td>0.000000</td>\n",
              "    </tr>\n",
              "    <tr>\n",
              "      <th>25%</th>\n",
              "      <td>1989.000000</td>\n",
              "    </tr>\n",
              "    <tr>\n",
              "      <th>50%</th>\n",
              "      <td>1995.000000</td>\n",
              "    </tr>\n",
              "    <tr>\n",
              "      <th>75%</th>\n",
              "      <td>2000.000000</td>\n",
              "    </tr>\n",
              "    <tr>\n",
              "      <th>max</th>\n",
              "      <td>2050.000000</td>\n",
              "    </tr>\n",
              "  </tbody>\n",
              "</table>\n",
              "</div>"
            ],
            "text/plain": [
              "       Year-Of-Publication\n",
              "count        271379.000000\n",
              "mean           1959.763394\n",
              "std             257.983943\n",
              "min               0.000000\n",
              "25%            1989.000000\n",
              "50%            1995.000000\n",
              "75%            2000.000000\n",
              "max            2050.000000"
            ]
          },
          "metadata": {
            "tags": []
          },
          "execution_count": 13
        }
      ]
    },
    {
      "cell_type": "code",
      "metadata": {
        "colab_type": "code",
        "id": "Jct0J99Jy_oC",
        "colab": {
          "base_uri": "https://localhost:8080/",
          "height": 272
        },
        "outputId": "38a5f19e-ce1e-4694-8126-0347b40cff12"
      },
      "source": [
        "#Entendendo se temos muitos valores faltantes\n",
        "df_book.info()"
      ],
      "execution_count": 14,
      "outputs": [
        {
          "output_type": "stream",
          "text": [
            "<class 'pandas.core.frame.DataFrame'>\n",
            "RangeIndex: 271379 entries, 0 to 271378\n",
            "Data columns (total 8 columns):\n",
            " #   Column               Non-Null Count   Dtype \n",
            "---  ------               --------------   ----- \n",
            " 0   ISBN                 271379 non-null  object\n",
            " 1   Book-Title           271379 non-null  object\n",
            " 2   Book-Author          271378 non-null  object\n",
            " 3   Year-Of-Publication  271379 non-null  int64 \n",
            " 4   Publisher            271377 non-null  object\n",
            " 5   Image-URL-S          271379 non-null  object\n",
            " 6   Image-URL-M          271379 non-null  object\n",
            " 7   Image-URL-L          271379 non-null  object\n",
            "dtypes: int64(1), object(7)\n",
            "memory usage: 16.6+ MB\n"
          ],
          "name": "stdout"
        }
      ]
    },
    {
      "cell_type": "code",
      "metadata": {
        "colab_type": "code",
        "id": "zdzd46AHy_oG",
        "colab": {
          "base_uri": "https://localhost:8080/",
          "height": 643
        },
        "outputId": "be3d4e57-7207-4e4e-f874-9dde3899988b"
      },
      "source": [
        "# Anos de publicação Top 20\n",
        "Ratings=df_book[\"Year-Of-Publication\"].value_counts(ascending=False)\n",
        "Ratings.head(20).plot.bar()\n",
        "Ratings.head(20)\n",
        "\n"
      ],
      "execution_count": 15,
      "outputs": [
        {
          "output_type": "execute_result",
          "data": {
            "text/plain": [
              "2002    17628\n",
              "1999    17432\n",
              "2001    17360\n",
              "2000    17235\n",
              "1998    15767\n",
              "1997    14892\n",
              "2003    14359\n",
              "1996    14031\n",
              "1995    13548\n",
              "1994    11796\n",
              "1993    10603\n",
              "1992     9906\n",
              "1991     9389\n",
              "1990     8661\n",
              "1989     7937\n",
              "1988     7493\n",
              "1987     6529\n",
              "1986     5841\n",
              "2004     5839\n",
              "1985     5343\n",
              "Name: Year-Of-Publication, dtype: int64"
            ]
          },
          "metadata": {
            "tags": []
          },
          "execution_count": 15
        },
        {
          "output_type": "display_data",
          "data": {
            "image/png": "[encoded data removed]",
            "text/plain": [
              "<Figure size 432x288 with 1 Axes>"
            ]
          },
          "metadata": {
            "tags": [],
            "needs_background": "light"
          }
        }
      ]
    },
    {
      "cell_type": "code",
      "metadata": {
        "colab_type": "code",
        "id": "G9M6GLEMy_oL",
        "colab": {
          "base_uri": "https://localhost:8080/",
          "height": 316
        },
        "outputId": "e3d09c83-4cbc-4d88-9561-17625fc54785"
      },
      "source": [
        "#Histograma de pontos com toda base\n",
        "\n",
        "#Subplot grid\n",
        "f, (ax_box, ax_hist) = plt.subplots(2, sharex=True, gridspec_kw={\"height_ratios\": (0.25, 0.75)})\n",
        " \n",
        "#Plot + subplot grid\n",
        "sns.boxplot(df_book[\"Year-Of-Publication\"], ax=ax_box).set_title(\"Basic representation of the Years of Publication\\n\")\n",
        "sns.distplot(df_book[\"Year-Of-Publication\"], ax=ax_hist, kde=False, fit=stats.gamma, bins=20)\n",
        "sns.set_color_codes(\"bright\")\n",
        "\n",
        "#Legendas\n",
        "ax_box.set(xlabel='') #Remove x axis name for the boxplot\n",
        "ax_hist.set(ylabel='Density')\n",
        "\n",
        "plt.show()"
      ],
      "execution_count": 16,
      "outputs": [
        {
          "output_type": "display_data",
          "data": {
            "image/png": "[encoded data removed]",
            "text/plain": [
              "<Figure size 432x288 with 2 Axes>"
            ]
          },
          "metadata": {
            "tags": [],
            "needs_background": "light"
          }
        }
      ]
    },
    {
      "cell_type": "code",
      "metadata": {
        "colab_type": "code",
        "id": "kLNPU3H7y_oN",
        "colab": {
          "base_uri": "https://localhost:8080/",
          "height": 68
        },
        "outputId": "05daa6a2-7eae-49a8-9d9f-272e46e80ece"
      },
      "source": [
        "Q3 = np.quantile(df_book[\"Year-Of-Publication\"], 0.75) #Third quartile\n",
        "Q1 = np.quantile(df_book[\"Year-Of-Publication\"], 0.25) #First quartile\n",
        "IQR = Q3 - Q1 #Inter Quartile Range\n",
        "sns.set_color_codes(\"bright\")\n",
        "\n",
        "outlier_score_threshold =  Q3 + 1.5 * IQR\n",
        "outlier_number=len(df_book[df_book[\"Year-Of-Publication\"] > outlier_score_threshold ])\n",
        "\n",
        "print(\"Number of outliers:\", outlier_number,\n",
        "      \"\\nOutlier proportion:\", round(outlier_number/len(df_book_rating[\"Book-Rating\"])*100, 3),\"%\",\n",
        "      \"\\nOutlier threshold score:\", outlier_score_threshold,\"/ 100\")"
      ],
      "execution_count": 17,
      "outputs": [
        {
          "output_type": "stream",
          "text": [
            "Number of outliers: 17 \n",
            "Outlier proportion: 0.001 % \n",
            "Outlier threshold score: 2016.5 / 100\n"
          ],
          "name": "stdout"
        }
      ]
    },
    {
      "cell_type": "code",
      "metadata": {
        "colab_type": "code",
        "id": "HrymPSZdy_oP",
        "colab": {
          "base_uri": "https://localhost:8080/",
          "height": 355
        },
        "outputId": "be88eecb-7115-46eb-9008-92c8a2ce276b"
      },
      "source": [
        "#Histograma com distribuição dos anos de publicação\n",
        "plt.figure(figsize=(20,5))\n",
        "plt.title(\"Distribution of Years of Publication\")\n",
        "ax = sns.distplot(df_book[\"Year-Of-Publication\"])"
      ],
      "execution_count": 18,
      "outputs": [
        {
          "output_type": "display_data",
          "data": {
            "image/png": "[encoded data removed]",
            "text/plain": [
              "<Figure size 1440x360 with 1 Axes>"
            ]
          },
          "metadata": {
            "tags": [],
            "needs_background": "light"
          }
        }
      ]
    },
    {
      "cell_type": "markdown",
      "metadata": {
        "id": "IFKS6QbyhVsz",
        "colab_type": "text"
      },
      "source": [
        "###2.3 Books Ratings"
      ]
    },
    {
      "cell_type": "code",
      "metadata": {
        "colab_type": "code",
        "id": "sY1mDuf-P6sJ",
        "colab": {
          "base_uri": "https://localhost:8080/",
          "height": 297
        },
        "outputId": "ae4654d6-557b-4827-ebe7-6955ac519392"
      },
      "source": [
        "#Verificando as estatísticas básicas\n",
        "df_book_rating.describe(exclude=[np.object])"
      ],
      "execution_count": 19,
      "outputs": [
        {
          "output_type": "execute_result",
          "data": {
            "text/html": [
              "<div>\n",
              "<style scoped>\n",
              "    .dataframe tbody tr th:only-of-type {\n",
              "        vertical-align: middle;\n",
              "    }\n",
              "\n",
              "    .dataframe tbody tr th {\n",
              "        vertical-align: top;\n",
              "    }\n",
              "\n",
              "    .dataframe thead th {\n",
              "        text-align: right;\n",
              "    }\n",
              "</style>\n",
              "<table border=\"1\" class=\"dataframe\">\n",
              "  <thead>\n",
              "    <tr style=\"text-align: right;\">\n",
              "      <th></th>\n",
              "      <th>User-ID</th>\n",
              "      <th>Book-Rating</th>\n",
              "    </tr>\n",
              "  </thead>\n",
              "  <tbody>\n",
              "    <tr>\n",
              "      <th>count</th>\n",
              "      <td>1.149780e+06</td>\n",
              "      <td>1.149780e+06</td>\n",
              "    </tr>\n",
              "    <tr>\n",
              "      <th>mean</th>\n",
              "      <td>1.403864e+05</td>\n",
              "      <td>2.866950e+00</td>\n",
              "    </tr>\n",
              "    <tr>\n",
              "      <th>std</th>\n",
              "      <td>8.056228e+04</td>\n",
              "      <td>3.854184e+00</td>\n",
              "    </tr>\n",
              "    <tr>\n",
              "      <th>min</th>\n",
              "      <td>2.000000e+00</td>\n",
              "      <td>0.000000e+00</td>\n",
              "    </tr>\n",
              "    <tr>\n",
              "      <th>25%</th>\n",
              "      <td>7.034500e+04</td>\n",
              "      <td>0.000000e+00</td>\n",
              "    </tr>\n",
              "    <tr>\n",
              "      <th>50%</th>\n",
              "      <td>1.410100e+05</td>\n",
              "      <td>0.000000e+00</td>\n",
              "    </tr>\n",
              "    <tr>\n",
              "      <th>75%</th>\n",
              "      <td>2.110280e+05</td>\n",
              "      <td>7.000000e+00</td>\n",
              "    </tr>\n",
              "    <tr>\n",
              "      <th>max</th>\n",
              "      <td>2.788540e+05</td>\n",
              "      <td>1.000000e+01</td>\n",
              "    </tr>\n",
              "  </tbody>\n",
              "</table>\n",
              "</div>"
            ],
            "text/plain": [
              "            User-ID   Book-Rating\n",
              "count  1.149780e+06  1.149780e+06\n",
              "mean   1.403864e+05  2.866950e+00\n",
              "std    8.056228e+04  3.854184e+00\n",
              "min    2.000000e+00  0.000000e+00\n",
              "25%    7.034500e+04  0.000000e+00\n",
              "50%    1.410100e+05  0.000000e+00\n",
              "75%    2.110280e+05  7.000000e+00\n",
              "max    2.788540e+05  1.000000e+01"
            ]
          },
          "metadata": {
            "tags": []
          },
          "execution_count": 19
        }
      ]
    },
    {
      "cell_type": "code",
      "metadata": {
        "id": "JQ_JWrEJhaAU",
        "colab_type": "code",
        "colab": {
          "base_uri": "https://localhost:8080/",
          "height": 187
        },
        "outputId": "cbe14a50-38b0-4fe2-d40a-0d5aeccdd03c"
      },
      "source": [
        "#Entendendo se temos muitos valores faltantes\n",
        "df_book_rating.info()"
      ],
      "execution_count": 20,
      "outputs": [
        {
          "output_type": "stream",
          "text": [
            "<class 'pandas.core.frame.DataFrame'>\n",
            "RangeIndex: 1149780 entries, 0 to 1149779\n",
            "Data columns (total 3 columns):\n",
            " #   Column       Non-Null Count    Dtype \n",
            "---  ------       --------------    ----- \n",
            " 0   User-ID      1149780 non-null  int64 \n",
            " 1   ISBN         1149780 non-null  object\n",
            " 2   Book-Rating  1149780 non-null  int64 \n",
            "dtypes: int64(2), object(1)\n",
            "memory usage: 26.3+ MB\n"
          ],
          "name": "stdout"
        }
      ]
    },
    {
      "cell_type": "code",
      "metadata": {
        "id": "zni-38OQhnT9",
        "colab_type": "code",
        "colab": {
          "base_uri": "https://localhost:8080/",
          "height": 142
        },
        "outputId": "4da3266a-cb05-49c7-af69-1b8dbddca254"
      },
      "source": [
        "total = df_book_rating.isnull().sum().sort_values(ascending = False)\n",
        "percent = (df_book_rating.isnull().sum()/df_book_rating.isnull().count()*100).sort_values(ascending = False)\n",
        "missing_df_book_rating  = pd.concat([total, percent], axis=1, keys=['Total', 'Percent'])\n",
        "missing_df_book_rating"
      ],
      "execution_count": 21,
      "outputs": [
        {
          "output_type": "execute_result",
          "data": {
            "text/html": [
              "<div>\n",
              "<style scoped>\n",
              "    .dataframe tbody tr th:only-of-type {\n",
              "        vertical-align: middle;\n",
              "    }\n",
              "\n",
              "    .dataframe tbody tr th {\n",
              "        vertical-align: top;\n",
              "    }\n",
              "\n",
              "    .dataframe thead th {\n",
              "        text-align: right;\n",
              "    }\n",
              "</style>\n",
              "<table border=\"1\" class=\"dataframe\">\n",
              "  <thead>\n",
              "    <tr style=\"text-align: right;\">\n",
              "      <th></th>\n",
              "      <th>Total</th>\n",
              "      <th>Percent</th>\n",
              "    </tr>\n",
              "  </thead>\n",
              "  <tbody>\n",
              "    <tr>\n",
              "      <th>Book-Rating</th>\n",
              "      <td>0</td>\n",
              "      <td>0.0</td>\n",
              "    </tr>\n",
              "    <tr>\n",
              "      <th>ISBN</th>\n",
              "      <td>0</td>\n",
              "      <td>0.0</td>\n",
              "    </tr>\n",
              "    <tr>\n",
              "      <th>User-ID</th>\n",
              "      <td>0</td>\n",
              "      <td>0.0</td>\n",
              "    </tr>\n",
              "  </tbody>\n",
              "</table>\n",
              "</div>"
            ],
            "text/plain": [
              "             Total  Percent\n",
              "Book-Rating      0      0.0\n",
              "ISBN             0      0.0\n",
              "User-ID          0      0.0"
            ]
          },
          "metadata": {
            "tags": []
          },
          "execution_count": 21
        }
      ]
    },
    {
      "cell_type": "code",
      "metadata": {
        "id": "vC2-RAnXlLGu",
        "colab_type": "code",
        "colab": {
          "base_uri": "https://localhost:8080/",
          "height": 459
        },
        "outputId": "fd0b8533-6ab4-4b7d-c20f-75e23c0dabe0"
      },
      "source": [
        "# Ratings de 0 a 10\n",
        "Ratings=df_book_rating[\"Book-Rating\"].value_counts(ascending=False)\n",
        "Ratings.head(10).plot.bar()\n",
        "Ratings.head(10)\n",
        "\n"
      ],
      "execution_count": 22,
      "outputs": [
        {
          "output_type": "execute_result",
          "data": {
            "text/plain": [
              "0     716109\n",
              "8     103736\n",
              "10     78610\n",
              "7      76457\n",
              "9      67541\n",
              "5      50974\n",
              "6      36924\n",
              "4       8904\n",
              "3       5996\n",
              "2       2759\n",
              "Name: Book-Rating, dtype: int64"
            ]
          },
          "metadata": {
            "tags": []
          },
          "execution_count": 22
        },
        {
          "output_type": "display_data",
          "data": {
            "image/png": "[encoded data removed]",
            "text/plain": [
              "<Figure size 432x288 with 1 Axes>"
            ]
          },
          "metadata": {
            "tags": [],
            "needs_background": "light"
          }
        }
      ]
    },
    {
      "cell_type": "code",
      "metadata": {
        "id": "5VC09YbssreY",
        "colab_type": "code",
        "colab": {
          "base_uri": "https://localhost:8080/",
          "height": 483
        },
        "outputId": "4c7419db-a0de-47bf-92e2-3ee73dee96a6"
      },
      "source": [
        "total = df_book_rating[\"Book-Rating\"].value_counts(ascending=False)\n",
        "percent = (df_book_rating.count()/df_book_rating.count()*100).sort_values(ascending = False)\n",
        "Ratings_percent  = pd.concat([total, percent], axis=1, keys=['Total', 'Percent'])\n",
        "Ratings_percent"
      ],
      "execution_count": 23,
      "outputs": [
        {
          "output_type": "execute_result",
          "data": {
            "text/html": [
              "<div>\n",
              "<style scoped>\n",
              "    .dataframe tbody tr th:only-of-type {\n",
              "        vertical-align: middle;\n",
              "    }\n",
              "\n",
              "    .dataframe tbody tr th {\n",
              "        vertical-align: top;\n",
              "    }\n",
              "\n",
              "    .dataframe thead th {\n",
              "        text-align: right;\n",
              "    }\n",
              "</style>\n",
              "<table border=\"1\" class=\"dataframe\">\n",
              "  <thead>\n",
              "    <tr style=\"text-align: right;\">\n",
              "      <th></th>\n",
              "      <th>Total</th>\n",
              "      <th>Percent</th>\n",
              "    </tr>\n",
              "  </thead>\n",
              "  <tbody>\n",
              "    <tr>\n",
              "      <th>0</th>\n",
              "      <td>716109.0</td>\n",
              "      <td>NaN</td>\n",
              "    </tr>\n",
              "    <tr>\n",
              "      <th>1</th>\n",
              "      <td>1770.0</td>\n",
              "      <td>NaN</td>\n",
              "    </tr>\n",
              "    <tr>\n",
              "      <th>2</th>\n",
              "      <td>2759.0</td>\n",
              "      <td>NaN</td>\n",
              "    </tr>\n",
              "    <tr>\n",
              "      <th>3</th>\n",
              "      <td>5996.0</td>\n",
              "      <td>NaN</td>\n",
              "    </tr>\n",
              "    <tr>\n",
              "      <th>4</th>\n",
              "      <td>8904.0</td>\n",
              "      <td>NaN</td>\n",
              "    </tr>\n",
              "    <tr>\n",
              "      <th>5</th>\n",
              "      <td>50974.0</td>\n",
              "      <td>NaN</td>\n",
              "    </tr>\n",
              "    <tr>\n",
              "      <th>6</th>\n",
              "      <td>36924.0</td>\n",
              "      <td>NaN</td>\n",
              "    </tr>\n",
              "    <tr>\n",
              "      <th>7</th>\n",
              "      <td>76457.0</td>\n",
              "      <td>NaN</td>\n",
              "    </tr>\n",
              "    <tr>\n",
              "      <th>8</th>\n",
              "      <td>103736.0</td>\n",
              "      <td>NaN</td>\n",
              "    </tr>\n",
              "    <tr>\n",
              "      <th>9</th>\n",
              "      <td>67541.0</td>\n",
              "      <td>NaN</td>\n",
              "    </tr>\n",
              "    <tr>\n",
              "      <th>10</th>\n",
              "      <td>78610.0</td>\n",
              "      <td>NaN</td>\n",
              "    </tr>\n",
              "    <tr>\n",
              "      <th>Book-Rating</th>\n",
              "      <td>NaN</td>\n",
              "      <td>100.0</td>\n",
              "    </tr>\n",
              "    <tr>\n",
              "      <th>ISBN</th>\n",
              "      <td>NaN</td>\n",
              "      <td>100.0</td>\n",
              "    </tr>\n",
              "    <tr>\n",
              "      <th>User-ID</th>\n",
              "      <td>NaN</td>\n",
              "      <td>100.0</td>\n",
              "    </tr>\n",
              "  </tbody>\n",
              "</table>\n",
              "</div>"
            ],
            "text/plain": [
              "                Total  Percent\n",
              "0            716109.0      NaN\n",
              "1              1770.0      NaN\n",
              "2              2759.0      NaN\n",
              "3              5996.0      NaN\n",
              "4              8904.0      NaN\n",
              "5             50974.0      NaN\n",
              "6             36924.0      NaN\n",
              "7             76457.0      NaN\n",
              "8            103736.0      NaN\n",
              "9             67541.0      NaN\n",
              "10            78610.0      NaN\n",
              "Book-Rating       NaN    100.0\n",
              "ISBN              NaN    100.0\n",
              "User-ID           NaN    100.0"
            ]
          },
          "metadata": {
            "tags": []
          },
          "execution_count": 23
        }
      ]
    },
    {
      "cell_type": "code",
      "metadata": {
        "id": "h4YCmqdGjG04",
        "colab_type": "code",
        "colab": {
          "base_uri": "https://localhost:8080/",
          "height": 316
        },
        "outputId": "dd877db3-5bdd-4a16-8348-deef81ded362"
      },
      "source": [
        "#Histograma de pontos com toda base\n",
        "\n",
        "#Subplot grid\n",
        "f, (ax_box, ax_hist) = plt.subplots(2, sharex=True, gridspec_kw={\"height_ratios\": (0.25, 0.75)})\n",
        " \n",
        "#Plot + subplot grid\n",
        "sns.boxplot(df_book_rating[\"Book-Rating\"], ax=ax_box).set_title(\"Basic representation of the Score feature\\n\")\n",
        "sns.distplot(df_book_rating[\"Book-Rating\"], ax=ax_hist, kde=False, fit=stats.gamma, bins=20)\n",
        "sns.set_color_codes(\"bright\")\n",
        "\n",
        "#Legendas\n",
        "ax_box.set(xlabel='') #Remove x axis name for the boxplot\n",
        "ax_hist.set(ylabel='Density')\n",
        "\n",
        "plt.show()"
      ],
      "execution_count": 24,
      "outputs": [
        {
          "output_type": "display_data",
          "data": {
            "image/png": "[encoded data removed]",
            "text/plain": [
              "<Figure size 432x288 with 2 Axes>"
            ]
          },
          "metadata": {
            "tags": [],
            "needs_background": "light"
          }
        }
      ]
    },
    {
      "cell_type": "code",
      "metadata": {
        "id": "CPbIEhfYkpC_",
        "colab_type": "code",
        "colab": {
          "base_uri": "https://localhost:8080/",
          "height": 68
        },
        "outputId": "4a7b7d8e-a8ba-4735-e4f2-0bf6cb63a2a2"
      },
      "source": [
        "Q3 = np.quantile(df_book_rating[\"Book-Rating\"], 0.75) #Third quartile\n",
        "Q1 = np.quantile(df_book_rating[\"Book-Rating\"], 0.25) #First quartile\n",
        "IQR = Q3 - Q1 #Inter Quartile Range\n",
        "sns.set_color_codes(\"bright\")\n",
        "\n",
        "outlier_score_threshold =  Q3 + 1.5 * IQR\n",
        "outlier_number=len(df_book_rating[ df_book_rating[\"Book-Rating\"] > outlier_score_threshold ])\n",
        "\n",
        "print(\"Number of outliers:\", outlier_number,\n",
        "      \"\\nOutlier proportion:\", round(outlier_number/len(df_book_rating[\"Book-Rating\"])*100, 3),\"%\",\n",
        "      \"\\nOutlier threshold score:\", outlier_score_threshold,\"/ 100\")"
      ],
      "execution_count": 25,
      "outputs": [
        {
          "output_type": "stream",
          "text": [
            "Number of outliers: 0 \n",
            "Outlier proportion: 0.0 % \n",
            "Outlier threshold score: 17.5 / 100\n"
          ],
          "name": "stdout"
        }
      ]
    },
    {
      "cell_type": "code",
      "metadata": {
        "id": "tbo2vyPRk4Kw",
        "colab_type": "code",
        "colab": {
          "base_uri": "https://localhost:8080/",
          "height": 355
        },
        "outputId": "a205357c-e9ba-4598-cef4-8979489afc4f"
      },
      "source": [
        "#Histograma com distribuição dos Ratings\n",
        "plt.figure(figsize=(20,5))\n",
        "plt.title(\"Distribution of Ratings\")\n",
        "ax = sns.distplot(df_book_rating[\"Book-Rating\"])"
      ],
      "execution_count": 26,
      "outputs": [
        {
          "output_type": "display_data",
          "data": {
            "image/png": "[encoded data removed]",
            "text/plain": [
              "<Figure size 1440x360 with 1 Axes>"
            ]
          },
          "metadata": {
            "tags": [],
            "needs_background": "light"
          }
        }
      ]
    },
    {
      "cell_type": "markdown",
      "metadata": {
        "id": "bln_--l2y5v3",
        "colab_type": "text"
      },
      "source": [
        ""
      ]
    },
    {
      "cell_type": "markdown",
      "metadata": {
        "id": "okNS13ESAvGe",
        "colab_type": "text"
      },
      "source": [
        "# #################NORMALIZACAO DE DADOS"
      ]
    },
    {
      "cell_type": "code",
      "metadata": {
        "id": "AA1kG1KvA-_4",
        "colab_type": "code",
        "colab": {
          "base_uri": "https://localhost:8080/",
          "height": 419
        },
        "outputId": "2ca779f1-d1d4-4ff9-dd26-a86873dd4b88"
      },
      "source": [
        "#Normalizacao de Location para poder fazer comparacao. Removendo espacos em blanco\n",
        "\n",
        "df_users['Location_CY'] = df_users['Location_CY'].str.strip()\n",
        "df_users"
      ],
      "execution_count": 27,
      "outputs": [
        {
          "output_type": "execute_result",
          "data": {
            "text/html": [
              "<div>\n",
              "<style scoped>\n",
              "    .dataframe tbody tr th:only-of-type {\n",
              "        vertical-align: middle;\n",
              "    }\n",
              "\n",
              "    .dataframe tbody tr th {\n",
              "        vertical-align: top;\n",
              "    }\n",
              "\n",
              "    .dataframe thead th {\n",
              "        text-align: right;\n",
              "    }\n",
              "</style>\n",
              "<table border=\"1\" class=\"dataframe\">\n",
              "  <thead>\n",
              "    <tr style=\"text-align: right;\">\n",
              "      <th></th>\n",
              "      <th>User-ID</th>\n",
              "      <th>Location_CT</th>\n",
              "      <th>Location_UF</th>\n",
              "      <th>Location_CY</th>\n",
              "      <th>Age</th>\n",
              "    </tr>\n",
              "  </thead>\n",
              "  <tbody>\n",
              "    <tr>\n",
              "      <th>0</th>\n",
              "      <td>120567</td>\n",
              "      <td>545</td>\n",
              "      <td>rheinland-pfalz</td>\n",
              "      <td>germany</td>\n",
              "      <td>NaN</td>\n",
              "    </tr>\n",
              "    <tr>\n",
              "      <th>1</th>\n",
              "      <td>84244</td>\n",
              "      <td>01109</td>\n",
              "      <td>sachsen</td>\n",
              "      <td>germany</td>\n",
              "      <td>40.0</td>\n",
              "    </tr>\n",
              "    <tr>\n",
              "      <th>2</th>\n",
              "      <td>151969</td>\n",
              "      <td>1700</td>\n",
              "      <td>fribourg</td>\n",
              "      <td>switzerland</td>\n",
              "      <td>24.0</td>\n",
              "    </tr>\n",
              "    <tr>\n",
              "      <th>3</th>\n",
              "      <td>147786</td>\n",
              "      <td>01721</td>\n",
              "      <td>NaN</td>\n",
              "      <td>NaN</td>\n",
              "      <td>37.0</td>\n",
              "    </tr>\n",
              "    <tr>\n",
              "      <th>4</th>\n",
              "      <td>160922</td>\n",
              "      <td>3003</td>\n",
              "      <td>tenerife</td>\n",
              "      <td>espaã±a</td>\n",
              "      <td>30.0</td>\n",
              "    </tr>\n",
              "    <tr>\n",
              "      <th>...</th>\n",
              "      <td>...</td>\n",
              "      <td>...</td>\n",
              "      <td>...</td>\n",
              "      <td>...</td>\n",
              "      <td>...</td>\n",
              "    </tr>\n",
              "    <tr>\n",
              "      <th>537945</th>\n",
              "      <td>278855</td>\n",
              "      <td>tacoma</td>\n",
              "      <td>washington</td>\n",
              "      <td>united kingdom</td>\n",
              "      <td>50.0</td>\n",
              "    </tr>\n",
              "    <tr>\n",
              "      <th>537946</th>\n",
              "      <td>278856</td>\n",
              "      <td>brampton</td>\n",
              "      <td>ontario</td>\n",
              "      <td>canada</td>\n",
              "      <td>NaN</td>\n",
              "    </tr>\n",
              "    <tr>\n",
              "      <th>537947</th>\n",
              "      <td>278857</td>\n",
              "      <td>knoxville</td>\n",
              "      <td>tennessee</td>\n",
              "      <td>usa</td>\n",
              "      <td>NaN</td>\n",
              "    </tr>\n",
              "    <tr>\n",
              "      <th>537948</th>\n",
              "      <td>278858</td>\n",
              "      <td>dublin</td>\n",
              "      <td>n/a</td>\n",
              "      <td>ireland</td>\n",
              "      <td>NaN</td>\n",
              "    </tr>\n",
              "    <tr>\n",
              "      <th>537949</th>\n",
              "      <td>&gt;&gt;&gt;&gt;&gt;&gt;&gt; 08ef6012be10d0cfa7c55409e30d87a2f4248b33</td>\n",
              "      <td>NaN</td>\n",
              "      <td>NaN</td>\n",
              "      <td>NaN</td>\n",
              "      <td>NaN</td>\n",
              "    </tr>\n",
              "  </tbody>\n",
              "</table>\n",
              "<p>537950 rows × 5 columns</p>\n",
              "</div>"
            ],
            "text/plain": [
              "                                                 User-ID  ...   Age\n",
              "0                                                 120567  ...   NaN\n",
              "1                                                  84244  ...  40.0\n",
              "2                                                 151969  ...  24.0\n",
              "3                                                 147786  ...  37.0\n",
              "4                                                 160922  ...  30.0\n",
              "...                                                  ...  ...   ...\n",
              "537945                                            278855  ...  50.0\n",
              "537946                                            278856  ...   NaN\n",
              "537947                                            278857  ...   NaN\n",
              "537948                                            278858  ...   NaN\n",
              "537949  >>>>>>> 08ef6012be10d0cfa7c55409e30d87a2f4248b33  ...   NaN\n",
              "\n",
              "[537950 rows x 5 columns]"
            ]
          },
          "metadata": {
            "tags": []
          },
          "execution_count": 27
        }
      ]
    },
    {
      "cell_type": "code",
      "metadata": {
        "id": "aZDeWTPtBDga",
        "colab_type": "code",
        "colab": {
          "base_uri": "https://localhost:8080/",
          "height": 419
        },
        "outputId": "761701cc-1bd0-4a47-c965-7af3c213d1a6"
      },
      "source": [
        "# Procurando os usuario que sao do pais usa\n",
        "import numpy as np\n",
        "df_users_usa = df_users[(df_users['Location_CY'] == \"usa\")]\n",
        "df_users_usa"
      ],
      "execution_count": 28,
      "outputs": [
        {
          "output_type": "execute_result",
          "data": {
            "text/html": [
              "<div>\n",
              "<style scoped>\n",
              "    .dataframe tbody tr th:only-of-type {\n",
              "        vertical-align: middle;\n",
              "    }\n",
              "\n",
              "    .dataframe tbody tr th {\n",
              "        vertical-align: top;\n",
              "    }\n",
              "\n",
              "    .dataframe thead th {\n",
              "        text-align: right;\n",
              "    }\n",
              "</style>\n",
              "<table border=\"1\" class=\"dataframe\">\n",
              "  <thead>\n",
              "    <tr style=\"text-align: right;\">\n",
              "      <th></th>\n",
              "      <th>User-ID</th>\n",
              "      <th>Location_CT</th>\n",
              "      <th>Location_UF</th>\n",
              "      <th>Location_CY</th>\n",
              "      <th>Age</th>\n",
              "    </tr>\n",
              "  </thead>\n",
              "  <tbody>\n",
              "    <tr>\n",
              "      <th>8</th>\n",
              "      <td>266829</td>\n",
              "      <td>05680</td>\n",
              "      <td>vermont</td>\n",
              "      <td>usa</td>\n",
              "      <td>NaN</td>\n",
              "    </tr>\n",
              "    <tr>\n",
              "      <th>13</th>\n",
              "      <td>155407</td>\n",
              "      <td>10012</td>\n",
              "      <td>new york</td>\n",
              "      <td>usa</td>\n",
              "      <td>NaN</td>\n",
              "    </tr>\n",
              "    <tr>\n",
              "      <th>14</th>\n",
              "      <td>198308</td>\n",
              "      <td>10458</td>\n",
              "      <td>new york</td>\n",
              "      <td>usa</td>\n",
              "      <td>46.0</td>\n",
              "    </tr>\n",
              "    <tr>\n",
              "      <th>18</th>\n",
              "      <td>223378</td>\n",
              "      <td>33156</td>\n",
              "      <td>florida</td>\n",
              "      <td>usa</td>\n",
              "      <td>17.0</td>\n",
              "    </tr>\n",
              "    <tr>\n",
              "      <th>20</th>\n",
              "      <td>130531</td>\n",
              "      <td>39180</td>\n",
              "      <td>mississippi</td>\n",
              "      <td>usa</td>\n",
              "      <td>25.0</td>\n",
              "    </tr>\n",
              "    <tr>\n",
              "      <th>...</th>\n",
              "      <td>...</td>\n",
              "      <td>...</td>\n",
              "      <td>...</td>\n",
              "      <td>...</td>\n",
              "      <td>...</td>\n",
              "    </tr>\n",
              "    <tr>\n",
              "      <th>537934</th>\n",
              "      <td>278844</td>\n",
              "      <td>st. paul</td>\n",
              "      <td>minnesota</td>\n",
              "      <td>usa</td>\n",
              "      <td>28.0</td>\n",
              "    </tr>\n",
              "    <tr>\n",
              "      <th>537937</th>\n",
              "      <td>278847</td>\n",
              "      <td>brooklyn</td>\n",
              "      <td>new york</td>\n",
              "      <td>usa</td>\n",
              "      <td>NaN</td>\n",
              "    </tr>\n",
              "    <tr>\n",
              "      <th>537941</th>\n",
              "      <td>278851</td>\n",
              "      <td>dallas</td>\n",
              "      <td>texas</td>\n",
              "      <td>usa</td>\n",
              "      <td>33.0</td>\n",
              "    </tr>\n",
              "    <tr>\n",
              "      <th>537944</th>\n",
              "      <td>278854</td>\n",
              "      <td>portland</td>\n",
              "      <td>oregon</td>\n",
              "      <td>usa</td>\n",
              "      <td>NaN</td>\n",
              "    </tr>\n",
              "    <tr>\n",
              "      <th>537947</th>\n",
              "      <td>278857</td>\n",
              "      <td>knoxville</td>\n",
              "      <td>tennessee</td>\n",
              "      <td>usa</td>\n",
              "      <td>NaN</td>\n",
              "    </tr>\n",
              "  </tbody>\n",
              "</table>\n",
              "<p>270975 rows × 5 columns</p>\n",
              "</div>"
            ],
            "text/plain": [
              "       User-ID Location_CT  Location_UF Location_CY   Age\n",
              "8       266829       05680      vermont         usa   NaN\n",
              "13      155407       10012     new york         usa   NaN\n",
              "14      198308       10458     new york         usa  46.0\n",
              "18      223378       33156      florida         usa  17.0\n",
              "20      130531       39180  mississippi         usa  25.0\n",
              "...        ...         ...          ...         ...   ...\n",
              "537934  278844    st. paul    minnesota         usa  28.0\n",
              "537937  278847    brooklyn     new york         usa   NaN\n",
              "537941  278851      dallas        texas         usa  33.0\n",
              "537944  278854    portland       oregon         usa   NaN\n",
              "537947  278857   knoxville    tennessee         usa   NaN\n",
              "\n",
              "[270975 rows x 5 columns]"
            ]
          },
          "metadata": {
            "tags": []
          },
          "execution_count": 28
        }
      ]
    },
    {
      "cell_type": "code",
      "metadata": {
        "id": "enyyrYpDBISt",
        "colab_type": "code",
        "colab": {
          "base_uri": "https://localhost:8080/",
          "height": 419
        },
        "outputId": "9d59ac38-0283-4bdd-92e0-75d2d8e8e4ad"
      },
      "source": [
        "# Considerando so book rating com avaliacao explicita, o seja rating superior a 0\n",
        "df_book_rating_no_zero = df_book_rating[(df_book_rating['Book-Rating'] > 0)]\n",
        "df_book_rating_no_zero"
      ],
      "execution_count": 29,
      "outputs": [
        {
          "output_type": "execute_result",
          "data": {
            "text/html": [
              "<div>\n",
              "<style scoped>\n",
              "    .dataframe tbody tr th:only-of-type {\n",
              "        vertical-align: middle;\n",
              "    }\n",
              "\n",
              "    .dataframe tbody tr th {\n",
              "        vertical-align: top;\n",
              "    }\n",
              "\n",
              "    .dataframe thead th {\n",
              "        text-align: right;\n",
              "    }\n",
              "</style>\n",
              "<table border=\"1\" class=\"dataframe\">\n",
              "  <thead>\n",
              "    <tr style=\"text-align: right;\">\n",
              "      <th></th>\n",
              "      <th>User-ID</th>\n",
              "      <th>ISBN</th>\n",
              "      <th>Book-Rating</th>\n",
              "    </tr>\n",
              "  </thead>\n",
              "  <tbody>\n",
              "    <tr>\n",
              "      <th>1</th>\n",
              "      <td>276726</td>\n",
              "      <td>0155061224</td>\n",
              "      <td>5</td>\n",
              "    </tr>\n",
              "    <tr>\n",
              "      <th>3</th>\n",
              "      <td>276729</td>\n",
              "      <td>052165615X</td>\n",
              "      <td>3</td>\n",
              "    </tr>\n",
              "    <tr>\n",
              "      <th>4</th>\n",
              "      <td>276729</td>\n",
              "      <td>0521795028</td>\n",
              "      <td>6</td>\n",
              "    </tr>\n",
              "    <tr>\n",
              "      <th>6</th>\n",
              "      <td>276736</td>\n",
              "      <td>3257224281</td>\n",
              "      <td>8</td>\n",
              "    </tr>\n",
              "    <tr>\n",
              "      <th>7</th>\n",
              "      <td>276737</td>\n",
              "      <td>0600570967</td>\n",
              "      <td>6</td>\n",
              "    </tr>\n",
              "    <tr>\n",
              "      <th>...</th>\n",
              "      <td>...</td>\n",
              "      <td>...</td>\n",
              "      <td>...</td>\n",
              "    </tr>\n",
              "    <tr>\n",
              "      <th>1149773</th>\n",
              "      <td>276704</td>\n",
              "      <td>0806917695</td>\n",
              "      <td>5</td>\n",
              "    </tr>\n",
              "    <tr>\n",
              "      <th>1149775</th>\n",
              "      <td>276704</td>\n",
              "      <td>1563526298</td>\n",
              "      <td>9</td>\n",
              "    </tr>\n",
              "    <tr>\n",
              "      <th>1149777</th>\n",
              "      <td>276709</td>\n",
              "      <td>0515107662</td>\n",
              "      <td>10</td>\n",
              "    </tr>\n",
              "    <tr>\n",
              "      <th>1149778</th>\n",
              "      <td>276721</td>\n",
              "      <td>0590442449</td>\n",
              "      <td>10</td>\n",
              "    </tr>\n",
              "    <tr>\n",
              "      <th>1149779</th>\n",
              "      <td>276723</td>\n",
              "      <td>05162443314</td>\n",
              "      <td>8</td>\n",
              "    </tr>\n",
              "  </tbody>\n",
              "</table>\n",
              "<p>433671 rows × 3 columns</p>\n",
              "</div>"
            ],
            "text/plain": [
              "         User-ID         ISBN  Book-Rating\n",
              "1         276726   0155061224            5\n",
              "3         276729   052165615X            3\n",
              "4         276729   0521795028            6\n",
              "6         276736   3257224281            8\n",
              "7         276737   0600570967            6\n",
              "...          ...          ...          ...\n",
              "1149773   276704   0806917695            5\n",
              "1149775   276704   1563526298            9\n",
              "1149777   276709   0515107662           10\n",
              "1149778   276721   0590442449           10\n",
              "1149779   276723  05162443314            8\n",
              "\n",
              "[433671 rows x 3 columns]"
            ]
          },
          "metadata": {
            "tags": []
          },
          "execution_count": 29
        }
      ]
    },
    {
      "cell_type": "code",
      "metadata": {
        "id": "7JwrUVQHCNc0",
        "colab_type": "code",
        "colab": {
          "base_uri": "https://localhost:8080/",
          "height": 419
        },
        "outputId": "3f05961b-6612-498e-ef1e-28ad10e4f38b"
      },
      "source": [
        "# Relacionando os usuarios de usa e as avaliacaoes que fizeram\n",
        "\n",
        "merged_user_book_rating_df = pd.merge(left=df_users_usa, right=df_book_rating_no_zero, left_on='User-ID', right_on='User-ID')\n",
        "merged_user_book_rating_df"
      ],
      "execution_count": 30,
      "outputs": [
        {
          "output_type": "execute_result",
          "data": {
            "text/html": [
              "<div>\n",
              "<style scoped>\n",
              "    .dataframe tbody tr th:only-of-type {\n",
              "        vertical-align: middle;\n",
              "    }\n",
              "\n",
              "    .dataframe tbody tr th {\n",
              "        vertical-align: top;\n",
              "    }\n",
              "\n",
              "    .dataframe thead th {\n",
              "        text-align: right;\n",
              "    }\n",
              "</style>\n",
              "<table border=\"1\" class=\"dataframe\">\n",
              "  <thead>\n",
              "    <tr style=\"text-align: right;\">\n",
              "      <th></th>\n",
              "      <th>User-ID</th>\n",
              "      <th>Location_CT</th>\n",
              "      <th>Location_UF</th>\n",
              "      <th>Location_CY</th>\n",
              "      <th>Age</th>\n",
              "      <th>ISBN</th>\n",
              "      <th>Book-Rating</th>\n",
              "    </tr>\n",
              "  </thead>\n",
              "  <tbody>\n",
              "    <tr>\n",
              "      <th>0</th>\n",
              "      <td>82537</td>\n",
              "      <td>lockport</td>\n",
              "      <td>new york</td>\n",
              "      <td>usa</td>\n",
              "      <td>NaN</td>\n",
              "      <td>0670891568</td>\n",
              "      <td>9</td>\n",
              "    </tr>\n",
              "    <tr>\n",
              "      <th>1</th>\n",
              "      <td>99955</td>\n",
              "      <td>lockport</td>\n",
              "      <td>new york</td>\n",
              "      <td>usa</td>\n",
              "      <td>14.0</td>\n",
              "      <td>0060256672</td>\n",
              "      <td>10</td>\n",
              "    </tr>\n",
              "    <tr>\n",
              "      <th>2</th>\n",
              "      <td>99955</td>\n",
              "      <td>lockport</td>\n",
              "      <td>new york</td>\n",
              "      <td>usa</td>\n",
              "      <td>14.0</td>\n",
              "      <td>0061032034</td>\n",
              "      <td>10</td>\n",
              "    </tr>\n",
              "    <tr>\n",
              "      <th>3</th>\n",
              "      <td>99955</td>\n",
              "      <td>lockport</td>\n",
              "      <td>new york</td>\n",
              "      <td>usa</td>\n",
              "      <td>14.0</td>\n",
              "      <td>0064401480</td>\n",
              "      <td>8</td>\n",
              "    </tr>\n",
              "    <tr>\n",
              "      <th>4</th>\n",
              "      <td>99955</td>\n",
              "      <td>lockport</td>\n",
              "      <td>new york</td>\n",
              "      <td>usa</td>\n",
              "      <td>14.0</td>\n",
              "      <td>0140031928</td>\n",
              "      <td>6</td>\n",
              "    </tr>\n",
              "    <tr>\n",
              "      <th>...</th>\n",
              "      <td>...</td>\n",
              "      <td>...</td>\n",
              "      <td>...</td>\n",
              "      <td>...</td>\n",
              "      <td>...</td>\n",
              "      <td>...</td>\n",
              "      <td>...</td>\n",
              "    </tr>\n",
              "    <tr>\n",
              "      <th>249422</th>\n",
              "      <td>265087</td>\n",
              "      <td>catharpin</td>\n",
              "      <td>virginia</td>\n",
              "      <td>usa</td>\n",
              "      <td>NaN</td>\n",
              "      <td>0684842718</td>\n",
              "      <td>8</td>\n",
              "    </tr>\n",
              "    <tr>\n",
              "      <th>249423</th>\n",
              "      <td>265087</td>\n",
              "      <td>catharpin</td>\n",
              "      <td>virginia</td>\n",
              "      <td>usa</td>\n",
              "      <td>NaN</td>\n",
              "      <td>086571231X</td>\n",
              "      <td>9</td>\n",
              "    </tr>\n",
              "    <tr>\n",
              "      <th>249424</th>\n",
              "      <td>265087</td>\n",
              "      <td>catharpin</td>\n",
              "      <td>virginia</td>\n",
              "      <td>usa</td>\n",
              "      <td>NaN</td>\n",
              "      <td>1573920533</td>\n",
              "      <td>5</td>\n",
              "    </tr>\n",
              "    <tr>\n",
              "      <th>249425</th>\n",
              "      <td>265107</td>\n",
              "      <td>columbia</td>\n",
              "      <td>maryland</td>\n",
              "      <td>usa</td>\n",
              "      <td>NaN</td>\n",
              "      <td>0739317059</td>\n",
              "      <td>4</td>\n",
              "    </tr>\n",
              "    <tr>\n",
              "      <th>249426</th>\n",
              "      <td>265107</td>\n",
              "      <td>columbia</td>\n",
              "      <td>maryland</td>\n",
              "      <td>usa</td>\n",
              "      <td>NaN</td>\n",
              "      <td>156352578X</td>\n",
              "      <td>10</td>\n",
              "    </tr>\n",
              "  </tbody>\n",
              "</table>\n",
              "<p>249427 rows × 7 columns</p>\n",
              "</div>"
            ],
            "text/plain": [
              "       User-ID Location_CT Location_UF  ...   Age        ISBN Book-Rating\n",
              "0        82537    lockport    new york  ...   NaN  0670891568           9\n",
              "1        99955    lockport    new york  ...  14.0  0060256672          10\n",
              "2        99955    lockport    new york  ...  14.0  0061032034          10\n",
              "3        99955    lockport    new york  ...  14.0  0064401480           8\n",
              "4        99955    lockport    new york  ...  14.0  0140031928           6\n",
              "...        ...         ...         ...  ...   ...         ...         ...\n",
              "249422  265087   catharpin    virginia  ...   NaN  0684842718           8\n",
              "249423  265087   catharpin    virginia  ...   NaN  086571231X           9\n",
              "249424  265087   catharpin    virginia  ...   NaN  1573920533           5\n",
              "249425  265107    columbia    maryland  ...   NaN  0739317059           4\n",
              "249426  265107    columbia    maryland  ...   NaN  156352578X          10\n",
              "\n",
              "[249427 rows x 7 columns]"
            ]
          },
          "metadata": {
            "tags": []
          },
          "execution_count": 30
        }
      ]
    },
    {
      "cell_type": "code",
      "metadata": {
        "id": "KP79YCeZCjwp",
        "colab_type": "code",
        "colab": {
          "base_uri": "https://localhost:8080/",
          "height": 34
        },
        "outputId": "92b4ca36-a55b-42e9-d424-78b5d0c2e1c9"
      },
      "source": [
        "# quantidade de usuarios unicos que avaliaram algum livro de forma explicita\n",
        "users_who_evaluated = merged_user_book_rating_df['User-ID'].nunique()\n",
        "users_who_evaluated"
      ],
      "execution_count": 31,
      "outputs": [
        {
          "output_type": "execute_result",
          "data": {
            "text/plain": [
              "32206"
            ]
          },
          "metadata": {
            "tags": []
          },
          "execution_count": 31
        }
      ]
    },
    {
      "cell_type": "code",
      "metadata": {
        "id": "N9sJBfC1C7Sk",
        "colab_type": "code",
        "colab": {
          "base_uri": "https://localhost:8080/",
          "height": 34
        },
        "outputId": "6ea17649-f6f7-4464-c5c2-8a7bbe3b0a5a"
      },
      "source": [
        "# quantidade de livros avaliados de forma explicita\n",
        "books_evaluated = merged_user_book_rating_df['ISBN'].nunique()\n",
        "books_evaluated"
      ],
      "execution_count": 32,
      "outputs": [
        {
          "output_type": "execute_result",
          "data": {
            "text/plain": [
              "89473"
            ]
          },
          "metadata": {
            "tags": []
          },
          "execution_count": 32
        }
      ]
    },
    {
      "cell_type": "markdown",
      "metadata": {
        "colab_type": "text",
        "id": "ilH420sn5NGW"
      },
      "source": [
        "###2.1 Users (com normalização)"
      ]
    },
    {
      "cell_type": "code",
      "metadata": {
        "colab_type": "code",
        "id": "-xtyK0385NGX",
        "colab": {
          "base_uri": "https://localhost:8080/",
          "height": 255
        },
        "outputId": "59aad04f-792a-496f-9b7b-e00a0fa0c4fe"
      },
      "source": [
        "#Verificando as estatísticas básicas\n",
        "df_users_usa.describe"
      ],
      "execution_count": 39,
      "outputs": [
        {
          "output_type": "execute_result",
          "data": {
            "text/plain": [
              "<bound method NDFrame.describe of        User-ID Location_CT  Location_UF Location_CY   Age\n",
              "8       266829       05680      vermont         usa   NaN\n",
              "13      155407       10012     new york         usa   NaN\n",
              "14      198308       10458     new york         usa  46.0\n",
              "18      223378       33156      florida         usa  17.0\n",
              "20      130531       39180  mississippi         usa  25.0\n",
              "...        ...         ...          ...         ...   ...\n",
              "537934  278844    st. paul    minnesota         usa  28.0\n",
              "537937  278847    brooklyn     new york         usa   NaN\n",
              "537941  278851      dallas        texas         usa  33.0\n",
              "537944  278854    portland       oregon         usa   NaN\n",
              "537947  278857   knoxville    tennessee         usa   NaN\n",
              "\n",
              "[270975 rows x 5 columns]>"
            ]
          },
          "metadata": {
            "tags": []
          },
          "execution_count": 39
        }
      ]
    },
    {
      "cell_type": "code",
      "metadata": {
        "colab_type": "code",
        "id": "ZWUeVm-25NGZ",
        "colab": {
          "base_uri": "https://localhost:8080/",
          "height": 221
        },
        "outputId": "a2827fc4-05ea-424c-f216-855189f8ee27"
      },
      "source": [
        "#Entendendo se temos muitos valores faltantes\n",
        "df_users_usa.info()"
      ],
      "execution_count": 40,
      "outputs": [
        {
          "output_type": "stream",
          "text": [
            "<class 'pandas.core.frame.DataFrame'>\n",
            "Int64Index: 270975 entries, 8 to 537947\n",
            "Data columns (total 5 columns):\n",
            " #   Column       Non-Null Count   Dtype  \n",
            "---  ------       --------------   -----  \n",
            " 0   User-ID      270975 non-null  object \n",
            " 1   Location_CT  270794 non-null  object \n",
            " 2   Location_UF  270892 non-null  object \n",
            " 3   Location_CY  270975 non-null  object \n",
            " 4   Age          148260 non-null  float64\n",
            "dtypes: float64(1), object(4)\n",
            "memory usage: 12.4+ MB\n"
          ],
          "name": "stdout"
        }
      ]
    },
    {
      "cell_type": "code",
      "metadata": {
        "colab_type": "code",
        "id": "XFJeiv-F5NGb",
        "colab": {
          "base_uri": "https://localhost:8080/",
          "height": 204
        },
        "outputId": "b628e3ae-6bfb-4b74-f532-f9723f6460b3"
      },
      "source": [
        "total = df_users_usa.isnull().sum().sort_values(ascending = False)\n",
        "percent = (df_users_usa.isnull().sum()/df_users_usa.isnull().count()*100).sort_values(ascending = False)\n",
        "missing_df_users_usa  = pd.concat([total, percent], axis=1, keys=['Total', 'Percent'])\n",
        "missing_df_users_usa"
      ],
      "execution_count": 41,
      "outputs": [
        {
          "output_type": "execute_result",
          "data": {
            "text/html": [
              "<div>\n",
              "<style scoped>\n",
              "    .dataframe tbody tr th:only-of-type {\n",
              "        vertical-align: middle;\n",
              "    }\n",
              "\n",
              "    .dataframe tbody tr th {\n",
              "        vertical-align: top;\n",
              "    }\n",
              "\n",
              "    .dataframe thead th {\n",
              "        text-align: right;\n",
              "    }\n",
              "</style>\n",
              "<table border=\"1\" class=\"dataframe\">\n",
              "  <thead>\n",
              "    <tr style=\"text-align: right;\">\n",
              "      <th></th>\n",
              "      <th>Total</th>\n",
              "      <th>Percent</th>\n",
              "    </tr>\n",
              "  </thead>\n",
              "  <tbody>\n",
              "    <tr>\n",
              "      <th>Age</th>\n",
              "      <td>122715</td>\n",
              "      <td>45.286466</td>\n",
              "    </tr>\n",
              "    <tr>\n",
              "      <th>Location_CT</th>\n",
              "      <td>181</td>\n",
              "      <td>0.066796</td>\n",
              "    </tr>\n",
              "    <tr>\n",
              "      <th>Location_UF</th>\n",
              "      <td>83</td>\n",
              "      <td>0.030630</td>\n",
              "    </tr>\n",
              "    <tr>\n",
              "      <th>Location_CY</th>\n",
              "      <td>0</td>\n",
              "      <td>0.000000</td>\n",
              "    </tr>\n",
              "    <tr>\n",
              "      <th>User-ID</th>\n",
              "      <td>0</td>\n",
              "      <td>0.000000</td>\n",
              "    </tr>\n",
              "  </tbody>\n",
              "</table>\n",
              "</div>"
            ],
            "text/plain": [
              "              Total    Percent\n",
              "Age          122715  45.286466\n",
              "Location_CT     181   0.066796\n",
              "Location_UF      83   0.030630\n",
              "Location_CY       0   0.000000\n",
              "User-ID           0   0.000000"
            ]
          },
          "metadata": {
            "tags": []
          },
          "execution_count": 41
        }
      ]
    },
    {
      "cell_type": "code",
      "metadata": {
        "id": "wurfSCVK59Gl",
        "colab_type": "code",
        "colab": {
          "base_uri": "https://localhost:8080/",
          "height": 692
        },
        "outputId": "38fa08b8-0c96-44f0-f2cc-95cc2a7437b5"
      },
      "source": [
        "# UF dos usuários\n",
        "Users_USA_UF=df_users_usa[\"Location_UF\"].value_counts(ascending=False)\n",
        "Users_USA_UF.head(20).plot.bar()\n",
        "Users_USA_UF.head(20)"
      ],
      "execution_count": 47,
      "outputs": [
        {
          "output_type": "execute_result",
          "data": {
            "text/plain": [
              "california       19628\n",
              " california      18896\n",
              "texas             8206\n",
              " texas            7904\n",
              "new york          7733\n",
              " new york         7418\n",
              "florida           6877\n",
              " florida          6624\n",
              "pennsylvania      5891\n",
              "illinois          5745\n",
              " pennsylvania     5741\n",
              "washington        5679\n",
              " illinois         5541\n",
              " washington       5504\n",
              "ohio              4562\n",
              "michigan          4486\n",
              " ohio             4402\n",
              " michigan         4361\n",
              "oregon            4229\n",
              "virginia          4215\n",
              "Name: Location_UF, dtype: int64"
            ]
          },
          "metadata": {
            "tags": []
          },
          "execution_count": 47
        },
        {
          "output_type": "display_data",
          "data": {
            "image/png": "[encoded data removed]",
            "text/plain": [
              "<Figure size 432x288 with 1 Axes>"
            ]
          },
          "metadata": {
            "tags": [],
            "needs_background": "light"
          }
        }
      ]
    },
    {
      "cell_type": "code",
      "metadata": {
        "colab_type": "code",
        "id": "8yxl8rU75NGd",
        "colab": {
          "base_uri": "https://localhost:8080/",
          "height": 639
        },
        "outputId": "c6d91ef8-45d6-4c6c-c0b8-427dd6f6aa76"
      },
      "source": [
        "# Idade dos usuários - aumentou bastante a idade média vs base full\n",
        "Users_USA_Age=df_users_usa[\"Age\"].value_counts(ascending=False)\n",
        "Users_USA_Age.head(20).plot.bar()\n",
        "Users_USA_Age.head(20)\n",
        "\n"
      ],
      "execution_count": 42,
      "outputs": [
        {
          "output_type": "execute_result",
          "data": {
            "text/plain": [
              "34.0    4232\n",
              "33.0    3839\n",
              "35.0    3835\n",
              "32.0    3733\n",
              "29.0    3717\n",
              "36.0    3585\n",
              "24.0    3548\n",
              "28.0    3540\n",
              "31.0    3530\n",
              "30.0    3524\n",
              "26.0    3460\n",
              "25.0    3435\n",
              "27.0    3426\n",
              "37.0    3285\n",
              "38.0    3207\n",
              "23.0    3191\n",
              "39.0    3130\n",
              "40.0    3046\n",
              "41.0    3040\n",
              "43.0    3009\n",
              "Name: Age, dtype: int64"
            ]
          },
          "metadata": {
            "tags": []
          },
          "execution_count": 42
        },
        {
          "output_type": "display_data",
          "data": {
            "image/png": "[encoded data removed]",
            "text/plain": [
              "<Figure size 432x288 with 1 Axes>"
            ]
          },
          "metadata": {
            "tags": [],
            "needs_background": "light"
          }
        }
      ]
    },
    {
      "cell_type": "code",
      "metadata": {
        "colab_type": "code",
        "id": "LBCCe3Up5NGe",
        "colab": {
          "base_uri": "https://localhost:8080/",
          "height": 355
        },
        "outputId": "429cf2b1-de55-431e-f8c8-696260e89264"
      },
      "source": [
        "#Histograma com distribuição de idade\n",
        "plt.figure(figsize=(20,5))\n",
        "plt.title(\"Distribution of Age\")\n",
        "ax = sns.distplot(df_users_usa[\"Age\"])"
      ],
      "execution_count": 46,
      "outputs": [
        {
          "output_type": "display_data",
          "data": {
            "image/png": "[encoded data removed]",
            "text/plain": [
              "<Figure size 1440x360 with 1 Axes>"
            ]
          },
          "metadata": {
            "tags": [],
            "needs_background": "light"
          }
        }
      ]
    },
    {
      "cell_type": "markdown",
      "metadata": {
        "colab_type": "text",
        "id": "6JyAb0_LyjP2"
      },
      "source": [
        "## 3. Desenvolvimento do Cold Start\n",
        "Estruturar como vamos resolver o problema de cold start"
      ]
    },
    {
      "cell_type": "code",
      "metadata": {
        "colab_type": "code",
        "id": "Wm43Kspby4F6",
        "colab": {}
      },
      "source": [
        ""
      ],
      "execution_count": 32,
      "outputs": []
    },
    {
      "cell_type": "markdown",
      "metadata": {
        "colab_type": "text",
        "id": "8j2_-CCby4eT"
      },
      "source": [
        "## 4. Desenvolvimento Filtragem Colaborativa\n",
        "Executaremos a filtragem com DL e sem DL, para depois compararmos as principais métricas:\n",
        "\n",
        "**Qualidade de predição (acurácia)**\n",
        "- Mean Absolute Error (MAE) - https://keras.io/api/metrics/regression_metrics/#meanabsoluteerror-class\n",
        "- Mean Squared Error (MSE) / Loss - https://keras.io/api/metrics/regression_metrics/#meansquarederror-class\n",
        "- Root Mean Square Error (RMSE) - https://keras.io/api/metrics/regression_metrics/#rootmeansquarederror-class \n",
        "\n",
        "**Conjunto de recomendações**\n",
        "https://keras.io/api/metrics/classification_metrics/#auc-class \n",
        "Usar Fit and Score??\n",
        "- Precisão (P) - proporção de recomendações consideradas boas\n",
        "- Revocação (R ) - boas recomendações recuperadas pelo sistema\n",
        "- F1 - média ponderada entre P e R.\n",
        "\n",
        "**Lista de recomendação gerada**\n",
        "- Half-life utility (R-Score) - mede a qualidade da lista gerada, ordenando os com maior fit no topo e vai descendo\n"
      ]
    },
    {
      "cell_type": "markdown",
      "metadata": {
        "colab_type": "text",
        "id": "iToDUsoZy9zg"
      },
      "source": [
        "### 4.1 - F.C. com Deep Learning"
      ]
    },
    {
      "cell_type": "code",
      "metadata": {
        "id": "1K5YVEj7g4nt",
        "colab_type": "code",
        "colab": {
          "base_uri": "https://localhost:8080/",
          "height": 34
        },
        "outputId": "90d8474f-47ce-46e2-bcf6-3b9f0d9d879c"
      },
      "source": [
        "#https://medium.com/@jdwittenauer/deep-learning-with-keras-recommender-systems-e7b99cb29929\n",
        "import sklearn as sk\n",
        "from sklearn.preprocessing import LabelEncoder\n",
        "\n",
        "user_enc = LabelEncoder()\n",
        "merged_user_book_rating_df['userUniq'] = user_enc.fit_transform(merged_user_book_rating_df['User-ID'].values)\n",
        "n_users = merged_user_book_rating_df['userUniq'].nunique()\n",
        "\n",
        "book_enc = LabelEncoder()\n",
        "merged_user_book_rating_df['bookUniq'] = book_enc.fit_transform(merged_user_book_rating_df['ISBN'].values)\n",
        "n_books = merged_user_book_rating_df['bookUniq'].nunique()\n",
        "\n",
        "merged_user_book_rating_df['Book-Rating'] = merged_user_book_rating_df['Book-Rating'].values.astype(np.float32)\n",
        "min_rating = min(merged_user_book_rating_df['Book-Rating'])\n",
        "max_rating = max(merged_user_book_rating_df['Book-Rating'])\n",
        "\n",
        "n_users, n_books, min_rating, max_rating"
      ],
      "execution_count": 33,
      "outputs": [
        {
          "output_type": "execute_result",
          "data": {
            "text/plain": [
              "(32206, 89473, 1.0, 10.0)"
            ]
          },
          "metadata": {
            "tags": []
          },
          "execution_count": 33
        }
      ]
    },
    {
      "cell_type": "code",
      "metadata": {
        "id": "_M9N1U07il51",
        "colab_type": "code",
        "colab": {
          "base_uri": "https://localhost:8080/",
          "height": 34
        },
        "outputId": "b4bf7891-7287-4d3d-8a46-dffd6459cb86"
      },
      "source": [
        "from sklearn.model_selection import train_test_split\n",
        "\n",
        "X = merged_user_book_rating_df[['userUniq', 'bookUniq']].values\n",
        "y = merged_user_book_rating_df['Book-Rating'].values\n",
        "X_train, X_test, y_train, y_test = train_test_split(X, y, test_size=0.1, random_state=42)\n",
        "\n",
        "X_train.shape, X_test.shape, y_train.shape, y_test.shape"
      ],
      "execution_count": 34,
      "outputs": [
        {
          "output_type": "execute_result",
          "data": {
            "text/plain": [
              "((224484, 2), (24943, 2), (224484,), (24943,))"
            ]
          },
          "metadata": {
            "tags": []
          },
          "execution_count": 34
        }
      ]
    },
    {
      "cell_type": "code",
      "metadata": {
        "id": "v-Ksg_PfjNJe",
        "colab_type": "code",
        "colab": {}
      },
      "source": [
        "n_factors = 50\n",
        "X_train_array = [X_train[:, 0], X_train[:, 1]]\n",
        "X_test_array = [X_test[:, 0], X_test[:, 1]]"
      ],
      "execution_count": 35,
      "outputs": []
    },
    {
      "cell_type": "code",
      "metadata": {
        "id": "50E0Fly-jObI",
        "colab_type": "code",
        "colab": {}
      },
      "source": [
        "from keras.models import Model\n",
        "from keras.layers import Input, Reshape, Dot\n",
        "from keras.layers.embeddings import Embedding\n",
        "from keras.optimizers import Adam\n",
        "from keras.regularizers import l2\n",
        "def RecommenderV1(n_users, n_books, n_factors):\n",
        "    user = Input(shape=(1,))\n",
        "    u = Embedding(n_users, n_factors, embeddings_initializer='he_normal',\n",
        "                  embeddings_regularizer=l2(1e-6))(user)\n",
        "    u = Reshape((n_factors,))(u)\n",
        "    \n",
        "    book = Input(shape=(1,))\n",
        "    m = Embedding(n_books, n_factors, embeddings_initializer='he_normal',\n",
        "                  embeddings_regularizer=l2(1e-6))(book)\n",
        "    m = Reshape((n_factors,))(m)\n",
        "    \n",
        "    x = Dot(axes=1)([u, m])\n",
        "    model = Model(inputs=[user, book], outputs=x)\n",
        "    opt = Adam(lr=0.001)\n",
        "    model.compile(loss='mean_squared_error', optimizer=opt)\n",
        "    return model"
      ],
      "execution_count": 36,
      "outputs": []
    },
    {
      "cell_type": "code",
      "metadata": {
        "id": "ezWR57fkjena",
        "colab_type": "code",
        "colab": {
          "base_uri": "https://localhost:8080/",
          "height": 408
        },
        "outputId": "fe5b100b-7c39-4806-f434-0b8dd1c395c9"
      },
      "source": [
        "model = RecommenderV1(n_users, n_books, n_factors)\n",
        "model.summary()"
      ],
      "execution_count": 37,
      "outputs": [
        {
          "output_type": "stream",
          "text": [
            "Model: \"model_1\"\n",
            "__________________________________________________________________________________________________\n",
            "Layer (type)                    Output Shape         Param #     Connected to                     \n",
            "==================================================================================================\n",
            "input_1 (InputLayer)            (None, 1)            0                                            \n",
            "__________________________________________________________________________________________________\n",
            "input_2 (InputLayer)            (None, 1)            0                                            \n",
            "__________________________________________________________________________________________________\n",
            "embedding_1 (Embedding)         (None, 1, 50)        1610300     input_1[0][0]                    \n",
            "__________________________________________________________________________________________________\n",
            "embedding_2 (Embedding)         (None, 1, 50)        4473650     input_2[0][0]                    \n",
            "__________________________________________________________________________________________________\n",
            "reshape_1 (Reshape)             (None, 50)           0           embedding_1[0][0]                \n",
            "__________________________________________________________________________________________________\n",
            "reshape_2 (Reshape)             (None, 50)           0           embedding_2[0][0]                \n",
            "__________________________________________________________________________________________________\n",
            "dot_1 (Dot)                     (None, 1)            0           reshape_1[0][0]                  \n",
            "                                                                 reshape_2[0][0]                  \n",
            "==================================================================================================\n",
            "Total params: 6,083,950\n",
            "Trainable params: 6,083,950\n",
            "Non-trainable params: 0\n",
            "__________________________________________________________________________________________________\n"
          ],
          "name": "stdout"
        }
      ]
    },
    {
      "cell_type": "code",
      "metadata": {
        "id": "u_biuKW5jw7z",
        "colab_type": "code",
        "colab": {
          "base_uri": "https://localhost:8080/",
          "height": 258
        },
        "outputId": "46d6ca11-5366-4168-f69a-bfdb03d222d1"
      },
      "source": [
        "history = model.fit(x=X_train_array, y=y_train, batch_size=64, epochs=5,\n",
        "                    verbose=1, validation_data=(X_test_array, y_test))"
      ],
      "execution_count": 38,
      "outputs": [
        {
          "output_type": "stream",
          "text": [
            "/usr/local/lib/python3.6/dist-packages/tensorflow/python/framework/indexed_slices.py:434: UserWarning: Converting sparse IndexedSlices to a dense Tensor of unknown shape. This may consume a large amount of memory.\n",
            "  \"Converting sparse IndexedSlices to a dense Tensor of unknown shape. \"\n"
          ],
          "name": "stderr"
        },
        {
          "output_type": "stream",
          "text": [
            "Train on 224484 samples, validate on 24943 samples\n",
            "Epoch 1/5\n",
            "224484/224484 [==============================] - 17s 77us/step - loss: 60.5020 - val_loss: 55.8837\n",
            "Epoch 2/5\n",
            "224484/224484 [==============================] - 15s 68us/step - loss: 43.5761 - val_loss: 40.9181\n",
            "Epoch 3/5\n",
            "224484/224484 [==============================] - 15s 68us/step - loss: 27.0044 - val_loss: 32.5971\n",
            "Epoch 4/5\n",
            "224484/224484 [==============================] - 15s 68us/step - loss: 17.5180 - val_loss: 27.9740\n",
            "Epoch 5/5\n",
            "224484/224484 [==============================] - 15s 68us/step - loss: 12.0156 - val_loss: 25.3070\n"
          ],
          "name": "stdout"
        }
      ]
    },
    {
      "cell_type": "markdown",
      "metadata": {
        "colab_type": "text",
        "id": "iYOw1FLLzE1A"
      },
      "source": [
        "### 4.2 - F.C. sem Deep Learning"
      ]
    },
    {
      "cell_type": "code",
      "metadata": {
        "colab_type": "code",
        "id": "8ScQFionzIi9",
        "colab": {}
      },
      "source": [
        ""
      ],
      "execution_count": 38,
      "outputs": []
    },
    {
      "cell_type": "markdown",
      "metadata": {
        "colab_type": "text",
        "id": "y_vkYu7K5ybt"
      },
      "source": [
        "## 5. Comparativo e análise\n",
        "Verificamos as principais métricas dos dois algoritmos, comparando e identificando diferenças"
      ]
    },
    {
      "cell_type": "code",
      "metadata": {
        "colab_type": "code",
        "id": "r_sgAk2251XD",
        "colab": {}
      },
      "source": [
        ""
      ],
      "execution_count": 38,
      "outputs": []
    },
    {
      "cell_type": "markdown",
      "metadata": {
        "colab_type": "text",
        "id": "l2CDIfXw51o0"
      },
      "source": [
        "## 6. Conclusão\n",
        "Fechamos o trabalho com a percepção final sobre os 2 modelos executados."
      ]
    }
  ]
}